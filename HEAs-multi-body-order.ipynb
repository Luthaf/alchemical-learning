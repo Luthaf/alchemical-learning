{
 "cells": [
  {
   "cell_type": "code",
   "execution_count": 2,
   "metadata": {},
   "outputs": [
    {
     "name": "stdout",
     "output_type": "stream",
     "text": [
      "env: PYTORCH_CUDA_ALLOC_CONF=max_split_size_mb:256\n"
     ]
    }
   ],
   "source": [
    "%load_ext autoreload\n",
    "%autoreload 2\n",
    "%load_ext line_profiler\n",
    "%env PYTORCH_CUDA_ALLOC_CONF=max_split_size_mb:256"
   ]
  },
  {
   "cell_type": "code",
   "execution_count": 3,
   "metadata": {},
   "outputs": [],
   "source": [
    "import copy\n",
    "import cProfile\n",
    "import time\n",
    "\n",
    "import ase.io\n",
    "import matplotlib.pyplot as plt\n",
    "import numpy as np\n",
    "import sklearn.model_selection\n",
    "import torch\n",
    "\n",
    "from utils.combine import CombineRadial, CombineRadialSpecies, CombineSpecies\n",
    "from utils.dataset import AtomisticDataset, create_dataloader\n",
    "from utils.linear import LinearModel\n",
    "from utils.operations import SumStructures, remove_gradient\n",
    "from utils.soap import PowerSpectrum, CompositionFeatures\n",
    "\n",
    "torch.set_default_dtype(torch.float64)"
   ]
  },
  {
   "cell_type": "code",
   "execution_count": 6,
   "metadata": {},
   "outputs": [
    {
     "name": "stdout",
     "output_type": "stream",
     "text": [
      "using 80 training frames\n"
     ]
    }
   ],
   "source": [
    "n_test = 10\n",
    "n_train = 80\n",
    "\n",
    "frames = ase.io.read(\"data/data_shuffle.xyz\", f\":{n_test + n_train}\")\n",
    "\n",
    "train_frames = frames[:n_train]\n",
    "test_frames = frames[-n_test:]\n",
    "\n",
    "train_energies = torch.tensor(\n",
    "    [frame.info[\"energy\"] for frame in train_frames]\n",
    ").reshape(-1, 1).to(dtype=torch.get_default_dtype())\n",
    "\n",
    "test_energies = torch.tensor(\n",
    "    [frame.info[\"energy\"] for frame in test_frames]\n",
    ").reshape(-1, 1).to(dtype=torch.get_default_dtype())\n",
    "\n",
    "train_forces = [\n",
    "    torch.tensor(frame.arrays[\"forces\"]).to(dtype=torch.get_default_dtype())\n",
    "    for frame in train_frames\n",
    "]\n",
    "\n",
    "test_forces = [\n",
    "    torch.tensor(frame.arrays[\"forces\"]).to(dtype=torch.get_default_dtype()) \n",
    "    for frame in test_frames\n",
    "]\n",
    "\n",
    "print(f\"using {n_train} training frames\")"
   ]
  },
  {
   "cell_type": "code",
   "execution_count": 7,
   "metadata": {},
   "outputs": [],
   "source": [
    "all_species = set()\n",
    "for frame in frames:\n",
    "    all_species.update(frame.numbers)\n",
    "\n",
    "all_species = list(map(lambda u: int(u), all_species))\n",
    "\n",
    "# HYPERS_FROM_PAPER = {\n",
    "#     \"interaction_cutoff\": 5.0,\n",
    "#     \"max_angular\": 9,\n",
    "#     \"max_radial\": 12,\n",
    "#     \"gaussian_sigma_constant\": 0.3,\n",
    "#     \"gaussian_sigma_type\": \"Constant\",\n",
    "#     \"cutoff_smooth_width\": 0.5,\n",
    "#     \"radial_basis\": \"GTO\",\n",
    "#     \"compute_gradients\": False,\n",
    "#     \"expansion_by_species_method\": \"user defined\",\n",
    "#     \"global_species\": all_species,\n",
    "# }\n",
    "\n",
    "HYPERS_SMALL = {\n",
    "    \"cutoff\": 4.0,\n",
    "    \"max_angular\": 3,\n",
    "    \"max_radial\": 6,\n",
    "    \"atomic_gaussian_width\": 0.5,\n",
    "    \"cutoff_function\": {\"ShiftedCosine\": {\"width\": 0.5}},\n",
    "    \"radial_basis\": {\"SplinedGto\": {\"accuracy\": 1e-6}},\n",
    "    \"gradients\": False,\n",
    "    \"center_atom_weight\": 1.0,\n",
    "    # # TODO: implement this in rascaline itself\n",
    "    # \"radial_per_angular\": {\n",
    "    #     # l: n\n",
    "    #     0: 10,\n",
    "    #     1: 8,\n",
    "    #     2: 8,\n",
    "    #     3: 4,\n",
    "    #     4: 4,\n",
    "    # }\n",
    "}\n",
    "\n",
    "HYPERS_RADIAL = {\n",
    "    \"cutoff\": 5.0,\n",
    "    \"max_angular\": 0,\n",
    "    \"max_radial\": 10,\n",
    "    \"atomic_gaussian_width\": 0.5,\n",
    "    \"cutoff_function\": {\"ShiftedCosine\": {\"width\": 0.5}},\n",
    "    \"radial_basis\": {\"SplinedGto\": {\"accuracy\": 1e-6}},\n",
    "    \"gradients\": False,\n",
    "    \"center_atom_weight\": 1.0,    \n",
    "}"
   ]
  },
  {
   "cell_type": "markdown",
   "metadata": {},
   "source": [
    "# Optimization loop, energies only"
   ]
  },
  {
   "cell_type": "code",
   "execution_count": 8,
   "metadata": {},
   "outputs": [],
   "source": [
    "device = \"cpu\"\n",
    "\n",
    "#if torch.cuda.is_available():\n",
    "#    device = \"cuda\""
   ]
  },
  {
   "cell_type": "code",
   "execution_count": 9,
   "metadata": {},
   "outputs": [],
   "source": [
    "train_dataset = AtomisticDataset(train_frames, all_species, \n",
    "                                 {\"radial_spectrum\": HYPERS_RADIAL, \"spherical_expansion\":HYPERS_SMALL}, train_energies)\n",
    "test_dataset = AtomisticDataset(test_frames, all_species, \n",
    "                                {\"radial_spectrum\": HYPERS_RADIAL, \"spherical_expansion\":HYPERS_SMALL}, test_energies)"
   ]
  },
  {
   "cell_type": "code",
   "execution_count": 30,
   "metadata": {},
   "outputs": [],
   "source": [
    "do_gradients = False\n",
    "if do_gradients is True:\n",
    "    HYPERS_GRAD = copy.deepcopy(HYPERS_SMALL)\n",
    "    HYPERS_GRAD[\"gradients\"] = do_gradients\n",
    "    HYPERS_RAD_GRAD = copy.deepcopy(HYPERS_RADIAL)\n",
    "    HYPERS_RAD_GRAD[\"gradients\"] = do_gradients\n",
    "    train_dataset_grad = AtomisticDataset(train_frames, all_species, \n",
    "                                          {\"radial_spectrum\": HYPERS_RAD_GRAD, \"spherical_expansion\":HYPERS_GRAD}, \n",
    "                                          train_energies, train_forces)\n",
    "    test_dataset_grad = AtomisticDataset(test_frames, all_species, \n",
    "                                         {\"radial_spectrum\": HYPERS_RAD_GRAD, \"spherical_expansion\":HYPERS_GRAD}, \n",
    "                                         test_energies, test_forces)\n",
    "else:\n",
    "    train_dataset_grad = train_dataset\n",
    "    test_dataset_grad = test_dataset"
   ]
  },
  {
   "cell_type": "code",
   "execution_count": 31,
   "metadata": {},
   "outputs": [],
   "source": [
    "train_dataloader = create_dataloader(\n",
    "    train_dataset,\n",
    "    batch_size=200,\n",
    "    shuffle=True,    \n",
    "    device=device,\n",
    ")\n",
    "\n",
    "train_dataloader_no_batch = create_dataloader(\n",
    "    train_dataset,\n",
    "    batch_size=len(train_dataset),\n",
    "    shuffle=False,\n",
    "    device=device,\n",
    ")\n",
    "\n",
    "train_dataloader_single_frame = create_dataloader(\n",
    "    train_dataset,\n",
    "    batch_size=1,\n",
    "    shuffle=False,\n",
    "    device=device,\n",
    ")\n",
    "\n",
    "test_dataloader = create_dataloader(\n",
    "    test_dataset,\n",
    "    batch_size=200,\n",
    "    shuffle=False,\n",
    "    device=device,\n",
    ")\n",
    "if do_gradients is True:\n",
    "    train_dataloader_grad = create_dataloader(\n",
    "        train_dataset_grad,\n",
    "        batch_size=50,\n",
    "        shuffle=True,\n",
    "        device=device,\n",
    "    )\n",
    "\n",
    "    train_dataloader_grad_no_batch = create_dataloader(\n",
    "        train_dataset_grad,\n",
    "        batch_size=len(train_dataset_grad),\n",
    "        shuffle=False,\n",
    "        device=device,\n",
    "    )\n",
    "\n",
    "    train_dataloader_grad_single_frame = create_dataloader(\n",
    "        train_dataset_grad,\n",
    "        batch_size=1,\n",
    "        shuffle=False,\n",
    "        device=device,\n",
    "    )\n",
    "    \n",
    "    test_dataloader_grad = create_dataloader(\n",
    "        test_dataset_grad,\n",
    "        batch_size=50,\n",
    "        shuffle=False,\n",
    "        device=device,\n",
    "    )\n",
    "else:\n",
    "    train_dataloader_grad_single_frame = train_dataloader_single_frame\n",
    "    train_dataloader_grad = train_dataloader\n",
    "    train_dataloader_grad_no_batch = train_dataloader_no_batch\n",
    "    test_dataloader_grad = test_dataloader"
   ]
  },
  {
   "cell_type": "code",
   "execution_count": 32,
   "metadata": {},
   "outputs": [],
   "source": [
    "def loss_mae(predicted, actual):\n",
    "    return torch.sum(torch.abs(predicted.flatten() - actual.flatten()))\n",
    "\n",
    "def loss_mse(predicted, actual):\n",
    "    return torch.sum((predicted.flatten() - actual.flatten())**2)\n",
    "\n",
    "def loss_rmse(predicted, actual):\n",
    "    return np.sqrt(loss_mse(predicted, actual))"
   ]
  },
  {
   "cell_type": "code",
   "execution_count": 33,
   "metadata": {},
   "outputs": [],
   "source": [
    "class CombinedPowerSpectrum(torch.nn.Module):\n",
    "    def __init__(self, combiner):\n",
    "        super().__init__()\n",
    "\n",
    "        self.combiner = combiner\n",
    "        self.power_spectrum = PowerSpectrum()\n",
    "\n",
    "    def forward(self, spherical_expansion):\n",
    "        combined = self.combiner(spherical_expansion)\n",
    "\n",
    "        return self.power_spectrum(combined)\n",
    "\n",
    "        \n",
    "class MultiBodyOrderModel(torch.nn.Module):\n",
    "    def __init__(\n",
    "        self, \n",
    "        power_spectrum,\n",
    "        composition_regularizer,\n",
    "        radial_spectrum_regularizer,\n",
    "        power_spectrum_regularizer,        \n",
    "        optimizable_weights,\n",
    "        random_initial_weights,\n",
    "    ):\n",
    "        super().__init__()\n",
    "\n",
    "        self.sum_structure = SumStructures()\n",
    "\n",
    "        # optimizable_weights = False is not very well tested ...\n",
    "        assert optimizable_weights\n",
    "\n",
    "        if composition_regularizer is None:\n",
    "            self.composition_model = None\n",
    "        else:\n",
    "            self.composition_model=LinearModel(\n",
    "            regularizer=composition_regularizer,\n",
    "            optimizable_weights=optimizable_weights,\n",
    "            random_initial_weights=random_initial_weights,\n",
    "        )\n",
    "        \n",
    "        if radial_spectrum_regularizer is None:\n",
    "            self.radial_spectrum_model = None\n",
    "        else:\n",
    "            self.radial_spectrum_model = LinearModel(\n",
    "                regularizer=radial_spectrum_regularizer,\n",
    "                optimizable_weights=optimizable_weights,\n",
    "                random_initial_weights=random_initial_weights,\n",
    "            )\n",
    "\n",
    "        if power_spectrum_regularizer is None:\n",
    "            self.power_spectrum_model = None\n",
    "        else:\n",
    "            self.power_spectrum = power_spectrum\n",
    "            self.power_spectrum_model = LinearModel(\n",
    "                regularizer=power_spectrum_regularizer,\n",
    "                optimizable_weights=optimizable_weights,\n",
    "                random_initial_weights=random_initial_weights,\n",
    "            )\n",
    "\n",
    "        self.combiner = combiner, \n",
    "        self.optimizable_weights = optimizable_weights\n",
    "        self.random_initial_weights = random_initial_weights\n",
    "\n",
    "    def forward(self, composition, radial_spectrum, spherical_expansion, forward_forces=False):\n",
    "        if not forward_forces:\n",
    "            # remove gradients if we don't need them\n",
    "            spherical_expansion = remove_gradient(spherical_expansion)\n",
    "            if radial_spectrum is not None:\n",
    "                radial_spectrum = remove_gradient(radial_spectrum)                \n",
    "    \n",
    "        energies, forces = None, None\n",
    "        \n",
    "        if self.composition_model is not None:\n",
    "            energies_cmp, _ = self.composition_model(composition)\n",
    "            energies = energies_cmp\n",
    "            forces = None\n",
    "    \n",
    "        if self.radial_spectrum_model is not None:\n",
    "            radial_spectrum_per_structure = radial_spectrum #self.sum_structure(radial_spectrum)\n",
    "            energies_rs, forces_rs = self.radial_spectrum_model(radial_spectrum_per_structure, with_forces=forward_forces)\n",
    "            \n",
    "            if energies is None:\n",
    "                energies = energies_rs  \n",
    "            else:\n",
    "                energies += energies_rs              \n",
    "            if forces_rs is not None:\n",
    "                if forces is None:\n",
    "                    forces = forces_rs\n",
    "                else:\n",
    "                    forces += forces_rs\n",
    "\n",
    "        if self.power_spectrum_model is not None:\n",
    "            power_spectrum = self.power_spectrum(spherical_expansion)\n",
    "            power_spectrum_per_structure = self.sum_structure(power_spectrum)\n",
    "\n",
    "            energies_ps, forces_ps = self.power_spectrum_model(power_spectrum_per_structure, with_forces=forward_forces)\n",
    "            if energies is None:\n",
    "                energies = energies_ps\n",
    "            else:\n",
    "                energies += energies_ps\n",
    "            if forces_ps is not None:\n",
    "                if forces is None:\n",
    "                    forces = forces_ps\n",
    "                else:\n",
    "                    forces += forces_ps\n",
    "        \n",
    "        return energies, forces\n",
    "\n",
    "    def initialize_model_weights(self, composition, radial_spectrum, spherical_expansion, energies, forces=None, seed=None):\n",
    "        if forces is None:\n",
    "            # remove gradients if we don't need them\n",
    "            spherical_expansion = remove_gradient(spherical_expansion)\n",
    "            if radial_spectrum is not None:\n",
    "                radial_spectrum = remove_gradient(radial_spectrum)\n",
    "            \n",
    "        if self.composition_model is not None:\n",
    "            self.composition_model.initialize_model_weights(composition, energies, forces, seed)\n",
    "        \n",
    "        if self.radial_spectrum_model is not None:\n",
    "            radial_spectrum_per_structure = self.sum_structure(radial_spectrum)\n",
    "            self.radial_spectrum_model.initialize_model_weights(radial_spectrum_per_structure, energies, forces, seed)\n",
    "        \n",
    "        if self.power_spectrum_model is not None:        \n",
    "            power_spectrum = self.power_spectrum(spherical_expansion)\n",
    "            power_spectrum_per_structure = self.sum_structure(power_spectrum)\n",
    "            self.power_spectrum_model.initialize_model_weights(power_spectrum_per_structure, energies, forces, seed)"
   ]
  },
  {
   "cell_type": "code",
   "execution_count": 34,
   "metadata": {},
   "outputs": [],
   "source": [
    "# species combination only\n",
    "N_PSEUDO_SPECIES = 4\n",
    "combiner = CombineSpecies(species=all_species, n_pseudo_species=N_PSEUDO_SPECIES)\n",
    "\n",
    "# # species combination and then radial basis combination\n",
    "# N_COMBINED_RADIAL = 4\n",
    "# combiner = torch.nn.Sequential(\n",
    "#     CombineSpecies(species=all_species, n_pseudo_species=N_PSEUDO_SPECIES),\n",
    "#     CombineRadial(max_radial=HYPERS_SMALL[\"max_radial\"], n_combined_radial=N_COMBINED_RADIAL),\n",
    "# )\n",
    "\n",
    "# # combine both radial and species information at the same time\n",
    "# combiner = CombineRadialSpecies(\n",
    "#     n_species=len(all_species), \n",
    "#     max_radial=HYPERS_SMALL[\"max_radial\"], \n",
    "#     n_combined_basis=N_COMBINED_RADIAL*N_PSEUDO_SPECIES,\n",
    "# )\n",
    "\n",
    "composition=CompositionFeatures(all_species, device=device)\n",
    "power_spectrum = CombinedPowerSpectrum(combiner)\n",
    "\n",
    "LINALG_REGULARIZER_ENERGIES = 1e-2\n",
    "LINALG_REGULARIZER_FORCES = 1e-1\n",
    "\n",
    "model = MultiBodyOrderModel(\n",
    "    power_spectrum=power_spectrum, \n",
    "    composition_regularizer=[1e-10],\n",
    "    radial_spectrum_regularizer=[LINALG_REGULARIZER_ENERGIES, LINALG_REGULARIZER_FORCES],\n",
    "    power_spectrum_regularizer=[LINALG_REGULARIZER_ENERGIES, LINALG_REGULARIZER_FORCES],\n",
    "    optimizable_weights=True, \n",
    "    random_initial_weights=True,\n",
    ")"
   ]
  },
  {
   "cell_type": "code",
   "execution_count": 35,
   "metadata": {},
   "outputs": [],
   "source": [
    "if model.optimizable_weights:\n",
    "    TORCH_REGULARIZER_COMPOSITION = 1e-8\n",
    "    TORCH_REGULARIZER_RADIAL_SPECTRUM = 1e-4\n",
    "    TORCH_REGULARIZER_POWER_SPECTRUM = 1e-3\n",
    "else:\n",
    "    TORCH_REGULARIZER_RADIAL_SPECTRUM = 0.0\n",
    "    TORCH_REGULARIZER_POWER_SPECTRUM = 0.0"
   ]
  },
  {
   "cell_type": "code",
   "execution_count": 36,
   "metadata": {},
   "outputs": [
    {
     "data": {
      "text/plain": [
       "MultiBodyOrderModel(\n",
       "  (sum_structure): SumStructures()\n",
       "  (composition_model): LinearModel()\n",
       "  (radial_spectrum_model): LinearModel()\n",
       "  (power_spectrum): CombinedPowerSpectrum(\n",
       "    (combiner): CombineSpecies()\n",
       "    (power_spectrum): PowerSpectrum()\n",
       "  )\n",
       "  (power_spectrum_model): LinearModel()\n",
       ")"
      ]
     },
     "execution_count": 36,
     "metadata": {},
     "output_type": "execute_result"
    }
   ],
   "source": [
    "model.to(device=device, dtype=torch.get_default_dtype())"
   ]
  },
  {
   "cell_type": "code",
   "execution_count": 37,
   "metadata": {},
   "outputs": [],
   "source": [
    "if model.random_initial_weights:\n",
    "    dataloader_initialization = train_dataloader_grad_single_frame\n",
    "else:\n",
    "    dataloader_initialization = train_dataloader_no_batch"
   ]
  },
  {
   "cell_type": "code",
   "execution_count": 38,
   "metadata": {},
   "outputs": [],
   "source": [
    "# initialize the model\n",
    "with torch.no_grad():\n",
    "    for composition, radial_spectrum, spherical_expansions, energies, forces in dataloader_initialization:\n",
    "        # we want to intially train the model on all frames, to ensure the\n",
    "        # support points come from the full dataset.\n",
    "        model.initialize_model_weights(composition, radial_spectrum, spherical_expansions, energies, forces, seed=12345)\n",
    "        break\n",
    "\n",
    "del radial_spectrum, spherical_expansions"
   ]
  },
  {
   "cell_type": "code",
   "execution_count": 39,
   "metadata": {},
   "outputs": [
    {
     "ename": "KeyError",
     "evalue": "'active_bytes.all.current'",
     "output_type": "error",
     "traceback": [
      "\u001b[0;31m---------------------------------------------------------------------------\u001b[0m",
      "\u001b[0;31mKeyError\u001b[0m                                  Traceback (most recent call last)",
      "\u001b[0;32m<ipython-input-39-95a1def1732e>\u001b[0m in \u001b[0;36m<module>\u001b[0;34m\u001b[0m\n\u001b[0;32m----> 1\u001b[0;31m \u001b[0mtorch\u001b[0m\u001b[0;34m.\u001b[0m\u001b[0mcuda\u001b[0m\u001b[0;34m.\u001b[0m\u001b[0mmemory_stats\u001b[0m\u001b[0;34m(\u001b[0m\u001b[0;34m)\u001b[0m\u001b[0;34m[\u001b[0m\u001b[0;34m'active_bytes.all.current'\u001b[0m\u001b[0;34m]\u001b[0m\u001b[0;34m/\u001b[0m\u001b[0;36m1e6\u001b[0m\u001b[0;34m\u001b[0m\u001b[0;34m\u001b[0m\u001b[0m\n\u001b[0m",
      "\u001b[0;31mKeyError\u001b[0m: 'active_bytes.all.current'"
     ]
    }
   ],
   "source": [
    "torch.cuda.memory_stats()['active_bytes.all.current']/1e6"
   ]
  },
  {
   "cell_type": "code",
   "execution_count": 38,
   "metadata": {},
   "outputs": [
    {
     "ename": "KeyError",
     "evalue": "'allocated_bytes.all.current'",
     "output_type": "error",
     "traceback": [
      "\u001b[0;31m---------------------------------------------------------------------------\u001b[0m",
      "\u001b[0;31mKeyError\u001b[0m                                  Traceback (most recent call last)",
      "\u001b[0;32m<ipython-input-38-38d5cb4c7560>\u001b[0m in \u001b[0;36m<module>\u001b[0;34m\u001b[0m\n\u001b[0;32m----> 1\u001b[0;31m \u001b[0mtorch\u001b[0m\u001b[0;34m.\u001b[0m\u001b[0mcuda\u001b[0m\u001b[0;34m.\u001b[0m\u001b[0mmemory_stats\u001b[0m\u001b[0;34m(\u001b[0m\u001b[0;34m)\u001b[0m\u001b[0;34m[\u001b[0m\u001b[0;34m'allocated_bytes.all.current'\u001b[0m\u001b[0;34m]\u001b[0m\u001b[0;34m/\u001b[0m\u001b[0;36m1e6\u001b[0m\u001b[0;34m\u001b[0m\u001b[0;34m\u001b[0m\u001b[0m\n\u001b[0m",
      "\u001b[0;31mKeyError\u001b[0m: 'allocated_bytes.all.current'"
     ]
    }
   ],
   "source": [
    "torch.cuda.memory_stats()['allocated_bytes.all.current']/1e6"
   ]
  },
  {
   "cell_type": "code",
   "execution_count": 39,
   "metadata": {},
   "outputs": [
    {
     "ename": "KeyError",
     "evalue": "'reserved_bytes.all.current'",
     "output_type": "error",
     "traceback": [
      "\u001b[0;31m---------------------------------------------------------------------------\u001b[0m",
      "\u001b[0;31mKeyError\u001b[0m                                  Traceback (most recent call last)",
      "\u001b[0;32m<ipython-input-39-857b37fe3c5b>\u001b[0m in \u001b[0;36m<module>\u001b[0;34m\u001b[0m\n\u001b[0;32m----> 1\u001b[0;31m \u001b[0mtorch\u001b[0m\u001b[0;34m.\u001b[0m\u001b[0mcuda\u001b[0m\u001b[0;34m.\u001b[0m\u001b[0mmemory_stats\u001b[0m\u001b[0;34m(\u001b[0m\u001b[0;34m)\u001b[0m\u001b[0;34m[\u001b[0m\u001b[0;34m'reserved_bytes.all.current'\u001b[0m\u001b[0;34m]\u001b[0m\u001b[0;34m/\u001b[0m\u001b[0;36m1e6\u001b[0m\u001b[0;34m\u001b[0m\u001b[0;34m\u001b[0m\u001b[0m\n\u001b[0m",
      "\u001b[0;31mKeyError\u001b[0m: 'reserved_bytes.all.current'"
     ]
    }
   ],
   "source": [
    "torch.cuda.memory_stats()['reserved_bytes.all.current']/1e6"
   ]
  },
  {
   "cell_type": "code",
   "execution_count": 18,
   "metadata": {},
   "outputs": [],
   "source": [
    "lr = 0.2\n",
    "# optimizer = torch.optim.AdamW(model.parameters(), lr=lr, weight_decay=0.0)\n",
    "optimizer = torch.optim.LBFGS(model.parameters(), lr=lr, line_search_fn=\"strong_wolfe\", history_size=128)"
   ]
  },
  {
   "cell_type": "code",
   "execution_count": 40,
   "metadata": {},
   "outputs": [],
   "source": [
    "lr = 0.1\n",
    "# optimizer = torch.optim.AdamW(model.parameters(), lr=lr, weight_decay=0.0)\n",
    "optimizer = torch.optim.LBFGS(model.parameters(), lr=lr)#, line_search_fn=\"strong_wolfe\", history_size=128)\n",
    "\n",
    "all_losses = []\n",
    "all_tests=[]\n",
    "\n",
    "filename = f\"{model.__class__.__name__}-{N_PSEUDO_SPECIES}-mixed-{n_train}-train\"\n",
    "if model.optimizable_weights:\n",
    "    filename += \"-opt-weights\"\n",
    "\n",
    "if model.random_initial_weights:\n",
    "    filename += \"-random-weights\"\n",
    "\n",
    "output = open(f\"{filename}.dat\", \"w\")\n",
    "output.write(\"# epoch  train_loss  test_mae\\n\")\n",
    "n_epochs_total = 0"
   ]
  },
  {
   "cell_type": "code",
   "execution_count": 41,
   "metadata": {},
   "outputs": [],
   "source": [
    "sum(p.detach().cpu().numpy().nbytes for p in model.parameters())\n",
    "train_dataset._collatetime = 0"
   ]
  },
  {
   "cell_type": "code",
   "execution_count": 42,
   "metadata": {},
   "outputs": [
    {
     "name": "stdout",
     "output_type": "stream",
     "text": [
      "372366.37194970076 9996.671220119453\n",
      "370816.4600743926 9978.728065488705\n",
      "351066.4200101352 9744.61380110475\n",
      "332718.6172095776 9517.33672912287\n",
      "315043.74871615146 9288.653572533103\n",
      "297547.88173821924 9051.765519479928\n",
      "279413.4184596357 8793.915888553567\n",
      "259343.504392812 8491.930009590811\n",
      "235283.209541913 8102.6206269841705\n",
      "204838.8612149793 7553.528509845491\n",
      "171559.69219868092 6835.197142494225\n",
      "150922.12949823312 6271.74369738737\n",
      "138809.25723736588 5888.640718141889\n",
      "125411.77271784184 5430.38464902875\n",
      "108572.31766946118 4780.972903403403\n",
      "95672.96686310011 4209.002641563283\n",
      "87509.91736368637 3827.1503117012494\n",
      "79895.66523129515 3475.9113880456666\n",
      "71161.84554853276 3072.1920922872896\n",
      "62072.86168253178 2641.445525582542\n",
      "norms 2.087084260419462 45.42637575438498 28.045127225808628\n",
      "gradients 2641.445525582542 2670.692489076875 16145.8088587637\n",
      "epoch 0 took 3.961s, optimizer loss=3.724e+05, test mae=226.1\n",
      "54188.81817410659 2263.5471510851057\n",
      "47704.47729225265 1965.2671174040931\n",
      "41666.259181110574 1713.6067862975337\n",
      "34855.479905400054 1460.8091667939786\n",
      "26843.27604915354 1185.1914139347293\n",
      "21290.646789151095 1000.8759541444509\n",
      "18612.379096368866 915.6359836169529\n",
      "16622.643626417474 852.2037118723971\n",
      "14797.484775145816 791.170481162949\n",
      "13102.262857748165 730.0073101436791\n",
      "11553.011476390915 668.6672345092877\n",
      "10148.181934214683 607.0121029581064\n",
      "8889.059830458464 545.429718382739\n",
      "7784.25292895575 485.5281413915889\n",
      "6841.393812960543 429.89955666874323\n",
      "6054.201133835291 381.4466644340757\n",
      "5394.497195259189 338.7492437240098\n",
      "4752.424001204825 305.034794715817\n",
      "4299.318076002239 270.4267674100337\n",
      "3941.3532784519534 250.0178405930356\n",
      "norms 1.5847528256967767 45.13651384856173 28.42650268617331\n",
      "gradients 250.0178405930356 404.8201337755624 1592.7158996000303\n",
      "epoch 1 took 4.171s, optimizer loss=5.419e+04, test mae=56.31\n",
      "3589.2994279447944 215.94662931993875\n",
      "3226.0463241156035 201.1695053084395\n",
      "2921.2826131490274 174.88022256798794\n",
      "2668.7669667253513 155.62976524946382\n",
      "2430.221744273077 141.44596797672426\n",
      "2236.2000032018864 123.9039067746635\n",
      "2072.3526807005014 113.04482052067962\n",
      "1909.4193537521767 102.14128359891095\n",
      "1768.7194692978906 91.61399857356479\n",
      "1644.3066114074384 82.0342636369999\n",
      "1541.1988618490261 76.54209500581001\n",
      "1442.9089344851857 68.68441574539284\n",
      "1357.5206023875778 65.69801663264724\n",
      "1269.6727199369452 57.86950880580738\n"
     ]
    },
    {
     "ename": "KeyboardInterrupt",
     "evalue": "",
     "output_type": "error",
     "traceback": [
      "\u001b[0;31m---------------------------------------------------------------------------\u001b[0m",
      "\u001b[0;31mKeyboardInterrupt\u001b[0m                         Traceback (most recent call last)",
      "\u001b[0;32m<ipython-input-42-00b38c6c6690>\u001b[0m in \u001b[0;36m<module>\u001b[0;34m\u001b[0m\n\u001b[1;32m     37\u001b[0m         \u001b[0;32mreturn\u001b[0m \u001b[0mloss\u001b[0m\u001b[0;34m\u001b[0m\u001b[0;34m\u001b[0m\u001b[0m\n\u001b[1;32m     38\u001b[0m \u001b[0;34m\u001b[0m\u001b[0m\n\u001b[0;32m---> 39\u001b[0;31m     \u001b[0mloss\u001b[0m \u001b[0;34m=\u001b[0m \u001b[0moptimizer\u001b[0m\u001b[0;34m.\u001b[0m\u001b[0mstep\u001b[0m\u001b[0;34m(\u001b[0m\u001b[0msingle_step\u001b[0m\u001b[0;34m)\u001b[0m\u001b[0;34m\u001b[0m\u001b[0;34m\u001b[0m\u001b[0m\n\u001b[0m\u001b[1;32m     40\u001b[0m     \u001b[0mloss\u001b[0m \u001b[0;34m=\u001b[0m \u001b[0mloss\u001b[0m\u001b[0;34m.\u001b[0m\u001b[0mitem\u001b[0m\u001b[0;34m(\u001b[0m\u001b[0;34m)\u001b[0m\u001b[0;34m\u001b[0m\u001b[0;34m\u001b[0m\u001b[0m\n\u001b[1;32m     41\u001b[0m     \u001b[0mall_losses\u001b[0m\u001b[0;34m.\u001b[0m\u001b[0mappend\u001b[0m\u001b[0;34m(\u001b[0m\u001b[0mloss\u001b[0m\u001b[0;34m)\u001b[0m\u001b[0;34m\u001b[0m\u001b[0;34m\u001b[0m\u001b[0m\n",
      "\u001b[0;32m~/local/lib/python3.8/site-packages/torch/optim/optimizer.py\u001b[0m in \u001b[0;36mwrapper\u001b[0;34m(*args, **kwargs)\u001b[0m\n\u001b[1;32m     86\u001b[0m                 \u001b[0mprofile_name\u001b[0m \u001b[0;34m=\u001b[0m \u001b[0;34m\"Optimizer.step#{}.step\"\u001b[0m\u001b[0;34m.\u001b[0m\u001b[0mformat\u001b[0m\u001b[0;34m(\u001b[0m\u001b[0mobj\u001b[0m\u001b[0;34m.\u001b[0m\u001b[0m__class__\u001b[0m\u001b[0;34m.\u001b[0m\u001b[0m__name__\u001b[0m\u001b[0;34m)\u001b[0m\u001b[0;34m\u001b[0m\u001b[0;34m\u001b[0m\u001b[0m\n\u001b[1;32m     87\u001b[0m                 \u001b[0;32mwith\u001b[0m \u001b[0mtorch\u001b[0m\u001b[0;34m.\u001b[0m\u001b[0mautograd\u001b[0m\u001b[0;34m.\u001b[0m\u001b[0mprofiler\u001b[0m\u001b[0;34m.\u001b[0m\u001b[0mrecord_function\u001b[0m\u001b[0;34m(\u001b[0m\u001b[0mprofile_name\u001b[0m\u001b[0;34m)\u001b[0m\u001b[0;34m:\u001b[0m\u001b[0;34m\u001b[0m\u001b[0;34m\u001b[0m\u001b[0m\n\u001b[0;32m---> 88\u001b[0;31m                     \u001b[0;32mreturn\u001b[0m \u001b[0mfunc\u001b[0m\u001b[0;34m(\u001b[0m\u001b[0;34m*\u001b[0m\u001b[0margs\u001b[0m\u001b[0;34m,\u001b[0m \u001b[0;34m**\u001b[0m\u001b[0mkwargs\u001b[0m\u001b[0;34m)\u001b[0m\u001b[0;34m\u001b[0m\u001b[0;34m\u001b[0m\u001b[0m\n\u001b[0m\u001b[1;32m     89\u001b[0m             \u001b[0;32mreturn\u001b[0m \u001b[0mwrapper\u001b[0m\u001b[0;34m\u001b[0m\u001b[0;34m\u001b[0m\u001b[0m\n\u001b[1;32m     90\u001b[0m \u001b[0;34m\u001b[0m\u001b[0m\n",
      "\u001b[0;32m~/local/lib/python3.8/site-packages/torch/autograd/grad_mode.py\u001b[0m in \u001b[0;36mdecorate_context\u001b[0;34m(*args, **kwargs)\u001b[0m\n\u001b[1;32m     26\u001b[0m         \u001b[0;32mdef\u001b[0m \u001b[0mdecorate_context\u001b[0m\u001b[0;34m(\u001b[0m\u001b[0;34m*\u001b[0m\u001b[0margs\u001b[0m\u001b[0;34m,\u001b[0m \u001b[0;34m**\u001b[0m\u001b[0mkwargs\u001b[0m\u001b[0;34m)\u001b[0m\u001b[0;34m:\u001b[0m\u001b[0;34m\u001b[0m\u001b[0;34m\u001b[0m\u001b[0m\n\u001b[1;32m     27\u001b[0m             \u001b[0;32mwith\u001b[0m \u001b[0mself\u001b[0m\u001b[0;34m.\u001b[0m\u001b[0m__class__\u001b[0m\u001b[0;34m(\u001b[0m\u001b[0;34m)\u001b[0m\u001b[0;34m:\u001b[0m\u001b[0;34m\u001b[0m\u001b[0;34m\u001b[0m\u001b[0m\n\u001b[0;32m---> 28\u001b[0;31m                 \u001b[0;32mreturn\u001b[0m \u001b[0mfunc\u001b[0m\u001b[0;34m(\u001b[0m\u001b[0;34m*\u001b[0m\u001b[0margs\u001b[0m\u001b[0;34m,\u001b[0m \u001b[0;34m**\u001b[0m\u001b[0mkwargs\u001b[0m\u001b[0;34m)\u001b[0m\u001b[0;34m\u001b[0m\u001b[0;34m\u001b[0m\u001b[0m\n\u001b[0m\u001b[1;32m     29\u001b[0m         \u001b[0;32mreturn\u001b[0m \u001b[0mcast\u001b[0m\u001b[0;34m(\u001b[0m\u001b[0mF\u001b[0m\u001b[0;34m,\u001b[0m \u001b[0mdecorate_context\u001b[0m\u001b[0;34m)\u001b[0m\u001b[0;34m\u001b[0m\u001b[0;34m\u001b[0m\u001b[0m\n\u001b[1;32m     30\u001b[0m \u001b[0;34m\u001b[0m\u001b[0m\n",
      "\u001b[0;32m~/local/lib/python3.8/site-packages/torch/optim/lbfgs.py\u001b[0m in \u001b[0;36mstep\u001b[0;34m(self, closure)\u001b[0m\n\u001b[1;32m    435\u001b[0m                     \u001b[0;31m# no use to re-evaluate that function here\u001b[0m\u001b[0;34m\u001b[0m\u001b[0;34m\u001b[0m\u001b[0;34m\u001b[0m\u001b[0m\n\u001b[1;32m    436\u001b[0m                     \u001b[0;32mwith\u001b[0m \u001b[0mtorch\u001b[0m\u001b[0;34m.\u001b[0m\u001b[0menable_grad\u001b[0m\u001b[0;34m(\u001b[0m\u001b[0;34m)\u001b[0m\u001b[0;34m:\u001b[0m\u001b[0;34m\u001b[0m\u001b[0;34m\u001b[0m\u001b[0m\n\u001b[0;32m--> 437\u001b[0;31m                         \u001b[0mloss\u001b[0m \u001b[0;34m=\u001b[0m \u001b[0mfloat\u001b[0m\u001b[0;34m(\u001b[0m\u001b[0mclosure\u001b[0m\u001b[0;34m(\u001b[0m\u001b[0;34m)\u001b[0m\u001b[0;34m)\u001b[0m\u001b[0;34m\u001b[0m\u001b[0;34m\u001b[0m\u001b[0m\n\u001b[0m\u001b[1;32m    438\u001b[0m                     \u001b[0mflat_grad\u001b[0m \u001b[0;34m=\u001b[0m \u001b[0mself\u001b[0m\u001b[0;34m.\u001b[0m\u001b[0m_gather_flat_grad\u001b[0m\u001b[0;34m(\u001b[0m\u001b[0;34m)\u001b[0m\u001b[0;34m\u001b[0m\u001b[0;34m\u001b[0m\u001b[0m\n\u001b[1;32m    439\u001b[0m                     \u001b[0mopt_cond\u001b[0m \u001b[0;34m=\u001b[0m \u001b[0mflat_grad\u001b[0m\u001b[0;34m.\u001b[0m\u001b[0mabs\u001b[0m\u001b[0;34m(\u001b[0m\u001b[0;34m)\u001b[0m\u001b[0;34m.\u001b[0m\u001b[0mmax\u001b[0m\u001b[0;34m(\u001b[0m\u001b[0;34m)\u001b[0m \u001b[0;34m<=\u001b[0m \u001b[0mtolerance_grad\u001b[0m\u001b[0;34m\u001b[0m\u001b[0;34m\u001b[0m\u001b[0m\n",
      "\u001b[0;32m~/local/lib/python3.8/site-packages/torch/autograd/grad_mode.py\u001b[0m in \u001b[0;36mdecorate_context\u001b[0;34m(*args, **kwargs)\u001b[0m\n\u001b[1;32m     26\u001b[0m         \u001b[0;32mdef\u001b[0m \u001b[0mdecorate_context\u001b[0m\u001b[0;34m(\u001b[0m\u001b[0;34m*\u001b[0m\u001b[0margs\u001b[0m\u001b[0;34m,\u001b[0m \u001b[0;34m**\u001b[0m\u001b[0mkwargs\u001b[0m\u001b[0;34m)\u001b[0m\u001b[0;34m:\u001b[0m\u001b[0;34m\u001b[0m\u001b[0;34m\u001b[0m\u001b[0m\n\u001b[1;32m     27\u001b[0m             \u001b[0;32mwith\u001b[0m \u001b[0mself\u001b[0m\u001b[0;34m.\u001b[0m\u001b[0m__class__\u001b[0m\u001b[0;34m(\u001b[0m\u001b[0;34m)\u001b[0m\u001b[0;34m:\u001b[0m\u001b[0;34m\u001b[0m\u001b[0;34m\u001b[0m\u001b[0m\n\u001b[0;32m---> 28\u001b[0;31m                 \u001b[0;32mreturn\u001b[0m \u001b[0mfunc\u001b[0m\u001b[0;34m(\u001b[0m\u001b[0;34m*\u001b[0m\u001b[0margs\u001b[0m\u001b[0;34m,\u001b[0m \u001b[0;34m**\u001b[0m\u001b[0mkwargs\u001b[0m\u001b[0;34m)\u001b[0m\u001b[0;34m\u001b[0m\u001b[0;34m\u001b[0m\u001b[0m\n\u001b[0m\u001b[1;32m     29\u001b[0m         \u001b[0;32mreturn\u001b[0m \u001b[0mcast\u001b[0m\u001b[0;34m(\u001b[0m\u001b[0mF\u001b[0m\u001b[0;34m,\u001b[0m \u001b[0mdecorate_context\u001b[0m\u001b[0;34m)\u001b[0m\u001b[0;34m\u001b[0m\u001b[0;34m\u001b[0m\u001b[0m\n\u001b[1;32m     30\u001b[0m \u001b[0;34m\u001b[0m\u001b[0m\n",
      "\u001b[0;32m<ipython-input-42-00b38c6c6690>\u001b[0m in \u001b[0;36msingle_step\u001b[0;34m()\u001b[0m\n\u001b[1;32m     14\u001b[0m         \u001b[0mloss\u001b[0m \u001b[0;34m=\u001b[0m \u001b[0mtorch\u001b[0m\u001b[0;34m.\u001b[0m\u001b[0mzeros\u001b[0m\u001b[0;34m(\u001b[0m\u001b[0msize\u001b[0m\u001b[0;34m=\u001b[0m\u001b[0;34m(\u001b[0m\u001b[0;36m1\u001b[0m\u001b[0;34m,\u001b[0m\u001b[0;34m)\u001b[0m\u001b[0;34m,\u001b[0m \u001b[0mdevice\u001b[0m\u001b[0;34m=\u001b[0m\u001b[0mdevice\u001b[0m\u001b[0;34m)\u001b[0m\u001b[0;34m\u001b[0m\u001b[0;34m\u001b[0m\u001b[0m\n\u001b[1;32m     15\u001b[0m         \u001b[0;32mif\u001b[0m \u001b[0mhimem\u001b[0m\u001b[0;34m:\u001b[0m\u001b[0;34m\u001b[0m\u001b[0;34m\u001b[0m\u001b[0m\n\u001b[0;32m---> 16\u001b[0;31m             \u001b[0mpredicted\u001b[0m\u001b[0;34m,\u001b[0m \u001b[0m_\u001b[0m \u001b[0;34m=\u001b[0m \u001b[0mmodel\u001b[0m\u001b[0;34m(\u001b[0m\u001b[0mcomposition\u001b[0m\u001b[0;34m,\u001b[0m \u001b[0mradial_spectrum\u001b[0m\u001b[0;34m,\u001b[0m \u001b[0mspherical_expansions\u001b[0m\u001b[0;34m,\u001b[0m \u001b[0mforward_forces\u001b[0m\u001b[0;34m=\u001b[0m\u001b[0;32mFalse\u001b[0m\u001b[0;34m)\u001b[0m\u001b[0;34m\u001b[0m\u001b[0;34m\u001b[0m\u001b[0m\n\u001b[0m\u001b[1;32m     17\u001b[0m             \u001b[0mloss\u001b[0m \u001b[0;34m+=\u001b[0m \u001b[0mloss_mse\u001b[0m\u001b[0;34m(\u001b[0m\u001b[0mpredicted\u001b[0m\u001b[0;34m,\u001b[0m \u001b[0menergies\u001b[0m\u001b[0;34m)\u001b[0m\u001b[0;34m\u001b[0m\u001b[0;34m\u001b[0m\u001b[0m\n\u001b[1;32m     18\u001b[0m         \u001b[0;32melse\u001b[0m\u001b[0;34m:\u001b[0m\u001b[0;34m\u001b[0m\u001b[0;34m\u001b[0m\u001b[0m\n",
      "\u001b[0;32m~/local/lib/python3.8/site-packages/torch/nn/modules/module.py\u001b[0m in \u001b[0;36m_call_impl\u001b[0;34m(self, *input, **kwargs)\u001b[0m\n\u001b[1;32m   1100\u001b[0m         if not (self._backward_hooks or self._forward_hooks or self._forward_pre_hooks or _global_backward_hooks\n\u001b[1;32m   1101\u001b[0m                 or _global_forward_hooks or _global_forward_pre_hooks):\n\u001b[0;32m-> 1102\u001b[0;31m             \u001b[0;32mreturn\u001b[0m \u001b[0mforward_call\u001b[0m\u001b[0;34m(\u001b[0m\u001b[0;34m*\u001b[0m\u001b[0minput\u001b[0m\u001b[0;34m,\u001b[0m \u001b[0;34m**\u001b[0m\u001b[0mkwargs\u001b[0m\u001b[0;34m)\u001b[0m\u001b[0;34m\u001b[0m\u001b[0;34m\u001b[0m\u001b[0m\n\u001b[0m\u001b[1;32m   1103\u001b[0m         \u001b[0;31m# Do not call functions when jit is used\u001b[0m\u001b[0;34m\u001b[0m\u001b[0;34m\u001b[0m\u001b[0;34m\u001b[0m\u001b[0m\n\u001b[1;32m   1104\u001b[0m         \u001b[0mfull_backward_hooks\u001b[0m\u001b[0;34m,\u001b[0m \u001b[0mnon_full_backward_hooks\u001b[0m \u001b[0;34m=\u001b[0m \u001b[0;34m[\u001b[0m\u001b[0;34m]\u001b[0m\u001b[0;34m,\u001b[0m \u001b[0;34m[\u001b[0m\u001b[0;34m]\u001b[0m\u001b[0;34m\u001b[0m\u001b[0;34m\u001b[0m\u001b[0m\n",
      "\u001b[0;32m<ipython-input-33-f8aba09e3ed8>\u001b[0m in \u001b[0;36mforward\u001b[0;34m(self, composition, radial_spectrum, spherical_expansion, forward_forces)\u001b[0m\n\u001b[1;32m     90\u001b[0m \u001b[0;34m\u001b[0m\u001b[0m\n\u001b[1;32m     91\u001b[0m         \u001b[0;32mif\u001b[0m \u001b[0mself\u001b[0m\u001b[0;34m.\u001b[0m\u001b[0mpower_spectrum_model\u001b[0m \u001b[0;32mis\u001b[0m \u001b[0;32mnot\u001b[0m \u001b[0;32mNone\u001b[0m\u001b[0;34m:\u001b[0m\u001b[0;34m\u001b[0m\u001b[0;34m\u001b[0m\u001b[0m\n\u001b[0;32m---> 92\u001b[0;31m             \u001b[0mpower_spectrum\u001b[0m \u001b[0;34m=\u001b[0m \u001b[0mself\u001b[0m\u001b[0;34m.\u001b[0m\u001b[0mpower_spectrum\u001b[0m\u001b[0;34m(\u001b[0m\u001b[0mspherical_expansion\u001b[0m\u001b[0;34m)\u001b[0m\u001b[0;34m\u001b[0m\u001b[0;34m\u001b[0m\u001b[0m\n\u001b[0m\u001b[1;32m     93\u001b[0m             \u001b[0mpower_spectrum_per_structure\u001b[0m \u001b[0;34m=\u001b[0m \u001b[0mself\u001b[0m\u001b[0;34m.\u001b[0m\u001b[0msum_structure\u001b[0m\u001b[0;34m(\u001b[0m\u001b[0mpower_spectrum\u001b[0m\u001b[0;34m)\u001b[0m\u001b[0;34m\u001b[0m\u001b[0;34m\u001b[0m\u001b[0m\n\u001b[1;32m     94\u001b[0m \u001b[0;34m\u001b[0m\u001b[0m\n",
      "\u001b[0;32m~/local/lib/python3.8/site-packages/torch/nn/modules/module.py\u001b[0m in \u001b[0;36m_call_impl\u001b[0;34m(self, *input, **kwargs)\u001b[0m\n\u001b[1;32m   1100\u001b[0m         if not (self._backward_hooks or self._forward_hooks or self._forward_pre_hooks or _global_backward_hooks\n\u001b[1;32m   1101\u001b[0m                 or _global_forward_hooks or _global_forward_pre_hooks):\n\u001b[0;32m-> 1102\u001b[0;31m             \u001b[0;32mreturn\u001b[0m \u001b[0mforward_call\u001b[0m\u001b[0;34m(\u001b[0m\u001b[0;34m*\u001b[0m\u001b[0minput\u001b[0m\u001b[0;34m,\u001b[0m \u001b[0;34m**\u001b[0m\u001b[0mkwargs\u001b[0m\u001b[0;34m)\u001b[0m\u001b[0;34m\u001b[0m\u001b[0;34m\u001b[0m\u001b[0m\n\u001b[0m\u001b[1;32m   1103\u001b[0m         \u001b[0;31m# Do not call functions when jit is used\u001b[0m\u001b[0;34m\u001b[0m\u001b[0;34m\u001b[0m\u001b[0;34m\u001b[0m\u001b[0m\n\u001b[1;32m   1104\u001b[0m         \u001b[0mfull_backward_hooks\u001b[0m\u001b[0;34m,\u001b[0m \u001b[0mnon_full_backward_hooks\u001b[0m \u001b[0;34m=\u001b[0m \u001b[0;34m[\u001b[0m\u001b[0;34m]\u001b[0m\u001b[0;34m,\u001b[0m \u001b[0;34m[\u001b[0m\u001b[0;34m]\u001b[0m\u001b[0;34m\u001b[0m\u001b[0;34m\u001b[0m\u001b[0m\n",
      "\u001b[0;32m<ipython-input-33-f8aba09e3ed8>\u001b[0m in \u001b[0;36mforward\u001b[0;34m(self, spherical_expansion)\u001b[0m\n\u001b[1;32m      7\u001b[0m \u001b[0;34m\u001b[0m\u001b[0m\n\u001b[1;32m      8\u001b[0m     \u001b[0;32mdef\u001b[0m \u001b[0mforward\u001b[0m\u001b[0;34m(\u001b[0m\u001b[0mself\u001b[0m\u001b[0;34m,\u001b[0m \u001b[0mspherical_expansion\u001b[0m\u001b[0;34m)\u001b[0m\u001b[0;34m:\u001b[0m\u001b[0;34m\u001b[0m\u001b[0;34m\u001b[0m\u001b[0m\n\u001b[0;32m----> 9\u001b[0;31m         \u001b[0mcombined\u001b[0m \u001b[0;34m=\u001b[0m \u001b[0mself\u001b[0m\u001b[0;34m.\u001b[0m\u001b[0mcombiner\u001b[0m\u001b[0;34m(\u001b[0m\u001b[0mspherical_expansion\u001b[0m\u001b[0;34m)\u001b[0m\u001b[0;34m\u001b[0m\u001b[0;34m\u001b[0m\u001b[0m\n\u001b[0m\u001b[1;32m     10\u001b[0m \u001b[0;34m\u001b[0m\u001b[0m\n\u001b[1;32m     11\u001b[0m         \u001b[0;32mreturn\u001b[0m \u001b[0mself\u001b[0m\u001b[0;34m.\u001b[0m\u001b[0mpower_spectrum\u001b[0m\u001b[0;34m(\u001b[0m\u001b[0mcombined\u001b[0m\u001b[0;34m)\u001b[0m\u001b[0;34m\u001b[0m\u001b[0;34m\u001b[0m\u001b[0m\n",
      "\u001b[0;32m~/local/lib/python3.8/site-packages/torch/nn/modules/module.py\u001b[0m in \u001b[0;36m_call_impl\u001b[0;34m(self, *input, **kwargs)\u001b[0m\n\u001b[1;32m   1100\u001b[0m         if not (self._backward_hooks or self._forward_hooks or self._forward_pre_hooks or _global_backward_hooks\n\u001b[1;32m   1101\u001b[0m                 or _global_forward_hooks or _global_forward_pre_hooks):\n\u001b[0;32m-> 1102\u001b[0;31m             \u001b[0;32mreturn\u001b[0m \u001b[0mforward_call\u001b[0m\u001b[0;34m(\u001b[0m\u001b[0;34m*\u001b[0m\u001b[0minput\u001b[0m\u001b[0;34m,\u001b[0m \u001b[0;34m**\u001b[0m\u001b[0mkwargs\u001b[0m\u001b[0;34m)\u001b[0m\u001b[0;34m\u001b[0m\u001b[0;34m\u001b[0m\u001b[0m\n\u001b[0m\u001b[1;32m   1103\u001b[0m         \u001b[0;31m# Do not call functions when jit is used\u001b[0m\u001b[0;34m\u001b[0m\u001b[0;34m\u001b[0m\u001b[0;34m\u001b[0m\u001b[0m\n\u001b[1;32m   1104\u001b[0m         \u001b[0mfull_backward_hooks\u001b[0m\u001b[0;34m,\u001b[0m \u001b[0mnon_full_backward_hooks\u001b[0m \u001b[0;34m=\u001b[0m \u001b[0;34m[\u001b[0m\u001b[0;34m]\u001b[0m\u001b[0;34m,\u001b[0m \u001b[0;34m[\u001b[0m\u001b[0;34m]\u001b[0m\u001b[0;34m\u001b[0m\u001b[0;34m\u001b[0m\u001b[0m\n",
      "\u001b[0;32m~/lavoro/code/alchemical-learning/utils/combine/alchemical.py\u001b[0m in \u001b[0;36mforward\u001b[0;34m(self, spherical_expansion)\u001b[0m\n\u001b[1;32m     56\u001b[0m \u001b[0;34m\u001b[0m\u001b[0m\n\u001b[1;32m     57\u001b[0m             \u001b[0mdata\u001b[0m \u001b[0;34m=\u001b[0m \u001b[0mdata\u001b[0m\u001b[0;34m.\u001b[0m\u001b[0mswapaxes\u001b[0m\u001b[0;34m(\u001b[0m\u001b[0;34m-\u001b[0m\u001b[0;36m1\u001b[0m\u001b[0;34m,\u001b[0m \u001b[0;34m-\u001b[0m\u001b[0;36m2\u001b[0m\u001b[0;34m)\u001b[0m\u001b[0;34m\u001b[0m\u001b[0;34m\u001b[0m\u001b[0m\n\u001b[0;32m---> 58\u001b[0;31m             \u001b[0mdata\u001b[0m \u001b[0;34m=\u001b[0m \u001b[0mdata\u001b[0m\u001b[0;34m.\u001b[0m\u001b[0mreshape\u001b[0m\u001b[0;34m(\u001b[0m\u001b[0mn_samples\u001b[0m\u001b[0;34m,\u001b[0m \u001b[0mn_components\u001b[0m\u001b[0;34m,\u001b[0m \u001b[0mn_radial\u001b[0m \u001b[0;34m*\u001b[0m \u001b[0mn_pseudo_species\u001b[0m\u001b[0;34m)\u001b[0m\u001b[0;34m\u001b[0m\u001b[0;34m\u001b[0m\u001b[0m\n\u001b[0m\u001b[1;32m     59\u001b[0m \u001b[0;34m\u001b[0m\u001b[0m\n\u001b[1;32m     60\u001b[0m             new_block = TensorBlock(\n",
      "\u001b[0;31mKeyboardInterrupt\u001b[0m: "
     ]
    }
   ],
   "source": [
    "assert model.optimizable_weights\n",
    "himem = True\n",
    "if himem and len(all_losses)==0:\n",
    "    composition, radial_spectrum, spherical_expansions, energies, forces = next(iter(train_dataloader_grad_no_batch))\n",
    "\n",
    "for epoch in range(250):\n",
    "    epoch_start = time.time()\n",
    "\n",
    "    def single_step():\n",
    "        global composition, radial_spectrum, spherical_expansions, energies\n",
    "        optimizer.zero_grad()\n",
    "        if device==\"cuda\":\n",
    "            print(f\"mem. before:  {torch.cuda.memory_stats()['allocated_bytes.all.current']/1e6} MB allocated, {torch.cuda.memory_stats()['reserved_bytes.all.current']/1e6} MB reserved \")\n",
    "        loss = torch.zeros(size=(1,), device=device)\n",
    "        if himem:\n",
    "            predicted, _ = model(composition, radial_spectrum, spherical_expansions, forward_forces=False)\n",
    "            loss += loss_mse(predicted, energies)\n",
    "        else:\n",
    "            for composition, radial_spectrum, spherical_expansions, energies, forces in train_dataloader:\n",
    "                try:\n",
    "                    predicted, _ = model(composition, radial_spectrum, spherical_expansions, forward_forces=False)\n",
    "                except:\n",
    "                    if device==\"cuda\":\n",
    "                        print(f\"mem. during:  {torch.cuda.memory_stats()['allocated_bytes.all.current']/1e6} MB allocated, {torch.cuda.memory_stats()['reserved_bytes.all.current']/1e6} MB reserved \")\n",
    "                    raise\n",
    "                loss += loss_mse(predicted, energies)\n",
    "        loss /= n_train\n",
    "        if model.composition_model is not None:\n",
    "            loss += TORCH_REGULARIZER_COMPOSITION * torch.linalg.norm(model.composition_model.weights)\n",
    "        if model.radial_spectrum_model is not None:\n",
    "            loss += TORCH_REGULARIZER_RADIAL_SPECTRUM * torch.linalg.norm(model.radial_spectrum_model.weights)\n",
    "        if model.power_spectrum_model is not None:\n",
    "            loss += TORCH_REGULARIZER_POWER_SPECTRUM * torch.linalg.norm(model.power_spectrum_model.weights)\n",
    "\n",
    "        loss.backward(retain_graph=False)\n",
    "        print(loss.item(), np.linalg.norm(model.composition_model.weights.grad.numpy()))\n",
    "        return loss\n",
    "            \n",
    "    loss = optimizer.step(single_step)\n",
    "    loss = loss.item()\n",
    "    all_losses.append(loss)\n",
    "\n",
    "    epoch_time = time.time() - epoch_start\n",
    "    if epoch % 1 == 0:\n",
    "        print(\"norms\", np.linalg.norm(0 if model.composition_model is None else model.composition_model.weights.detach().cpu().numpy()),\n",
    "                  np.linalg.norm(0 if model.radial_spectrum_model is None else model.radial_spectrum_model.weights.detach().cpu().numpy()),\n",
    "                  np.linalg.norm(0 if model.power_spectrum_model is None else model.power_spectrum_model.weights.detach().cpu().numpy())\n",
    "                 )\n",
    "        print(\"gradients\", \n",
    "                  np.linalg.norm(0 if model.composition_model is None else model.composition_model.weights.grad.detach().cpu().numpy()),\n",
    "                  np.linalg.norm(0 if model.radial_spectrum_model is None else model.radial_spectrum_model.weights.grad.detach().cpu().numpy()),\n",
    "                  np.linalg.norm(0 if model.power_spectrum_model is None else model.power_spectrum_model.weights.grad.detach().cpu().numpy())\n",
    "                 )\n",
    "        with torch.no_grad():\n",
    "            predicted = []\n",
    "            reference = []\n",
    "            for tcomposition, tradial_spectrum, tspherical_expansions, tenergies, tforces in test_dataloader_grad:\n",
    "                reference.append(tenergies)\n",
    "                predicted_e, _ = model(tcomposition, tradial_spectrum, tspherical_expansions, forward_forces=False)\n",
    "                predicted.append(predicted_e)\n",
    "\n",
    "            reference = torch.vstack(reference)\n",
    "            predicted = torch.vstack(predicted)\n",
    "            test_mae = loss_mae(predicted, reference)/n_test\n",
    "\n",
    "            output.write(f\"{n_epochs_total} {loss} {test_mae}\\n\")\n",
    "            output.flush()\n",
    "        all_tests.append(test_mae.item())\n",
    "        print(f\"epoch {n_epochs_total} took {epoch_time:.4}s, optimizer loss={loss:.4}, test mae={test_mae:.4}\")\n",
    "    \n",
    "    del loss\n",
    "    n_epochs_total += 1"
   ]
  },
  {
   "cell_type": "code",
   "execution_count": null,
   "metadata": {},
   "outputs": [],
   "source": [
    "plt.loglog(all_losses)\n",
    "plt.loglog(all_tests)"
   ]
  },
  {
   "cell_type": "code",
   "execution_count": 24,
   "metadata": {},
   "outputs": [
    {
     "data": {
      "text/plain": [
       "0"
      ]
     },
     "execution_count": 24,
     "metadata": {},
     "output_type": "execute_result"
    }
   ],
   "source": [
    "train_dataset._getitemtime"
   ]
  },
  {
   "cell_type": "code",
   "execution_count": 25,
   "metadata": {},
   "outputs": [
    {
     "data": {
      "text/plain": [
       "0"
      ]
     },
     "execution_count": 25,
     "metadata": {},
     "output_type": "execute_result"
    }
   ],
   "source": [
    "train_dataset._collatetime"
   ]
  },
  {
   "cell_type": "code",
   "execution_count": 22,
   "metadata": {},
   "outputs": [
    {
     "name": "stdout",
     "output_type": "stream",
     "text": [
      "TEST MAE: 1.5366454954265945 eV/at\n"
     ]
    },
    {
     "data": {
      "image/png": "[encoded data removed]",
      "text/plain": [
       "<Figure size 432x288 with 1 Axes>"
      ]
     },
     "metadata": {
      "needs_background": "light"
     },
     "output_type": "display_data"
    }
   ],
   "source": [
    "plt.plot(predicted.numpy(), reference.numpy(), 'b.')\n",
    "print(f\"TEST MAE: {test_mae.item()/len(frames[0])} eV/at\")"
   ]
  },
  {
   "cell_type": "code",
   "execution_count": 23,
   "metadata": {},
   "outputs": [],
   "source": [
    "with torch.no_grad():\n",
    "    tpredicted = []\n",
    "    treference = []\n",
    "    for tcomposition, tradial_spectrum, tspherical_expansions, tenergies, _ in train_dataloader:\n",
    "        treference.append(tenergies)\n",
    "        predicted_e, _ = model(tcomposition, tradial_spectrum, tspherical_expansions, forward_forces=False)\n",
    "        tpredicted.append(predicted_e)\n",
    "\n",
    "    treference = torch.vstack(treference)\n",
    "    tpredicted = torch.vstack(tpredicted)\n",
    "    tmae = loss_mae(tpredicted, treference)/n_train"
   ]
  },
  {
   "cell_type": "code",
   "execution_count": 24,
   "metadata": {},
   "outputs": [
    {
     "name": "stdout",
     "output_type": "stream",
     "text": [
      "TRAIN MAE: 0.056613723861464745 eV/at\n"
     ]
    },
    {
     "data": {
      "image/png": "[encoded data removed]",
      "text/plain": [
       "<Figure size 432x288 with 1 Axes>"
      ]
     },
     "metadata": {
      "needs_background": "light"
     },
     "output_type": "display_data"
    }
   ],
   "source": [
    "plt.plot(tpredicted, treference, 'b.')\n",
    "print(f\"TRAIN MAE: {tmae.item()/len(frames[0])} eV/at\")"
   ]
  },
  {
   "cell_type": "markdown",
   "metadata": {},
   "source": [
    "# Predicting forces with forward propagation"
   ]
  },
  {
   "cell_type": "code",
   "execution_count": 25,
   "metadata": {},
   "outputs": [],
   "source": [
    "def evaluate_model_with_forces(model, dataloader):\n",
    "    predicted_e = []\n",
    "    reference_e = []\n",
    "    predicted_f = []\n",
    "    reference_f = []\n",
    "    for composition, radial_spectrum, spherical_expansions, energies, forces in dataloader:\n",
    "        reference_e.append(energies)\n",
    "        reference_f.append(forces)\n",
    "        e, f = model(composition, radial_spectrum, spherical_expansions, forward_forces=True)\n",
    "        predicted_e.append(e)\n",
    "        predicted_f.append(f)\n",
    "\n",
    "    reference_e = torch.vstack(reference_e)\n",
    "    predicted_e = torch.vstack(predicted_e)\n",
    "\n",
    "    reference_f = torch.vstack(reference_f)\n",
    "    predicted_f = torch.vstack(predicted_f)\n",
    "\n",
    "    return reference_e, predicted_e, reference_f, predicted_f"
   ]
  },
  {
   "cell_type": "code",
   "execution_count": 26,
   "metadata": {},
   "outputs": [],
   "source": [
    "def parity_plots(reference_e, predicted_e, reference_f, predicted_f):\n",
    "    predicted_e = predicted_e.detach()\n",
    "    predicted_f = predicted_f.detach()\n",
    "\n",
    "    fig, (ax_e, ax_f) = plt.subplots(1, 2, figsize=(16, 8))\n",
    "\n",
    "    mae = loss_mae(predicted_e, reference_e)\n",
    "    rmse = loss_rmse(predicted_e, reference_e)\n",
    "    ax_e.scatter(reference_e.cpu(), predicted_e.cpu())\n",
    "    x = (torch.min(reference_e.flatten()).item(), torch.max(reference_e.flatten()).item())\n",
    "    ax_e.plot(x, x, color=\"red\")\n",
    "    ax_e.set_title(f\"energies, MAE={mae:.4}, RMSE={rmse:.4}\")\n",
    "    ax_e.set_xlabel(\"actual\")\n",
    "    ax_e.set_ylabel(\"predicted\")\n",
    "\n",
    "    mae = loss_mae(predicted_f, reference_f)\n",
    "    rmse = loss_rmse(predicted_f, reference_f)\n",
    "    ax_f.scatter(reference_f.cpu(), predicted_f.cpu())\n",
    "    x = (torch.min(reference_f.flatten()).item(), torch.max(reference_f.flatten()).item())\n",
    "    ax_f.plot(x, x, color=\"red\")\n",
    "    ax_f.set_title(f\"forces, MAE={mae:.4}, RMSE={rmse:.4}\")\n",
    "    ax_f.set_xlabel(\"actual\")\n",
    "    ax_f.set_ylabel(\"predicted\")\n",
    "\n",
    "    return fig"
   ]
  },
  {
   "cell_type": "code",
   "execution_count": 29,
   "metadata": {},
   "outputs": [
    {
     "data": {
      "image/png": "[encoded data removed]",
      "text/plain": [
       "<Figure size 1152x576 with 2 Axes>"
      ]
     },
     "metadata": {
      "needs_background": "light"
     },
     "output_type": "display_data"
    }
   ],
   "source": [
    "fig = parity_plots(*evaluate_model_with_forces(model, test_dataloader_grad))"
   ]
  },
  {
   "cell_type": "code",
   "execution_count": 27,
   "metadata": {},
   "outputs": [],
   "source": [
    "def check_finite_differences(model, frame, delta=1e-6):\n",
    "    frame = frame.copy()\n",
    "    delta_frame = frame.copy()\n",
    "    delta_frame.positions[3, 1] += delta\n",
    "\n",
    "    dataset = AtomisticDataset(\n",
    "        [frame, delta_frame], \n",
    "        all_species, \n",
    "        {\"radial_spectrum\": HYPERS_RAD_GRAD, \"spherical_expansion\":HYPERS_GRAD}, \n",
    "        torch.zeros(2, 1), \n",
    "    )\n",
    "    dataloader = create_dataloader(\n",
    "        dataset,\n",
    "        batch_size=len(dataset),\n",
    "        shuffle=False,\n",
    "        device=device,\n",
    "    )\n",
    "\n",
    "    for frame, radial_spectrum, spherical_expansions, _, _ in dataloader:\n",
    "        predicted_e, predicted_f = model(frame, radial_spectrum, spherical_expansions, forward_forces=True)\n",
    "\n",
    "    finite_diff = - (predicted_e[1] - predicted_e[0]) / delta\n",
    "    print(\"finite difference =\", finite_diff.item())\n",
    "    print(\"computed gradient =\", predicted_f[3, 1].item())"
   ]
  },
  {
   "cell_type": "code",
   "execution_count": 28,
   "metadata": {},
   "outputs": [
    {
     "name": "stdout",
     "output_type": "stream",
     "text": [
      "finite difference = 7.998683400955997\n",
      "computed gradient = 7.99868976356426\n"
     ]
    }
   ],
   "source": [
    "if torch.get_default_dtype() == torch.float64:\n",
    "    delta = 1e-6\n",
    "else:\n",
    "    delta = 1e-3\n",
    "\n",
    "check_finite_differences(model, train_frames[22], delta)"
   ]
  },
  {
   "cell_type": "code",
   "execution_count": null,
   "metadata": {},
   "outputs": [],
   "source": []
  },
  {
   "cell_type": "code",
   "execution_count": null,
   "metadata": {},
   "outputs": [],
   "source": []
  }
 ],
 "metadata": {
  "interpreter": {
   "hash": "5fdb860dc9f423b713ecf03ec3bee4ef4df65400e892ebee65bf9175396f229c"
  },
  "kernelspec": {
   "display_name": "Python 3",
   "language": "python",
   "name": "python3"
  },
  "language_info": {
   "codemirror_mode": {
    "name": "ipython",
    "version": 3
   },
   "file_extension": ".py",
   "mimetype": "text/x-python",
   "name": "python",
   "nbconvert_exporter": "python",
   "pygments_lexer": "ipython3",
   "version": "3.8.10"
  },
  "toc": {
   "base_numbering": 1,
   "nav_menu": {},
   "number_sections": true,
   "sideBar": true,
   "skip_h1_title": false,
   "title_cell": "Table of Contents",
   "title_sidebar": "Contents",
   "toc_cell": false,
   "toc_position": {},
   "toc_section_display": true,
   "toc_window_display": false
  }
 },
 "nbformat": 4,
 "nbformat_minor": 2
}
