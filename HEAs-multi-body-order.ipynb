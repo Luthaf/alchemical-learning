{
 "cells": [
  {
   "cell_type": "code",
   "execution_count": 1,
   "metadata": {
    "scrolled": true
   },
   "outputs": [
    {
     "name": "stdout",
     "output_type": "stream",
     "text": [
      "env: PYTORCH_CUDA_ALLOC_CONF=max_split_size_mb:256\n"
     ]
    }
   ],
   "source": [
    "%load_ext autoreload\n",
    "%autoreload 2\n",
    "%load_ext line_profiler\n",
    "%env PYTORCH_CUDA_ALLOC_CONF=max_split_size_mb:256"
   ]
  },
  {
   "cell_type": "code",
   "execution_count": 2,
   "metadata": {},
   "outputs": [],
   "source": [
    "import copy\n",
    "import cProfile\n",
    "import time\n",
    "\n",
    "import ase.io\n",
    "import matplotlib.pyplot as plt\n",
    "import numpy as np\n",
    "import sklearn.model_selection\n",
    "import torch\n",
    "\n",
    "from utils.combine import CombineRadial, CombineRadialSpecies, CombineSpecies, CombineSpeciesPerCenter\n",
    "from utils.dataset import AtomisticDataset, create_dataloader\n",
    "from utils.linear import LinearModel\n",
    "from utils.operations import SumStructures, remove_gradient\n",
    "from utils.soap import PowerSpectrum, CompositionFeatures\n",
    "\n",
    "torch.set_default_dtype(torch.float64)"
   ]
  },
  {
   "cell_type": "code",
   "execution_count": 5,
   "metadata": {},
   "outputs": [
    {
     "name": "stdout",
     "output_type": "stream",
     "text": [
      "using 40 training frames\n"
     ]
    }
   ],
   "source": [
    "n_test = 4\n",
    "n_train = 40\n",
    "n_train_forces = 10\n",
    "\n",
    "frames = ase.io.read(\"data/data_shuffle.xyz\", f\":{n_test + n_train + n_train_forces}\")\n",
    "\n",
    "train_frames = frames[:n_train]\n",
    "train_forces_frames = frames[n_train:n_train+n_train_forces]\n",
    "test_frames = frames[-n_test:]\n",
    "\n",
    "train_energies = torch.tensor(\n",
    "    [frame.info[\"energy\"] for frame in train_frames]\n",
    ").reshape(-1, 1).to(dtype=torch.get_default_dtype())\n",
    "\n",
    "test_energies = torch.tensor(\n",
    "    [frame.info[\"energy\"] for frame in test_frames]\n",
    ").reshape(-1, 1).to(dtype=torch.get_default_dtype())\n",
    "\n",
    "\n",
    "train_forces_e = torch.tensor(\n",
    "    [frame.info[\"energy\"] for frame in train_forces_frames]\n",
    ").reshape(-1, 1).to(dtype=torch.get_default_dtype())\n",
    "\n",
    "train_forces_f = [\n",
    "    torch.tensor(frame.arrays[\"forces\"]).to(dtype=torch.get_default_dtype())\n",
    "    for frame in train_forces_frames\n",
    "]\n",
    "\n",
    "test_forces = [\n",
    "    torch.tensor(frame.arrays[\"forces\"]).to(dtype=torch.get_default_dtype()) \n",
    "    for frame in test_frames\n",
    "]\n",
    "\n",
    "print(f\"using {n_train} training frames\")"
   ]
  },
  {
   "cell_type": "code",
   "execution_count": 6,
   "metadata": {},
   "outputs": [],
   "source": [
    "all_species = set()\n",
    "for frame in frames:\n",
    "    all_species.update(frame.numbers)\n",
    "\n",
    "all_species = list(map(lambda u: int(u), all_species))\n",
    "\n",
    "# HYPERS_FROM_PAPER = {\n",
    "#     \"interaction_cutoff\": 5.0,\n",
    "#     \"max_angular\": 9,\n",
    "#     \"max_radial\": 12,\n",
    "#     \"gaussian_sigma_constant\": 0.3,\n",
    "#     \"gaussian_sigma_type\": \"Constant\",\n",
    "#     \"cutoff_smooth_width\": 0.5,\n",
    "#     \"radial_basis\": \"GTO\",\n",
    "#     \"compute_gradients\": False,\n",
    "#     \"expansion_by_species_method\": \"user defined\",\n",
    "#     \"global_species\": all_species,\n",
    "# }\n",
    "\n",
    "HYPERS_SMALL = {\n",
    "    \"cutoff\": 4.0,\n",
    "    \"max_angular\": 3,\n",
    "    \"max_radial\": 6,\n",
    "    \"atomic_gaussian_width\": 0.5,\n",
    "    \"cutoff_function\": {\"ShiftedCosine\": {\"width\": 0.5}},\n",
    "    \"radial_basis\": {\"SplinedGto\": {\"accuracy\": 1e-6}},\n",
    "    \"center_atom_weight\": 1.0,\n",
    "    \"radial_scaling\":  {\"Willatt2018\": { \"scale\": 2.5, \"rate\": 0.8, \"exponent\": 2}},\n",
    "    # # TODO: implement this in rascaline itself\n",
    "    \"radial_per_angular\": {\n",
    "    # l: n\n",
    "         0: 6,\n",
    "         1: 4,\n",
    "         2: 3,\n",
    "         3: 1,\n",
    "     },\n",
    "}\n",
    "\n",
    "HYPERS_RADIAL = {\n",
    "    \"cutoff\": 5.0,\n",
    "    \"max_angular\": 0,\n",
    "    \"max_radial\": 10,\n",
    "    \"atomic_gaussian_width\": 0.5,\n",
    "    \"cutoff_function\": {\"ShiftedCosine\": {\"width\": 0.5}},\n",
    "    \"radial_basis\": {\"SplinedGto\": {\"accuracy\": 1e-6}},\n",
    "    \"center_atom_weight\": 1.0,    \n",
    "    \"radial_scaling\":  {\"Willatt2018\": { \"scale\": 2.5, \"rate\": 0.8, \"exponent\": 2}}\n",
    "}"
   ]
  },
  {
   "cell_type": "markdown",
   "metadata": {},
   "source": [
    "# Optimization loop, energies only"
   ]
  },
  {
   "cell_type": "code",
   "execution_count": 7,
   "metadata": {},
   "outputs": [],
   "source": [
    "device = \"cpu\"\n",
    "\n",
    "#if torch.cuda.is_available():\n",
    "#    device = \"cuda\""
   ]
  },
  {
   "cell_type": "code",
   "execution_count": 10,
   "metadata": {},
   "outputs": [
    {
     "name": "stdout",
     "output_type": "stream",
     "text": [
      "CPU times: user 6.26 s, sys: 134 ms, total: 6.4 s\n",
      "Wall time: 2.56 s\n"
     ]
    }
   ],
   "source": [
    "%%time\n",
    "train_dataset = AtomisticDataset(train_frames, all_species, \n",
    "                                 {\"radial_spectrum\": HYPERS_RADIAL, \"spherical_expansion\":HYPERS_SMALL}, train_energies,\n",
    "                                normalization = \"automatic\", do_gradients=False\n",
    "                                )\n",
    "train_normalization = { \"radial_spectrum\": train_dataset.radial_norm, \n",
    "                      \"spherical_expansion\": train_dataset.spherical_expansion_norm}\n",
    "train_forces_dataset = AtomisticDataset(train_forces_frames, all_species, \n",
    "                                 {\"radial_spectrum\": HYPERS_RADIAL, \"spherical_expansion\":HYPERS_SMALL}, train_forces_e,\n",
    "                                normalization = train_normalization, do_gradients=False\n",
    "                                       )\n",
    "test_dataset = AtomisticDataset(test_frames, all_species, \n",
    "                                {\"radial_spectrum\": HYPERS_RADIAL, \"spherical_expansion\":HYPERS_SMALL}, test_energies,\n",
    "                                normalization = train_normalization, do_gradients=False\n",
    "                               )"
   ]
  },
  {
   "cell_type": "code",
   "execution_count": 11,
   "metadata": {},
   "outputs": [
    {
     "data": {
      "text/plain": [
       "Labels([(0,), (1,), (2,), (3,)], dtype=[('spherical_harmonics_l', '<i4')])"
      ]
     },
     "execution_count": 11,
     "metadata": {},
     "output_type": "execute_result"
    }
   ],
   "source": [
    "train_dataset.spherical_expansions[0].keys"
   ]
  },
  {
   "cell_type": "code",
   "execution_count": 18,
   "metadata": {},
   "outputs": [],
   "source": [
    "do_gradients = True\n",
    "if do_gradients is True:\n",
    "    HYPERS_GRAD = copy.deepcopy(HYPERS_SMALL)    \n",
    "    HYPERS_RAD_GRAD = copy.deepcopy(HYPERS_RADIAL)\n",
    "    train_forces_dataset_grad = AtomisticDataset(train_forces_frames, all_species, \n",
    "                                          {\"radial_spectrum\": HYPERS_RAD_GRAD, \"spherical_expansion\":HYPERS_GRAD}, \n",
    "                                          train_forces_e, train_forces_f,\n",
    "                                          normalization = train_normalization, do_gradients=True)\n",
    "    test_dataset_grad = AtomisticDataset(test_frames, all_species, \n",
    "                                         {\"radial_spectrum\": HYPERS_RAD_GRAD, \"spherical_expansion\":HYPERS_GRAD}, \n",
    "                                         test_energies, test_forces,\n",
    "                                         normalization = train_normalization, do_gradients=True)\n",
    "else:\n",
    "    train_forces_dataset_grad = train_forces_dataset\n",
    "    test_dataset_grad = test_dataset"
   ]
  },
  {
   "cell_type": "code",
   "execution_count": 19,
   "metadata": {},
   "outputs": [],
   "source": [
    "train_dataloader = create_dataloader(\n",
    "    train_dataset,\n",
    "    batch_size=200,\n",
    "    shuffle=True,    \n",
    "    device=device,\n",
    ")\n",
    "\n",
    "train_forces_dataloader = create_dataloader(\n",
    "    train_forces_dataset,\n",
    "    batch_size=200,\n",
    "    shuffle=True,    \n",
    "    device=device,\n",
    ")\n",
    "\n",
    "train_dataloader_no_batch = create_dataloader(\n",
    "    train_dataset,\n",
    "    batch_size=len(train_dataset),\n",
    "    shuffle=False,\n",
    "    device=device,\n",
    ")\n",
    "\n",
    "train_forces_dataloader_no_batch = create_dataloader(\n",
    "    train_forces_dataset,\n",
    "    batch_size=len(train_dataset),\n",
    "    shuffle=False,\n",
    "    device=device,\n",
    ")\n",
    "\n",
    "train_forces_dataloader_single_frame = create_dataloader(\n",
    "    train_forces_dataset,\n",
    "    batch_size=1,\n",
    "    shuffle=False,\n",
    "    device=device,\n",
    ")\n",
    "\n",
    "test_dataloader = create_dataloader(\n",
    "    test_dataset,\n",
    "    batch_size=200,\n",
    "    shuffle=False,\n",
    "    device=device,\n",
    ")\n",
    "\n",
    "if do_gradients is True:\n",
    "    train_forces_dataloader_grad = create_dataloader(\n",
    "        train_forces_dataset_grad,\n",
    "        batch_size=50,\n",
    "        shuffle=True,\n",
    "        device=device,\n",
    "    )\n",
    "\n",
    "    train_forces_dataloader_grad_single_frame = create_dataloader(\n",
    "        train_forces_dataset_grad,\n",
    "        batch_size=1,\n",
    "        shuffle=True,\n",
    "        device=device,\n",
    "    )\n",
    "    \n",
    "    train_forces_dataloader_grad_no_batch = create_dataloader(\n",
    "        train_forces_dataset_grad,\n",
    "        batch_size=len(train_forces_dataset_grad),\n",
    "        shuffle=False,\n",
    "        device=device,\n",
    "    )\n",
    "    \n",
    "    test_dataloader_grad = create_dataloader(\n",
    "        test_dataset_grad,\n",
    "        batch_size=50,\n",
    "        shuffle=False,\n",
    "        device=device,\n",
    "    )\n",
    "else:\n",
    "    train_forces_dataloader_grad = train_forces_dataloader\n",
    "    train_forces_dataloader_grad_single_frame = train_forces_dataloader_single_frame\n",
    "    train_forces_dataloader_grad_no_batch = train_forces_dataloader_no_batch\n",
    "    test_dataloader_grad = test_dataloader"
   ]
  },
  {
   "cell_type": "code",
   "execution_count": 20,
   "metadata": {},
   "outputs": [],
   "source": [
    "def loss_mae(predicted, actual):\n",
    "    return torch.sum(torch.abs(predicted.flatten() - actual.flatten()))\n",
    "\n",
    "def loss_mse(predicted, actual):\n",
    "    return torch.sum((predicted.flatten() - actual.flatten())**2)\n",
    "\n",
    "def loss_rmse(predicted, actual):\n",
    "    return np.sqrt(loss_mse(predicted, actual))"
   ]
  },
  {
   "cell_type": "markdown",
   "metadata": {},
   "source": [
    "# handle"
   ]
  },
  {
   "cell_type": "code",
   "execution_count": 21,
   "metadata": {},
   "outputs": [],
   "source": [
    "\n",
    "from utils.combine import CombineRadial, CombineRadialSpecies, CombineSpecies, CombineSpeciesPerCenter\n",
    "from utils.dataset import AtomisticDataset, create_dataloader\n",
    "from utils.linear import LinearModel\n",
    "from utils.operations import SumStructures, remove_gradient\n",
    "from utils.soap import PowerSpectrum, CompositionFeatures\n"
   ]
  },
  {
   "cell_type": "code",
   "execution_count": 22,
   "metadata": {},
   "outputs": [],
   "source": [
    "class CombinedPowerSpectrum(torch.nn.Module):\n",
    "    def __init__(self, combiner):\n",
    "        super().__init__()\n",
    "\n",
    "        self.combiner = combiner\n",
    "        self.power_spectrum = PowerSpectrum()\n",
    "\n",
    "    def forward(self, spherical_expansion):\n",
    "        combined = self.combiner(spherical_expansion)\n",
    "\n",
    "        return self.power_spectrum(combined)\n",
    "\n",
    "        \n",
    "class MultiBodyOrderModel(torch.nn.Module):\n",
    "    def __init__(\n",
    "        self,     \n",
    "        power_spectrum,\n",
    "        composition_regularizer,\n",
    "        radial_spectrum_regularizer,\n",
    "        power_spectrum_regularizer,        \n",
    "        optimizable_weights,\n",
    "        random_initial_weights,\n",
    "        all_species=None\n",
    "    ):\n",
    "        super().__init__()        \n",
    "\n",
    "        # optimizable_weights = False is not very well tested ...\n",
    "        assert optimizable_weights\n",
    "\n",
    "        if composition_regularizer is None:\n",
    "            self.composition_model = None\n",
    "        else:\n",
    "            self.composition_model=LinearModel(\n",
    "            regularizer=composition_regularizer,\n",
    "            optimizable_weights=optimizable_weights,\n",
    "            random_initial_weights=random_initial_weights,\n",
    "        )\n",
    "        \n",
    "        if radial_spectrum_regularizer is None:\n",
    "            self.radial_spectrum_model = None\n",
    "        else:\n",
    "            self.radial_spectrum_model = LinearModel(\n",
    "                regularizer=radial_spectrum_regularizer,\n",
    "                optimizable_weights=optimizable_weights,\n",
    "                random_initial_weights=random_initial_weights,\n",
    "            )\n",
    "\n",
    "        if power_spectrum_regularizer is None:\n",
    "            self.power_spectrum_model = None\n",
    "        else:\n",
    "            self.sum_structure = SumStructures(explode_centers=all_species)\n",
    "            self.power_spectrum = power_spectrum\n",
    "            self.power_spectrum_model = LinearModel(\n",
    "                regularizer=power_spectrum_regularizer,\n",
    "                optimizable_weights=optimizable_weights,\n",
    "                random_initial_weights=random_initial_weights,\n",
    "            )\n",
    "        \n",
    "        self.optimizable_weights = optimizable_weights\n",
    "        self.random_initial_weights = random_initial_weights\n",
    "\n",
    "    def forward(self, composition, radial_spectrum, spherical_expansion, forward_forces=False):\n",
    "        if not forward_forces:\n",
    "            # remove gradients if we don't need them\n",
    "            spherical_expansion = remove_gradient(spherical_expansion)\n",
    "            if radial_spectrum is not None:\n",
    "                radial_spectrum = remove_gradient(radial_spectrum)                \n",
    "    \n",
    "        energies, forces = None, None\n",
    "        \n",
    "        if self.composition_model is not None:\n",
    "            energies_cmp, _ = self.composition_model(composition)\n",
    "            energies = energies_cmp\n",
    "            forces = None\n",
    "    \n",
    "        if self.radial_spectrum_model is not None:\n",
    "            radial_spectrum_per_structure = radial_spectrum #self.sum_structure(radial_spectrum)\n",
    "            energies_rs, forces_rs = self.radial_spectrum_model(radial_spectrum_per_structure, with_forces=forward_forces)\n",
    "            \n",
    "            if energies is None:\n",
    "                energies = energies_rs  \n",
    "            else:\n",
    "                energies += energies_rs              \n",
    "            if forces_rs is not None:\n",
    "                if forces is None:\n",
    "                    forces = forces_rs\n",
    "                else:\n",
    "                    forces += forces_rs\n",
    "\n",
    "        if self.power_spectrum_model is not None:\n",
    "            power_spectrum = self.power_spectrum(spherical_expansion)            \n",
    "            power_spectrum_per_structure = self.sum_structure(power_spectrum)\n",
    "\n",
    "            energies_ps, forces_ps = self.power_spectrum_model(power_spectrum_per_structure, with_forces=forward_forces)\n",
    "            if energies is None:\n",
    "                energies = energies_ps\n",
    "            else:\n",
    "                energies += energies_ps\n",
    "            if forces_ps is not None:\n",
    "                if forces is None:\n",
    "                    forces = forces_ps\n",
    "                else:\n",
    "                    forces += forces_ps\n",
    "        \n",
    "        return energies, forces\n",
    "\n",
    "    def initialize_model_weights(self, composition, radial_spectrum, spherical_expansion, energies, forces=None, seed=None):\n",
    "        if forces is None:\n",
    "            # remove gradients if we don't need them\n",
    "            spherical_expansion = remove_gradient(spherical_expansion)\n",
    "            if radial_spectrum is not None:\n",
    "                radial_spectrum = remove_gradient(radial_spectrum)\n",
    "            \n",
    "        if self.composition_model is not None:\n",
    "            self.composition_model.initialize_model_weights(composition, energies, forces, seed)\n",
    "        \n",
    "        if self.radial_spectrum_model is not None:\n",
    "            radial_spectrum_per_structure = radial_spectrum # self.sum_structure(radial_spectrum)\n",
    "            self.radial_spectrum_model.initialize_model_weights(radial_spectrum_per_structure, energies, forces, seed)\n",
    "        \n",
    "        if self.power_spectrum_model is not None:        \n",
    "            power_spectrum = self.power_spectrum(spherical_expansion)\n",
    "            power_spectrum_per_structure = self.sum_structure(power_spectrum)\n",
    "            self.power_spectrum_model.initialize_model_weights(power_spectrum_per_structure, energies, forces, seed)"
   ]
  },
  {
   "cell_type": "code",
   "execution_count": 23,
   "metadata": {},
   "outputs": [
    {
     "name": "stdout",
     "output_type": "stream",
     "text": [
      "Species mixing init with eigenvalues  [2.3558704  3.49768711 5.57152601 9.67658053]\n"
     ]
    }
   ],
   "source": [
    "# species combination only\n",
    "N_PSEUDO_SPECIES = 4\n",
    "combiner = CombineSpecies(species=all_species, n_pseudo_species=N_PSEUDO_SPECIES)\n",
    "\n",
    "# # species combination and then radial basis combination\n",
    "# N_COMBINED_RADIAL = 4\n",
    "# combiner = torch.nn.Sequential(\n",
    "#     CombineSpecies(species=all_species, n_pseudo_species=N_PSEUDO_SPECIES),\n",
    "#     CombineRadial(max_radial=HYPERS_SMALL[\"max_radial\"], n_combined_radial=N_COMBINED_RADIAL),\n",
    "# )\n",
    "\n",
    "# # combine both radial and species information at the same time\n",
    "# combiner = CombineRadialSpecies(\n",
    "#     n_species=len(all_species), \n",
    "#     max_radial=HYPERS_SMALL[\"max_radial\"], \n",
    "#     n_combined_basis=N_COMBINED_RADIAL*N_PSEUDO_SPECIES,\n",
    "# )\n",
    "\n",
    "composition=CompositionFeatures(all_species, device=device)\n",
    "power_spectrum = CombinedPowerSpectrum(combiner)\n",
    "\n",
    "LINALG_REGULARIZER_ENERGIES = 1e-2\n",
    "LINALG_REGULARIZER_FORCES = 1e-1\n",
    "\n",
    "model = MultiBodyOrderModel(\n",
    "    power_spectrum=power_spectrum, \n",
    "    composition_regularizer=[1e-10],\n",
    "    radial_spectrum_regularizer=[LINALG_REGULARIZER_ENERGIES, LINALG_REGULARIZER_FORCES],\n",
    "    power_spectrum_regularizer=[LINALG_REGULARIZER_ENERGIES, LINALG_REGULARIZER_FORCES],\n",
    "    optimizable_weights=True, \n",
    "    random_initial_weights=True,\n",
    "    #all_species=all_species\n",
    ")"
   ]
  },
  {
   "cell_type": "code",
   "execution_count": 24,
   "metadata": {},
   "outputs": [],
   "source": [
    "if model.optimizable_weights:\n",
    "    TORCH_REGULARIZER_COMPOSITION = 1e-8\n",
    "    TORCH_REGULARIZER_RADIAL_SPECTRUM = 1e-4\n",
    "    TORCH_REGULARIZER_POWER_SPECTRUM = 1e-3\n",
    "else:\n",
    "    TORCH_REGULARIZER_RADIAL_SPECTRUM = 0.0\n",
    "    TORCH_REGULARIZER_POWER_SPECTRUM = 0.0"
   ]
  },
  {
   "cell_type": "code",
   "execution_count": 25,
   "metadata": {},
   "outputs": [
    {
     "data": {
      "text/plain": [
       "MultiBodyOrderModel(\n",
       "  (composition_model): LinearModel()\n",
       "  (radial_spectrum_model): LinearModel()\n",
       "  (sum_structure): SumStructures()\n",
       "  (power_spectrum): CombinedPowerSpectrum(\n",
       "    (combiner): CombineSpecies()\n",
       "    (power_spectrum): PowerSpectrum()\n",
       "  )\n",
       "  (power_spectrum_model): LinearModel()\n",
       ")"
      ]
     },
     "execution_count": 25,
     "metadata": {},
     "output_type": "execute_result"
    }
   ],
   "source": [
    "model.to(device=device, dtype=torch.get_default_dtype())"
   ]
  },
  {
   "cell_type": "code",
   "execution_count": 26,
   "metadata": {},
   "outputs": [],
   "source": [
    "if model.random_initial_weights:\n",
    "    dataloader_initialization = train_forces_dataloader_grad_single_frame\n",
    "else:\n",
    "    dataloader_initialization = train_dataloader_no_batch"
   ]
  },
  {
   "cell_type": "code",
   "execution_count": 27,
   "metadata": {},
   "outputs": [],
   "source": [
    "# initialize the model\n",
    "with torch.no_grad():\n",
    "    for composition, radial_spectrum, spherical_expansions, energies, forces in dataloader_initialization:\n",
    "        # we want to intially train the model on all frames, to ensure the\n",
    "        # support points come from the full dataset.\n",
    "        model.initialize_model_weights(composition, radial_spectrum, spherical_expansions, energies, forces, seed=12345)\n",
    "        break\n",
    "\n",
    "del radial_spectrum, spherical_expansions"
   ]
  },
  {
   "cell_type": "code",
   "execution_count": 28,
   "metadata": {},
   "outputs": [],
   "source": [
    "lr = 0.2\n",
    "# optimizer = torch.optim.AdamW(model.parameters(), lr=lr, weight_decay=0.0)\n",
    "optimizer = torch.optim.LBFGS(model.parameters(), lr=lr, line_search_fn=\"strong_wolfe\", history_size=128)"
   ]
  },
  {
   "cell_type": "code",
   "execution_count": 29,
   "metadata": {},
   "outputs": [],
   "source": [
    "lr = 0.1\n",
    "# optimizer = torch.optim.AdamW(model.parameters(), lr=lr, weight_decay=0.0)\n",
    "optimizer = torch.optim.LBFGS(model.parameters(), lr=lr)#, line_search_fn=\"strong_wolfe\", history_size=128)\n",
    "\n",
    "all_losses = []\n",
    "all_tests=[]\n",
    "f_all_tests=[]\n",
    "\n",
    "filename = f\"{model.__class__.__name__}-{N_PSEUDO_SPECIES}-mixed-{n_train}-train\"\n",
    "if model.optimizable_weights:\n",
    "    filename += \"-opt-weights\"\n",
    "\n",
    "if model.random_initial_weights:\n",
    "    filename += \"-random-weights\"\n",
    "\n",
    "output = open(f\"{filename}.dat\", \"w\")\n",
    "output.write(\"# epoch  train_loss  test_mae\\n\")\n",
    "n_epochs_total = 0"
   ]
  },
  {
   "cell_type": "code",
   "execution_count": 30,
   "metadata": {},
   "outputs": [
    {
     "name": "stdout",
     "output_type": "stream",
     "text": [
      "Restart file not found\n"
     ]
    }
   ],
   "source": [
    "try:\n",
    "    state = torch.load(f\"{filename}-restart.torch\")\n",
    "    print(\"Restarting model parameters from file\")\n",
    "    model.load_state_dict(state)\n",
    "except:\n",
    "    print(\"Restart file not found\")"
   ]
  },
  {
   "cell_type": "code",
   "execution_count": 31,
   "metadata": {},
   "outputs": [],
   "source": [
    "assert model.optimizable_weights\n",
    "himem = True\n",
    "if himem and len(all_losses)==0:\n",
    "    composition, radial_spectrum, spherical_expansions, energies, forces = next(iter(train_dataloader_no_batch))\n",
    "    f_composition, f_radial_spectrum, f_spherical_expansions, f_energies, f_forces = next(iter(train_forces_dataloader_grad_no_batch))"
   ]
  },
  {
   "cell_type": "code",
   "execution_count": 32,
   "metadata": {},
   "outputs": [
    {
     "name": "stdout",
     "output_type": "stream",
     "text": [
      "Train loss: 186334.47294292803 E=186327.37019401323, F=7.10274891480861\n",
      "Loss gradient 7407.359567715564\n",
      "Train loss: 186256.85087365174 E=186249.74825870388, F=7.102614947868254\n",
      "Loss gradient 7405.785039945875\n",
      "Train loss: 184228.88262573813 E=184221.7831439652, F=7.09948177291416\n",
      "Loss gradient 7364.529517398879\n",
      "Train loss: 181175.37170709646 E=181168.27495356265, F=7.096753533803162\n",
      "Loss gradient 7301.964720669348\n",
      "Train loss: 176842.1899327628 E=176835.0981590167, F=7.091773746094657\n",
      "Loss gradient 7212.196816029235\n",
      "Train loss: 170629.1537359464 E=170622.07468232958, F=7.079053616817615\n",
      "Loss gradient 7081.414228304785\n",
      "Train loss: 160693.3144486649 E=160686.27055745557, F=7.043891209316817\n",
      "Loss gradient 6866.842427788261\n",
      "Train loss: 135882.56262886658 E=135875.67617171237, F=6.8864571542144475\n",
      "Loss gradient 6294.381709561343\n",
      "Train loss: 109155.15391991602 E=109148.48389349805, F=6.6700264179737045\n",
      "Loss gradient 5584.028039192551\n",
      "Train loss: 82157.87906469128 E=82151.3191120424, F=6.559952648873623\n",
      "Loss gradient 4640.573812003333\n",
      "Train loss: 57301.31568456978 E=57294.33673561055, F=6.978948959231215\n",
      "Loss gradient 3240.137238558239\n",
      "Train loss: 52530.15087842002 E=52523.00876422482, F=7.142114195199058\n",
      "Loss gradient 2965.84569128718\n",
      "Train loss: 46104.81036074597 E=46097.44768143467, F=7.362679311300137\n",
      "Loss gradient 2665.7385299922025\n",
      "Train loss: 39766.29560649207 E=39758.598078738796, F=7.697527753272928\n",
      "Loss gradient 2361.6492085579766\n",
      "Train loss: 33731.30571285546 E=33723.15537800212, F=8.15033485333956\n",
      "Loss gradient 2063.5558184952392\n",
      "Train loss: 28313.787354161057 E=28305.084081327084, F=8.703272833973882\n",
      "Loss gradient 1784.9542819486612\n",
      "Train loss: 23909.129271961745 E=23899.839895834335, F=9.289376127410803\n",
      "Loss gradient 1546.6770004959155\n",
      "Train loss: 20601.873378872548 E=20592.043217291794, F=9.830161580755448\n",
      "Loss gradient 1358.0122416464878\n",
      "Train loss: 18055.221481250424 E=18044.918614745427, F=10.302866504995183\n",
      "Loss gradient 1206.0819986516844\n",
      "Train loss: 15897.146882442888 E=15886.425210485339, F=10.721671957550015\n",
      "Loss gradient 1073.737452763913\n",
      "norms 10.646601154842811 43.58688173057411 18.829160048152087\n",
      "gradients 1073.737452763913 753.4038432892826 4455.019929282152\n",
      "epoch 0 took 37.29s, optimizer loss=1.863e+05, test mae=163.5 test mae force=4.031\n",
      "Train loss: 13926.814584023832 E=13915.717518068981, F=11.097065954851681\n",
      "Loss gradient 952.1643479222417\n",
      "Train loss: 12091.731477110416 E=12080.297140716924, F=11.434336393491932\n",
      "Loss gradient 839.9962568667096\n",
      "Train loss: 10426.790757305625 E=10415.048533284265, F=11.74222402136019\n",
      "Loss gradient 738.6589117125895\n",
      "Train loss: 8975.310164252442 E=8963.280675922504, F=12.029488329938253\n",
      "Loss gradient 649.8931061384357\n",
      "Train loss: 7738.5553286297645 E=7726.24934896019, F=12.305979669574368\n",
      "Loss gradient 573.2544877240762\n",
      "Train loss: 6686.789451353758 E=6674.206796973061, F=12.582654380696736\n",
      "Loss gradient 507.2087040899426\n",
      "Train loss: 5744.142680741587 E=5731.267528180135, F=12.875152561452381\n",
      "Loss gradient 443.95879823727887\n",
      "Train loss: 4846.692510241553 E=4833.459483656974, F=13.23302658457888\n",
      "Loss gradient 381.37720067080664\n",
      "Train loss: 4295.269600162823 E=4281.7791275777345, F=13.49047258508808\n",
      "Loss gradient 339.5706224963259\n",
      "Train loss: 3838.4799523673155 E=3824.7367208360834, F=13.743231531231945\n",
      "Loss gradient 307.4001823277942\n",
      "Train loss: 3397.9715672442712 E=3383.954927449808, F=14.016639794463146\n",
      "Loss gradient 271.9580387181969\n",
      "Train loss: 3040.9108655062046 E=3026.6245192075844, F=14.28634629862027\n",
      "Loss gradient 245.0892468058332\n",
      "Train loss: 2758.775123122976 E=2744.2462499120165, F=14.5288732109594\n",
      "Loss gradient 222.0530071713762\n",
      "Train loss: 2518.3341790017707 E=2503.5682100984745, F=14.765968903296123\n",
      "Loss gradient 203.70473386997634\n",
      "Train loss: 2296.0764395583346 E=2281.0547313389834, F=15.021708219351325\n",
      "Loss gradient 186.04602029601813\n",
      "Train loss: 2088.262881321442 E=2072.97178126497, F=15.29110005647171\n",
      "Loss gradient 170.4980762788677\n",
      "Train loss: 1889.7716748849239 E=1874.1507973090497, F=15.620877575874065\n",
      "Loss gradient 156.15209208936082\n",
      "Train loss: 1693.169864322564 E=1677.2026106421383, F=15.967253680425728\n",
      "Loss gradient 138.53550038312903\n",
      "Train loss: 1544.0241687282048 E=1527.7243123019516, F=16.29985642625326\n",
      "Loss gradient 129.87904215513694\n",
      "Train loss: 1410.0599062973395 E=1393.396049121261, F=16.66385717607831\n",
      "Loss gradient 113.21733102519939\n",
      "norms 12.14345055936512 43.435333586477306 18.99147787314124\n",
      "gradients 113.21733102519939 119.39676110134066 572.478234997999\n",
      "epoch 1 took 54.18s, optimizer loss=1.393e+04, test mae=42.67 test mae force=5.889\n",
      "Train loss: 1271.2153960473413 E=1254.1458550889427, F=17.069540958398743\n",
      "Loss gradient 114.4444309257979\n",
      "Train loss: 1163.8123197830628 E=1146.3290091383508, F=17.483310644712038\n",
      "Loss gradient 102.47993748050713\n",
      "Train loss: 1066.3681108939866 E=1048.4830019540345, F=17.885108939951923\n",
      "Loss gradient 103.0509094150901\n",
      "Train loss: 982.8709036621818 E=964.5609357357041, F=18.309967926477686\n",
      "Loss gradient 95.89894224697146\n",
      "Train loss: 906.9820643944902 E=888.2423354836678, F=18.73972891082237\n",
      "Loss gradient 92.78628240159088\n",
      "Train loss: 836.048382861017 E=816.8482966650196, F=19.20008619599738\n",
      "Loss gradient 87.88630992028065\n",
      "Train loss: 774.1180659553698 E=754.4555020472685, F=19.66256390810137\n",
      "Loss gradient 82.97808565768564\n",
      "Train loss: 716.4217765780147 E=696.2831716859783, F=20.138604892036348\n",
      "Loss gradient 80.38998581822668\n",
      "Train loss: 665.0582947534635 E=644.4290111052711, F=20.629283648192445\n",
      "Loss gradient 75.20967903180183\n",
      "Train loss: 615.631756456565 E=594.4590332852893, F=21.172723171275702\n",
      "Loss gradient 72.8009411206781\n",
      "Train loss: 575.7640004565834 E=554.1131530433355, F=21.65084741324791\n",
      "Loss gradient 69.10547775611067\n",
      "Train loss: 543.8597419246928 E=521.7775421978992, F=22.08219972679364\n",
      "Loss gradient 63.744214582141275\n",
      "Train loss: 511.60245824880053 E=489.07010401661694, F=22.532354232183586\n",
      "Loss gradient 64.93566854199368\n",
      "Train loss: 482.9990414443036 E=460.00951156866535, F=22.98952987563823\n",
      "Loss gradient 58.66483550250279\n",
      "Train loss: 459.3961390259379 E=436.00751063601376, F=23.388628389924115\n",
      "Loss gradient 56.42656285152843\n",
      "Train loss: 434.546898481521 E=410.73585979089665, F=23.81103869062435\n",
      "Loss gradient 51.63931029990088\n",
      "Train loss: 415.39614026905207 E=391.21723535140774, F=24.17890491764431\n",
      "Loss gradient 49.40282632973012\n",
      "Train loss: 394.63867809814803 E=370.0369894421294, F=24.601688656018627\n",
      "Loss gradient 41.685377595300444\n",
      "Train loss: 376.95699866056816 E=351.9821704271248, F=24.974828233443343\n",
      "Loss gradient 39.26032562579623\n",
      "Train loss: 358.3303430058358 E=332.94920420402593, F=25.381138801809875\n",
      "Loss gradient 36.81565925480705\n",
      "norms 12.621672995431938 43.40782014679391 19.000379033436474\n",
      "gradients 36.81565925480705 56.18322474001803 77.46343281122174\n",
      "epoch 2 took 58.46s, optimizer loss=1.271e+03, test mae=52.51 test mae force=7.204\n",
      "Train loss: 339.2180158274689 E=313.4246362600326, F=25.793379567436233\n",
      "Loss gradient 34.09322665201781\n",
      "Train loss: 320.0576193437023 E=293.7815912627196, F=26.276028080982734\n",
      "Loss gradient 32.54115534135567\n",
      "Train loss: 304.33172036455517 E=277.6818955430387, F=26.649824821516432\n",
      "Loss gradient 30.531183984242137\n",
      "Train loss: 288.7561467442677 E=261.7161930493086, F=27.039953694959138\n",
      "Loss gradient 27.407813458121886\n",
      "Train loss: 271.2393295961649 E=243.76123829629302, F=27.478091299871902\n",
      "Loss gradient 24.941647029681096\n",
      "Train loss: 257.53043790562884 E=229.70517467849837, F=27.82526322713049\n",
      "Loss gradient 23.106889384564834\n",
      "Train loss: 244.00606775327472 E=215.80337762334034, F=28.202690129934375\n",
      "Loss gradient 21.631586111688684\n",
      "Train loss: 230.89738567122492 E=202.36691685849345, F=28.53046881273146\n",
      "Loss gradient 19.250507911866872\n",
      "Train loss: 219.8635056808299 E=191.03133743609706, F=28.832168244732816\n",
      "Loss gradient 18.83351485849868\n",
      "Train loss: 209.0966658533018 E=179.9781552484326, F=29.118510604869194\n",
      "Loss gradient 16.739136755137444\n",
      "Train loss: 200.23106923322788 E=170.87941772289525, F=29.35165151033263\n",
      "Loss gradient 15.753482759751494\n",
      "Train loss: 192.11786370701907 E=162.55784002225488, F=29.560023684764182\n",
      "Loss gradient 15.346503772305999\n",
      "Train loss: 183.9840011131568 E=154.2424249054949, F=29.741576207661915\n"
     ]
    },
    {
     "name": "stdout",
     "output_type": "stream",
     "text": [
      "Loss gradient 14.180748664357937\n",
      "Train loss: 176.94100088093236 E=147.04191390879257, F=29.899086972139788\n",
      "Loss gradient 13.976390710812403\n",
      "Train loss: 170.2758362452419 E=140.2512647847665, F=30.024571460475396\n",
      "Loss gradient 13.329292194822774\n",
      "Train loss: 163.87109911499527 E=133.73878134794535, F=30.132317767049933\n",
      "Loss gradient 13.137242208342245\n",
      "Train loss: 157.83784218832284 E=127.61576818475014, F=30.222074003572693\n",
      "Loss gradient 12.850546326464753\n",
      "Train loss: 151.8415272057176 E=121.55626381436949, F=30.2852633913481\n",
      "Loss gradient 12.586269648569273\n",
      "Train loss: 146.1901249109965 E=115.85005766799922, F=30.340067242997275\n",
      "Loss gradient 12.36332075221447\n",
      "Train loss: 140.3589971550403 E=109.99936211149806, F=30.359635043542237\n",
      "Loss gradient 12.219514976135448\n",
      "norms 12.931068767132027 43.399587074551626 19.0063314907297\n",
      "gradients 12.219514976135448 32.54512021184453 31.045574730262746\n",
      "epoch 3 took 63.58s, optimizer loss=339.2, test mae=40.6 test mae force=7.47\n",
      "Train loss: 134.9728803382258 E=104.59490662578476, F=30.377973712441037\n",
      "Loss gradient 11.94538018718216\n",
      "Train loss: 129.2923852208819 E=98.9482695685686, F=30.344115652313302\n",
      "Loss gradient 11.83481271663023\n",
      "Train loss: 123.01298041806172 E=92.69967128985681, F=30.313309128204907\n",
      "Loss gradient 11.753765267394582\n",
      "Train loss: 117.02657364364984 E=86.77981245737766, F=30.24676118627218\n",
      "Loss gradient 11.300344818437356\n",
      "Train loss: 111.42857485297804 E=81.25232077838498, F=30.176254074593054\n",
      "Loss gradient 11.40969086120888\n",
      "Train loss: 106.16079208571004 E=76.06707090573823, F=30.093721179971805\n",
      "Loss gradient 10.852992343810945\n",
      "Train loss: 100.95822907792402 E=70.97933098555765, F=29.978898092366364\n",
      "Loss gradient 10.902366444533504\n",
      "Train loss: 96.30988567507711 E=66.43274330393946, F=29.87714237113766\n",
      "Loss gradient 10.663301063840455\n",
      "Train loss: 92.0177929573263 E=62.27767395172492, F=29.740119005601365\n",
      "Loss gradient 10.323473423731317\n",
      "Train loss: 88.2471341644952 E=58.627371525507584, F=29.619762638987606\n",
      "Loss gradient 10.157569584413446\n",
      "Train loss: 84.82731418327639 E=55.34791842551949, F=29.4793957577569\n",
      "Loss gradient 9.821490003276855\n",
      "Train loss: 81.52642583723592 E=52.19389629630001, F=29.332529540935905\n",
      "Loss gradient 9.428742577237944\n",
      "Train loss: 78.6081615920532 E=49.42956198499655, F=29.178599607056647\n",
      "Loss gradient 9.246028957144823\n",
      "Train loss: 75.72683663988599 E=46.72148468250311, F=29.005351957382885\n",
      "Loss gradient 8.664221766409712\n",
      "Train loss: 73.44984265528954 E=44.60003798870405, F=28.849804666585488\n",
      "Loss gradient 8.462074198262583\n",
      "Train loss: 71.22769008864839 E=42.527772163349454, F=28.699917925298926\n",
      "Loss gradient 8.207709453215697\n",
      "Train loss: 69.00548531479187 E=40.490702718036836, F=28.514782596755037\n",
      "Loss gradient 7.860528573793552\n",
      "Train loss: 66.86701900765395 E=38.5250656071774, F=28.34195340047655\n",
      "Loss gradient 7.927430817430994\n",
      "Train loss: 64.65891989629343 E=36.524707930446226, F=28.134211965847197\n",
      "Loss gradient 7.4349551907099105\n",
      "Train loss: 62.77670180473184 E=34.83752438140485, F=27.939177423326992\n",
      "Loss gradient 7.066989948769474\n",
      "norms 13.315533774916135 43.39785346844097 18.98951135776559\n",
      "gradients 7.066989948769474 17.225702969984198 8.227545881830858\n",
      "epoch 4 took 58.15s, optimizer loss=135.0, test mae=43.9 test mae force=7.376\n"
     ]
    }
   ],
   "source": [
    "for epoch in range(5):\n",
    "    epoch_start = time.time()\n",
    "\n",
    "    def single_step():\n",
    "        global composition, radial_spectrum, spherical_expansions, energies\n",
    "        optimizer.zero_grad()\n",
    "        if device==\"cuda\":\n",
    "            print(f\"mem. before:  {torch.cuda.memory_stats()['allocated_bytes.all.current']/1e6} MB allocated, {torch.cuda.memory_stats()['reserved_bytes.all.current']/1e6} MB reserved \")\n",
    "        loss = torch.zeros(size=(1,), device=device)\n",
    "        loss_force = torch.zeros(size=(1,), device=device)\n",
    "        if himem:\n",
    "            predicted, _ = model(composition, radial_spectrum, spherical_expansions, forward_forces=False)\n",
    "            loss += loss_mse(predicted, energies)\n",
    "            f_predicted_e, f_predicted_f = model(f_composition, f_radial_spectrum, f_spherical_expansions, forward_forces=do_gradients)\n",
    "            loss += loss_mse(f_predicted_e, f_energies)\n",
    "            if do_gradients:\n",
    "                loss_force += loss_mse(f_predicted_f, f_forces)/42\n",
    "        else:\n",
    "            for composition, radial_spectrum, spherical_expansions, energies, forces in train_dataloader:\n",
    "                try:\n",
    "                    predicted, _ = model(composition, radial_spectrum, spherical_expansions, forward_forces=False)\n",
    "                except:\n",
    "                    if device==\"cuda\":\n",
    "                        print(f\"mem. during:  {torch.cuda.memory_stats()['allocated_bytes.all.current']/1e6} MB allocated, {torch.cuda.memory_stats()['reserved_bytes.all.current']/1e6} MB reserved \")\n",
    "                    raise\n",
    "                loss += loss_mse(predicted, energies)\n",
    "            raise ValueError(\"MUST IMPLEMENT FORCE CALCULATOR FOR THIS PATH!\")\n",
    "        loss /= (n_train+n_train_forces)\n",
    "        loss_force /= n_train_forces\n",
    "        if model.composition_model is not None:\n",
    "            loss += TORCH_REGULARIZER_COMPOSITION * torch.linalg.norm(model.composition_model.weights)\n",
    "        if model.radial_spectrum_model is not None:\n",
    "            loss += TORCH_REGULARIZER_RADIAL_SPECTRUM * torch.linalg.norm(model.radial_spectrum_model.weights)\n",
    "        if model.power_spectrum_model is not None:\n",
    "            loss += TORCH_REGULARIZER_POWER_SPECTRUM * torch.linalg.norm(model.power_spectrum_model.weights)\n",
    "\n",
    "        print(f\"Train loss: {(loss+loss_force).item()} E={loss.item()}, F={loss_force.item()}\")\n",
    "        loss+=loss_force\n",
    "        loss.backward(retain_graph=False)\n",
    "        print(\"Loss gradient\", np.linalg.norm(model.composition_model.weights.grad.numpy()))\n",
    "        return loss\n",
    "            \n",
    "    loss = optimizer.step(single_step)\n",
    "    loss = loss.item()\n",
    "    all_losses.append(loss)\n",
    "\n",
    "    epoch_time = time.time() - epoch_start\n",
    "    if epoch % 1 == 0:\n",
    "        print(\"norms\", np.linalg.norm(0 if model.composition_model is None else model.composition_model.weights.detach().cpu().numpy()),\n",
    "                  np.linalg.norm(0 if model.radial_spectrum_model is None else model.radial_spectrum_model.weights.detach().cpu().numpy()),\n",
    "                  np.linalg.norm(0 if model.power_spectrum_model is None else model.power_spectrum_model.weights.detach().cpu().numpy())\n",
    "                 )\n",
    "        print(\"gradients\", \n",
    "                  np.linalg.norm(0 if model.composition_model is None else model.composition_model.weights.grad.detach().cpu().numpy()),\n",
    "                  np.linalg.norm(0 if model.radial_spectrum_model is None else model.radial_spectrum_model.weights.grad.detach().cpu().numpy()),\n",
    "                  np.linalg.norm(0 if model.power_spectrum_model is None else model.power_spectrum_model.weights.grad.detach().cpu().numpy())\n",
    "                 )\n",
    "        with torch.no_grad():\n",
    "            predicted = []\n",
    "            reference = []\n",
    "            f_predicted = []\n",
    "            f_reference = []\n",
    "            for tcomposition, tradial_spectrum, tspherical_expansions, tenergies, tforces in test_dataloader_grad:\n",
    "                reference.append(tenergies)\n",
    "                tpredicted_e, tpredicted_f = model(tcomposition, tradial_spectrum, tspherical_expansions, forward_forces=do_gradients)\n",
    "                predicted.append(tpredicted_e)                \n",
    "                if do_gradients:\n",
    "                    f_predicted.append(tpredicted_f)\n",
    "                    f_reference.append(tforces)\n",
    "\n",
    "            reference = torch.vstack(reference)\n",
    "            predicted = torch.vstack(predicted)\n",
    "            test_mae = loss_mae(predicted, reference)/n_test\n",
    "            output.write(f\"{n_epochs_total} {loss} {test_mae}\")\n",
    "            if do_gradients:\n",
    "                f_reference = torch.vstack(f_reference)\n",
    "                f_predicted = torch.vstack(f_predicted)\n",
    "                f_test_mae = loss_mae(f_predicted, f_reference)/n_test/42\n",
    "                output.write(f\"{f_test_mae}\")                \n",
    "            output.write(\"\\n\")\n",
    "            output.flush()\n",
    "        all_tests.append(test_mae.item())\n",
    "        f_all_tests.append(f_test_mae.item())\n",
    "        print(f\"epoch {n_epochs_total} took {epoch_time:.4}s, optimizer loss={loss:.4}, test mae={test_mae:.4}\"+\n",
    "              (f\" test mae force={f_test_mae:.4}\"))\n",
    "        torch.save(model.state_dict(), f\"{filename}-restart.torch\")\n",
    "    \n",
    "    del loss\n",
    "    n_epochs_total += 1"
   ]
  },
  {
   "cell_type": "code",
   "execution_count": 220,
   "metadata": {},
   "outputs": [
    {
     "data": {
      "text/plain": [
       "[<matplotlib.lines.Line2D at 0x7fa60c534f10>]"
      ]
     },
     "execution_count": 220,
     "metadata": {},
     "output_type": "execute_result"
    },
    {
     "data": {
      "image/png": "[encoded data removed]",
      "text/plain": [
       "<Figure size 432x288 with 1 Axes>"
      ]
     },
     "metadata": {
      "needs_background": "light"
     },
     "output_type": "display_data"
    }
   ],
   "source": [
    "plt.loglog(all_losses)\n",
    "plt.loglog(all_tests)"
   ]
  },
  {
   "cell_type": "code",
   "execution_count": 226,
   "metadata": {},
   "outputs": [
    {
     "name": "stdout",
     "output_type": "stream",
     "text": [
      "torch.Size([24800, 1])\n"
     ]
    }
   ],
   "source": [
    "for p in model.power_spectrum_model.parameters(): \n",
    "    print(p.shape)"
   ]
  },
  {
   "cell_type": "code",
   "execution_count": 20,
   "metadata": {},
   "outputs": [
    {
     "data": {
      "text/plain": [
       "0"
      ]
     },
     "execution_count": 20,
     "metadata": {},
     "output_type": "execute_result"
    }
   ],
   "source": [
    "train_dataset._getitemtime"
   ]
  },
  {
   "cell_type": "code",
   "execution_count": 21,
   "metadata": {},
   "outputs": [
    {
     "data": {
      "text/plain": [
       "0"
      ]
     },
     "execution_count": 21,
     "metadata": {},
     "output_type": "execute_result"
    }
   ],
   "source": [
    "train_dataset._collatetime"
   ]
  },
  {
   "cell_type": "code",
   "execution_count": 31,
   "metadata": {},
   "outputs": [
    {
     "name": "stdout",
     "output_type": "stream",
     "text": [
      "TEST MAE: 0.25125926946103255 eV/at\n"
     ]
    },
    {
     "data": {
      "image/png": "[encoded data removed]",
      "text/plain": [
       "<Figure size 432x288 with 1 Axes>"
      ]
     },
     "metadata": {
      "needs_background": "light"
     },
     "output_type": "display_data"
    }
   ],
   "source": [
    "plt.plot(predicted.numpy(), reference.numpy(), 'b.')\n",
    "print(f\"TEST MAE: {test_mae.item()/len(frames[0])} eV/at\")"
   ]
  },
  {
   "cell_type": "code",
   "execution_count": 32,
   "metadata": {},
   "outputs": [
    {
     "name": "stdout",
     "output_type": "stream",
     "text": [
      "TEST MAE: 1.294715541507307 eV/A\n"
     ]
    },
    {
     "data": {
      "image/png": "[encoded data removed]",
      "text/plain": [
       "<Figure size 432x288 with 1 Axes>"
      ]
     },
     "metadata": {
      "needs_background": "light"
     },
     "output_type": "display_data"
    }
   ],
   "source": [
    "plt.plot(f_predicted.numpy(), f_reference.numpy(), 'b.')\n",
    "print(f\"TEST MAE: {f_test_mae.item()} eV/A\")"
   ]
  },
  {
   "cell_type": "code",
   "execution_count": 26,
   "metadata": {},
   "outputs": [],
   "source": [
    "with torch.no_grad():\n",
    "    tpredicted = []\n",
    "    treference = []\n",
    "    for tcomposition, tradial_spectrum, tspherical_expansions, tenergies, _ in train_dataloader:\n",
    "        treference.append(tenergies)\n",
    "        predicted_e, _ = model(tcomposition, tradial_spectrum, tspherical_expansions, forward_forces=False)\n",
    "        tpredicted.append(predicted_e)\n",
    "\n",
    "    treference = torch.vstack(treference)\n",
    "    tpredicted = torch.vstack(tpredicted)\n",
    "    tmae = loss_mae(tpredicted, treference)/n_train"
   ]
  },
  {
   "cell_type": "code",
   "execution_count": 27,
   "metadata": {},
   "outputs": [
    {
     "name": "stdout",
     "output_type": "stream",
     "text": [
      "TRAIN MAE: 0.0799058042631911 eV/at\n"
     ]
    },
    {
     "data": {
      "image/png": "[encoded data removed]",
      "text/plain": [
       "<Figure size 432x288 with 1 Axes>"
      ]
     },
     "metadata": {
      "needs_background": "light"
     },
     "output_type": "display_data"
    }
   ],
   "source": [
    "plt.plot(tpredicted, treference, 'b.')\n",
    "print(f\"TRAIN MAE: {tmae.item()/len(frames[0])} eV/at\")"
   ]
  },
  {
   "cell_type": "markdown",
   "metadata": {},
   "source": [
    "# Predicting forces with forward propagation"
   ]
  },
  {
   "cell_type": "code",
   "execution_count": 25,
   "metadata": {},
   "outputs": [],
   "source": [
    "def evaluate_model_with_forces(model, dataloader):\n",
    "    predicted_e = []\n",
    "    reference_e = []\n",
    "    predicted_f = []\n",
    "    reference_f = []\n",
    "    for composition, radial_spectrum, spherical_expansions, energies, forces in dataloader:\n",
    "        reference_e.append(energies)\n",
    "        reference_f.append(forces)\n",
    "        e, f = model(composition, radial_spectrum, spherical_expansions, forward_forces=True)\n",
    "        predicted_e.append(e)\n",
    "        predicted_f.append(f)\n",
    "\n",
    "    reference_e = torch.vstack(reference_e)\n",
    "    predicted_e = torch.vstack(predicted_e)\n",
    "\n",
    "    reference_f = torch.vstack(reference_f)\n",
    "    predicted_f = torch.vstack(predicted_f)\n",
    "\n",
    "    return reference_e, predicted_e, reference_f, predicted_f"
   ]
  },
  {
   "cell_type": "code",
   "execution_count": 26,
   "metadata": {},
   "outputs": [],
   "source": [
    "def parity_plots(reference_e, predicted_e, reference_f, predicted_f):\n",
    "    predicted_e = predicted_e.detach()\n",
    "    predicted_f = predicted_f.detach()\n",
    "\n",
    "    fig, (ax_e, ax_f) = plt.subplots(1, 2, figsize=(16, 8))\n",
    "\n",
    "    mae = loss_mae(predicted_e, reference_e)\n",
    "    rmse = loss_rmse(predicted_e, reference_e)\n",
    "    ax_e.scatter(reference_e.cpu(), predicted_e.cpu())\n",
    "    x = (torch.min(reference_e.flatten()).item(), torch.max(reference_e.flatten()).item())\n",
    "    ax_e.plot(x, x, color=\"red\")\n",
    "    ax_e.set_title(f\"energies, MAE={mae:.4}, RMSE={rmse:.4}\")\n",
    "    ax_e.set_xlabel(\"actual\")\n",
    "    ax_e.set_ylabel(\"predicted\")\n",
    "\n",
    "    mae = loss_mae(predicted_f, reference_f)\n",
    "    rmse = loss_rmse(predicted_f, reference_f)\n",
    "    ax_f.scatter(reference_f.cpu(), predicted_f.cpu())\n",
    "    x = (torch.min(reference_f.flatten()).item(), torch.max(reference_f.flatten()).item())\n",
    "    ax_f.plot(x, x, color=\"red\")\n",
    "    ax_f.set_title(f\"forces, MAE={mae:.4}, RMSE={rmse:.4}\")\n",
    "    ax_f.set_xlabel(\"actual\")\n",
    "    ax_f.set_ylabel(\"predicted\")\n",
    "\n",
    "    return fig"
   ]
  },
  {
   "cell_type": "code",
   "execution_count": 27,
   "metadata": {},
   "outputs": [
    {
     "data": {
      "image/png": "[encoded data removed]",
      "text/plain": [
       "<Figure size 1152x576 with 2 Axes>"
      ]
     },
     "metadata": {
      "needs_background": "light"
     },
     "output_type": "display_data"
    }
   ],
   "source": [
    "fig = parity_plots(*evaluate_model_with_forces(model, test_dataloader_grad))"
   ]
  },
  {
   "cell_type": "code",
   "execution_count": 28,
   "metadata": {},
   "outputs": [],
   "source": [
    "def check_finite_differences(model, frame, delta=1e-6):\n",
    "    frame = frame.copy()\n",
    "    delta_frame = frame.copy()\n",
    "    delta_frame.positions[3, 1] += delta\n",
    "\n",
    "    dataset = AtomisticDataset(\n",
    "        [frame, delta_frame], \n",
    "        all_species, \n",
    "        {\"radial_spectrum\": HYPERS_RAD_GRAD, \"spherical_expansion\":HYPERS_GRAD}, \n",
    "        torch.zeros(2, 1), \n",
    "    )\n",
    "    dataloader = create_dataloader(\n",
    "        dataset,\n",
    "        batch_size=len(dataset),\n",
    "        shuffle=False,\n",
    "        device=device,\n",
    "    )\n",
    "\n",
    "    for frame, radial_spectrum, spherical_expansions, _, _ in dataloader:\n",
    "        predicted_e, predicted_f = model(frame, radial_spectrum, spherical_expansions, forward_forces=True)\n",
    "\n",
    "    finite_diff = - (predicted_e[1] - predicted_e[0]) / delta\n",
    "    print(\"finite difference =\", finite_diff.item())\n",
    "    print(\"computed gradient =\", predicted_f[3, 1].item())"
   ]
  },
  {
   "cell_type": "code",
   "execution_count": 29,
   "metadata": {},
   "outputs": [
    {
     "name": "stdout",
     "output_type": "stream",
     "text": [
      "finite difference = 3.07691419720868\n",
      "computed gradient = 3.076920083417521\n"
     ]
    }
   ],
   "source": [
    "if torch.get_default_dtype() == torch.float64:\n",
    "    delta = 1e-6\n",
    "else:\n",
    "    delta = 1e-3\n",
    "\n",
    "check_finite_differences(model, train_frames[22], delta)"
   ]
  },
  {
   "cell_type": "code",
   "execution_count": null,
   "metadata": {},
   "outputs": [],
   "source": []
  },
  {
   "cell_type": "code",
   "execution_count": null,
   "metadata": {},
   "outputs": [],
   "source": []
  }
 ],
 "metadata": {
  "interpreter": {
   "hash": "5fdb860dc9f423b713ecf03ec3bee4ef4df65400e892ebee65bf9175396f229c"
  },
  "kernelspec": {
   "display_name": "Python 3",
   "language": "python",
   "name": "python3"
  },
  "language_info": {
   "codemirror_mode": {
    "name": "ipython",
    "version": 3
   },
   "file_extension": ".py",
   "mimetype": "text/x-python",
   "name": "python",
   "nbconvert_exporter": "python",
   "pygments_lexer": "ipython3",
   "version": "3.8.10"
  },
  "toc": {
   "base_numbering": 1,
   "nav_menu": {},
   "number_sections": true,
   "sideBar": true,
   "skip_h1_title": false,
   "title_cell": "Table of Contents",
   "title_sidebar": "Contents",
   "toc_cell": false,
   "toc_position": {},
   "toc_section_display": true,
   "toc_window_display": true
  }
 },
 "nbformat": 4,
 "nbformat_minor": 2
}
