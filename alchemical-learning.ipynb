{
 "cells": [
  {
   "cell_type": "code",
   "execution_count": 15,
   "metadata": {},
   "outputs": [
    {
     "name": "stdout",
     "output_type": "stream",
     "text": [
      "The autoreload extension is already loaded. To reload it, use:\n",
      "  %reload_ext autoreload\n"
     ]
    }
   ],
   "source": [
    "%load_ext autoreload\n",
    "%autoreload 2\n",
    "\n",
    "import numpy as np\n",
    "import torch\n",
    "\n",
    "import matplotlib.pyplot as plt\n",
    "\n",
    "import ase.io\n",
    "\n",
    "from utils.soap import compute_spherical_expansion_librascal, PowerSpectrum\n",
    "from utils.gap import train_gap_model\n",
    "from utils.alchemical import AlchemicalCombine\n",
    "\n",
    "torch.set_default_dtype(torch.float64)"
   ]
  },
  {
   "cell_type": "code",
   "execution_count": 16,
   "metadata": {},
   "outputs": [],
   "source": [
    "frames = ase.io.read(\"data/elpasolites_10590.xyz\", \":300\")\n",
    "energies = torch.tensor(np.loadtxt(\"data/elpasolites_10590_evpa.dat\")[:300])\n",
    "\n",
    "train_frames = frames[:250]\n",
    "test_frames = frames[250:]\n",
    "\n",
    "train_energies = energies[:250]\n",
    "test_energies = energies[250:]"
   ]
  },
  {
   "cell_type": "code",
   "execution_count": 17,
   "metadata": {},
   "outputs": [],
   "source": [
    "global_species = set()\n",
    "for frame in frames:\n",
    "    global_species.update(frame.numbers)\n",
    "\n",
    "global_species = list(map(lambda u: int(u), global_species))\n",
    "\n",
    "HYPERS = {\n",
    "    \"interaction_cutoff\": 5.0,\n",
    "    \"max_angular\": 4,\n",
    "    \"max_radial\": 4,\n",
    "    \"gaussian_sigma_constant\": 0.3,\n",
    "    \"gaussian_sigma_type\": \"Constant\",\n",
    "    \"cutoff_smooth_width\": 0.5,\n",
    "    \"radial_basis\": \"GTO\",\n",
    "    \"compute_gradients\": False,\n",
    "    \"expansion_by_species_method\": \"user defined\",\n",
    "    \"global_species\": global_species,\n",
    "}"
   ]
  },
  {
   "cell_type": "code",
   "execution_count": 18,
   "metadata": {},
   "outputs": [],
   "source": [
    "train_spherical_expansions = compute_spherical_expansion_librascal(train_frames, HYPERS)\n",
    "test_spherical_expansions = compute_spherical_expansion_librascal(test_frames, HYPERS)\n",
    "\n",
    "train_species = [torch.tensor(frame.numbers) for frame in train_frames]\n",
    "test_species = [torch.tensor(frame.numbers) for frame in test_frames]"
   ]
  },
  {
   "cell_type": "markdown",
   "metadata": {},
   "source": [
    "# Baseline: standard GAP model"
   ]
  },
  {
   "cell_type": "code",
   "execution_count": 19,
   "metadata": {},
   "outputs": [],
   "source": [
    "class BaseGap(torch.nn.Module):\n",
    "    def __init__(self, n_support, zeta, lambdas):\n",
    "        super().__init__()\n",
    "        self.power_spectrum = PowerSpectrum()\n",
    "\n",
    "        self.n_support = n_support\n",
    "        self.zeta = zeta\n",
    "        self.lambdas = lambdas\n",
    "\n",
    "        self.model = None\n",
    "\n",
    "    def fit(self, spherical_expansion, all_species, energies):\n",
    "        power_spectrum = [\n",
    "            self.power_spectrum(se) for se in spherical_expansion\n",
    "        ]\n",
    "        self.model = train_gap_model(\n",
    "            power_spectrum, \n",
    "            all_species,\n",
    "            energies, \n",
    "            self.n_support, \n",
    "            zeta=self.zeta, \n",
    "            lambdas=self.lambdas\n",
    "        )\n",
    "\n",
    "    def forward(self, spherical_expansion, all_species):\n",
    "        ps = self.power_spectrum(spherical_expansion)\n",
    "        return self.model(ps, all_species)"
   ]
  },
  {
   "cell_type": "code",
   "execution_count": 20,
   "metadata": {},
   "outputs": [],
   "source": [
    "n_support = {\n",
    "    species: 10 for species in global_species\n",
    "}\n",
    "\n",
    "base_model = BaseGap(n_support, zeta=2, lambdas=[1e-6, 1e-6])\n",
    "base_model.fit(train_spherical_expansions, train_species, train_energies)"
   ]
  },
  {
   "cell_type": "code",
   "execution_count": 21,
   "metadata": {},
   "outputs": [
    {
     "data": {
      "text/plain": [
       "[<matplotlib.lines.Line2D at 0x14ae3b8b0>]"
      ]
     },
     "execution_count": 21,
     "metadata": {},
     "output_type": "execute_result"
    },
    {
     "data": {
      "image/png": "[encoded data removed]",
      "text/plain": [
       "<Figure size 432x288 with 1 Axes>"
      ]
     },
     "metadata": {
      "needs_background": "light"
     },
     "output_type": "display_data"
    }
   ],
   "source": [
    "predicted_energies_training_set = torch.vstack([\n",
    "    base_model(se, sp)\n",
    "    for se, sp in zip(train_spherical_expansions, train_species)\n",
    "])\n",
    "\n",
    "plt.scatter(predicted_energies_training_set.numpy(), train_energies)\n",
    "\n",
    "x = np.linspace(train_energies.min(), train_energies.max(), 20)\n",
    "plt.plot(x, x, color='r')"
   ]
  },
  {
   "cell_type": "code",
   "execution_count": 22,
   "metadata": {},
   "outputs": [
    {
     "data": {
      "text/plain": [
       "[<matplotlib.lines.Line2D at 0x13ad971c0>]"
      ]
     },
     "execution_count": 22,
     "metadata": {},
     "output_type": "execute_result"
    },
    {
     "data": {
      "image/png": "[encoded data removed]",
      "text/plain": [
       "<Figure size 432x288 with 1 Axes>"
      ]
     },
     "metadata": {
      "needs_background": "light"
     },
     "output_type": "display_data"
    }
   ],
   "source": [
    "predicted_energies_test_set = torch.vstack([\n",
    "    base_model(se, sp)\n",
    "    for se, sp in zip(test_spherical_expansions, test_species)\n",
    "])\n",
    "\n",
    "plt.scatter(predicted_energies_test_set.numpy(), test_energies)\n",
    "\n",
    "x = np.linspace(test_energies.min(), test_energies.max(), 20)\n",
    "plt.plot(x, x, color='r')"
   ]
  },
  {
   "cell_type": "markdown",
   "metadata": {},
   "source": [
    "# Combining species"
   ]
  },
  {
   "cell_type": "code",
   "execution_count": 23,
   "metadata": {},
   "outputs": [],
   "source": [
    "class MixedSpeciesGap(torch.nn.Module):\n",
    "    def __init__(self, species, n_pseudo_species, n_support, zeta, lambdas):\n",
    "        super().__init__()\n",
    "        self.power_spectrum = PowerSpectrum()\n",
    "        self.alchemical = AlchemicalCombine(species, n_pseudo_species)\n",
    "\n",
    "        self.n_support = n_support\n",
    "        self.zeta = zeta\n",
    "        self.lambdas = lambdas\n",
    "\n",
    "        self.model = None\n",
    "\n",
    "    def fit(self, spherical_expansion, all_species, energies):\n",
    "        combined = [\n",
    "            self.alchemical(se) for se in spherical_expansion\n",
    "        ]\n",
    "\n",
    "        power_spectrum = [\n",
    "            self.power_spectrum(se) for se in combined\n",
    "        ]\n",
    "        self.model = train_gap_model(\n",
    "            power_spectrum, \n",
    "            all_species,\n",
    "            energies, \n",
    "            self.n_support, \n",
    "            zeta=self.zeta, \n",
    "            lambdas=self.lambdas\n",
    "        )\n",
    "\n",
    "    def forward(self, spherical_expansion, all_species):\n",
    "        combined = self.alchemical(spherical_expansion)\n",
    "        ps = self.power_spectrum(combined)\n",
    "        return self.model(ps, all_species)"
   ]
  },
  {
   "cell_type": "code",
   "execution_count": 24,
   "metadata": {},
   "outputs": [],
   "source": [
    "mixed_species_model = MixedSpeciesGap(global_species, n_pseudo_species=4, n_support=n_support, zeta=2, lambdas=[1e-6, 1e-6])\n",
    "mixed_species_model.fit(train_spherical_expansions, train_species, train_energies)"
   ]
  },
  {
   "cell_type": "code",
   "execution_count": 25,
   "metadata": {},
   "outputs": [
    {
     "data": {
      "text/plain": [
       "[<matplotlib.lines.Line2D at 0x14a771d00>]"
      ]
     },
     "execution_count": 25,
     "metadata": {},
     "output_type": "execute_result"
    },
    {
     "data": {
      "image/png": "[encoded data removed]",
      "text/plain": [
       "<Figure size 432x288 with 1 Axes>"
      ]
     },
     "metadata": {
      "needs_background": "light"
     },
     "output_type": "display_data"
    }
   ],
   "source": [
    "predicted_energies_training_set = torch.vstack([\n",
    "    mixed_species_model(se, sp)\n",
    "    for se, sp in zip(train_spherical_expansions, train_species)\n",
    "])\n",
    "\n",
    "plt.scatter(predicted_energies_training_set.detach().numpy(), train_energies)\n",
    "\n",
    "x = np.linspace(train_energies.min(), train_energies.max(), 20)\n",
    "plt.plot(x, x, color='r')"
   ]
  },
  {
   "cell_type": "code",
   "execution_count": 26,
   "metadata": {},
   "outputs": [
    {
     "data": {
      "text/plain": [
       "[<matplotlib.lines.Line2D at 0x14c4a7940>]"
      ]
     },
     "execution_count": 26,
     "metadata": {},
     "output_type": "execute_result"
    },
    {
     "data": {
      "image/png": "[encoded data removed]",
      "text/plain": [
       "<Figure size 432x288 with 1 Axes>"
      ]
     },
     "metadata": {
      "needs_background": "light"
     },
     "output_type": "display_data"
    }
   ],
   "source": [
    "predicted_energies_test_set = torch.vstack([\n",
    "    mixed_species_model(se, sp)\n",
    "    for se, sp in zip(test_spherical_expansions, test_species)\n",
    "])\n",
    "\n",
    "plt.scatter(predicted_energies_test_set.detach().numpy(), test_energies)\n",
    "\n",
    "x = np.linspace(test_energies.min(), test_energies.max(), 20)\n",
    "plt.plot(x, x, color='r')"
   ]
  },
  {
   "cell_type": "code",
   "execution_count": null,
   "metadata": {},
   "outputs": [],
   "source": [
    "# tentative optimization loop for the species projection\n",
    "\n",
    "mixed_species_model = MixedSpeciesGap(global_species, n_pseudo_species=4, n_support=n_support, zeta=2, lambdas=[1e-6, 1e-6])\n",
    "\n",
    "optimizer = torch.optim.AdamW(mixed_species_model.parameters(), lr=0.01)\n",
    "loss_fn = torch.nn.MSELoss()\n",
    "\n",
    "for epoch in range(300):\n",
    "    optimizer.zero_grad()\n",
    "\n",
    "    mixed_species_model.fit(train_spherical_expansions, train_species, train_energies)\n",
    "    predicted = torch.vstack([\n",
    "        mixed_species_model(se, sp)\n",
    "        for se, sp in zip(train_spherical_expansions, train_species)\n",
    "    ])\n",
    "\n",
    "    loss = loss_fn(predicted.squeeze(), train_energies)\n",
    "\n",
    "    if epoch % 10 == 0:\n",
    "        print(epoch, loss.item())\n",
    "\n",
    "    loss.backward()\n",
    "    optimizer.step()\n"
   ]
  },
  {
   "cell_type": "code",
   "execution_count": null,
   "metadata": {},
   "outputs": [],
   "source": []
  }
 ],
 "metadata": {
  "interpreter": {
   "hash": "e5ef12eb5922cf8d604aeb1dfa412e3da3665f54b5e701463f21d300328cee18"
  },
  "kernelspec": {
   "display_name": "Python 3.9.7 64-bit ('virtualenv': venv)",
   "language": "python",
   "name": "python3"
  },
  "language_info": {
   "codemirror_mode": {
    "name": "ipython",
    "version": 3
   },
   "file_extension": ".py",
   "mimetype": "text/x-python",
   "name": "python",
   "nbconvert_exporter": "python",
   "pygments_lexer": "ipython3",
   "version": "3.9.7"
  },
  "orig_nbformat": 4
 },
 "nbformat": 4,
 "nbformat_minor": 2
}
