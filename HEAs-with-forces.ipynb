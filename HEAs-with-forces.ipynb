{
 "cells": [
  {
   "cell_type": "code",
   "execution_count": 1,
   "metadata": {},
   "outputs": [],
   "source": [
    "%load_ext autoreload\n",
    "%autoreload 2"
   ]
  },
  {
   "cell_type": "code",
   "execution_count": 2,
   "metadata": {},
   "outputs": [],
   "source": [
    "import numpy as np\n",
    "import torch\n",
    "#import torchviz\n",
    "import time\n",
    "import copy\n",
    "\n",
    "import matplotlib.pyplot as plt\n",
    "\n",
    "import ase.io\n",
    "\n",
    "from utils.dataset import AtomisticDataset, create_dataloader\n",
    "from utils.soap import PowerSpectrum\n",
    "from utils.alchemical import AlchemicalCombine\n",
    "from utils.linear import LinearModel\n",
    "\n",
    "torch.set_default_dtype(torch.float64)"
   ]
  },
  {
   "cell_type": "code",
   "execution_count": 3,
   "metadata": {},
   "outputs": [
    {
     "data": {
      "text/plain": [
       "False"
      ]
     },
     "execution_count": 3,
     "metadata": {},
     "output_type": "execute_result"
    }
   ],
   "source": [
    "torch.cuda.is_available()"
   ]
  },
  {
   "cell_type": "code",
   "execution_count": 4,
   "metadata": {},
   "outputs": [
    {
     "name": "stdout",
     "output_type": "stream",
     "text": [
      "using 100 training frames\n"
     ]
    }
   ],
   "source": [
    "n_test = 100\n",
    "n_train = 100\n",
    "\n",
    "frames = ase.io.read(\"data/xyz/data.xyz\", f\":{n_test + n_train}\")\n",
    "\n",
    "train_frames = frames[:n_train]\n",
    "test_frames = frames[-n_test:]\n",
    "\n",
    "train_energies = torch.tensor([frame.info[\"energy\"] for frame in train_frames]).reshape(-1, 1)\n",
    "test_energies = torch.tensor([frame.info[\"energy\"] for frame in test_frames]).reshape(-1, 1)\n",
    "\n",
    "train_forces = [torch.tensor(frame.arrays[\"forces\"]) for frame in train_frames]\n",
    "test_forces = [torch.tensor(frame.arrays[\"forces\"]) for frame in test_frames]\n",
    "\n",
    "print(f\"using {n_train} training frames\")"
   ]
  },
  {
   "cell_type": "code",
   "execution_count": 5,
   "metadata": {},
   "outputs": [],
   "source": [
    "global_species = set()\n",
    "for frame in frames:\n",
    "    global_species.update(frame.numbers)\n",
    "\n",
    "global_species = list(map(lambda u: int(u), global_species))\n",
    "\n",
    "# HYPERS_FROM_PAPER = {\n",
    "#     \"interaction_cutoff\": 5.0,\n",
    "#     \"max_angular\": 9,\n",
    "#     \"max_radial\": 12,\n",
    "#     \"gaussian_sigma_constant\": 0.3,\n",
    "#     \"gaussian_sigma_type\": \"Constant\",\n",
    "#     \"cutoff_smooth_width\": 0.5,\n",
    "#     \"radial_basis\": \"GTO\",\n",
    "#     \"compute_gradients\": False,\n",
    "#     \"expansion_by_species_method\": \"user defined\",\n",
    "#     \"global_species\": global_species,\n",
    "# }\n",
    "\n",
    "HYPERS_SMALL = {\n",
    "    \"cutoff\": 5.0,\n",
    "    \"max_angular\": 3,\n",
    "    \"max_radial\": 4,\n",
    "    \"atomic_gaussian_width\": 0.3,\n",
    "    \"cutoff_function\": {\"ShiftedCosine\": {\"width\": 0.5}},\n",
    "    \"radial_basis\": {\"Gto\": {}},\n",
    "    \"gradients\": False,\n",
    "}"
   ]
  },
  {
   "cell_type": "markdown",
   "metadata": {},
   "source": [
    "# Optimization loop, energies only"
   ]
  },
  {
   "cell_type": "code",
   "execution_count": 6,
   "metadata": {},
   "outputs": [],
   "source": [
    "# device = \"cuda\"\n",
    "device = \"cpu\"\n",
    "\n",
    "train_dataset = AtomisticDataset(train_frames, HYPERS_SMALL, train_energies)\n",
    "test_dataset = AtomisticDataset(test_frames, HYPERS_SMALL, test_energies)"
   ]
  },
  {
   "cell_type": "code",
   "execution_count": 16,
   "metadata": {},
   "outputs": [],
   "source": [
    "train_dataloader = create_dataloader(\n",
    "    train_dataset,\n",
    "    batch_size=512,\n",
    "    shuffle=True,\n",
    "    device=device,\n",
    ")\n",
    "\n",
    "train_dataloader_no_batch = create_dataloader(\n",
    "    train_dataset,\n",
    "    batch_size=len(train_dataset),\n",
    "    shuffle=False,\n",
    "    device=device,\n",
    ")\n",
    "\n",
    "test_dataloader = create_dataloader(\n",
    "    test_dataset,\n",
    "    batch_size=100,\n",
    "    shuffle=False,\n",
    "    device=device,\n",
    ")"
   ]
  },
  {
   "cell_type": "code",
   "execution_count": 17,
   "metadata": {},
   "outputs": [],
   "source": [
    "def loss_optimizer(predicted, actual, regularizer, weights):\n",
    "    loss = torch.linalg.norm(predicted.flatten() - actual.flatten()) ** 2\n",
    "    # regularize the loss, full dataset std\n",
    "    loss += regularizer / torch.std(train_energies.flatten()) * torch.linalg.norm(weights) ** 2\n",
    "\n",
    "    return loss\n",
    "\n",
    "def loss_optimizer_forces(predicted, actual, predicted_f, actual_f, regularizer, weights):\n",
    "    loss = torch.linalg.norm(predicted.flatten() - actual.flatten()) ** 2\n",
    "    loss += torch.linalg.norm(predicted_f.flatten() - actual_f.flatten()) ** 2\n",
    "    # regularize the loss, full dataset std\n",
    "    loss += regularizer / torch.std(train_energies.flatten()) * torch.linalg.norm(weights) ** 2\n",
    "\n",
    "    return loss\n",
    "\n",
    "def loss_mae(predicted, actual):\n",
    "    return torch.mean(torch.abs(predicted.flatten() - actual.flatten()))"
   ]
  },
  {
   "cell_type": "code",
   "execution_count": 18,
   "metadata": {},
   "outputs": [],
   "source": [
    "class MixedSpeciesLinearModel(torch.nn.Module):\n",
    "    def __init__(self, \n",
    "        species, \n",
    "        n_pseudo_species, \n",
    "        regularizer,\n",
    "        optimizable_weights,\n",
    "        random_initial_weights,\n",
    "    ):\n",
    "        super().__init__()\n",
    "\n",
    "        self.alchemical = AlchemicalCombine(species, n_pseudo_species)\n",
    "        self.power_spectrum = PowerSpectrum()\n",
    "        self.model = LinearModel(\n",
    "            normalize=True, \n",
    "            regularizer=regularizer,\n",
    "            optimizable_weights=optimizable_weights,\n",
    "            random_initial_weights=random_initial_weights,\n",
    "        )\n",
    "\n",
    "        self.optimizable_weights = optimizable_weights\n",
    "        self.random_initial_weights = random_initial_weights\n",
    "\n",
    "    def forward(self, spherical_expansion, forward_forces=False):\n",
    "        # TODO: remove gradients if forward_forces is false\n",
    "        combined = self.alchemical(spherical_expansion)\n",
    "        power_spectrum = self.power_spectrum(combined)\n",
    "        energies, forces = self.model(power_spectrum, with_forces=forward_forces)\n",
    "        return energies, forces\n",
    "\n",
    "    def initialize_parameters(self, spherical_expansion, energies, forces=None):\n",
    "        combined = self.alchemical(spherical_expansion)\n",
    "        power_spectrum = self.power_spectrum(combined)\n",
    "        self.model.initialize_parameters(power_spectrum, energies, forces)\n",
    "        "
   ]
  },
  {
   "cell_type": "code",
   "execution_count": 19,
   "metadata": {},
   "outputs": [],
   "source": [
    "N_PSEUDO_SPECIES = 4\n",
    "TORCH_REGULARIZER = 1e-2\n",
    "LINALG_REGULARIZER_ENERGIES = 1e-2\n",
    "LINALG_REGULARIZER_FORCES = 1e-1\n",
    "\n",
    "mixed_species_model = MixedSpeciesLinearModel(\n",
    "    global_species, \n",
    "    n_pseudo_species=N_PSEUDO_SPECIES, \n",
    "    regularizer=[LINALG_REGULARIZER_ENERGIES, LINALG_REGULARIZER_FORCES],\n",
    "    optimizable_weights=True,\n",
    "    random_initial_weights=True,\n",
    ")"
   ]
  },
  {
   "cell_type": "code",
   "execution_count": 20,
   "metadata": {},
   "outputs": [],
   "source": [
    "mixed_species_model.to(device=device)\n",
    "\n",
    "# initialize the model\n",
    "with torch.no_grad():\n",
    "    for spherical_expansions, energies, _ in train_dataloader_no_batch:\n",
    "        # we want to intially train the model on all frames, to ensure the\n",
    "        # support points come from the full dataset.\n",
    "        mixed_species_model.initialize_parameters(spherical_expansions, energies)\n",
    "\n",
    "if mixed_species_model.optimizable_weights:\n",
    "    torch_loss_regularizer = TORCH_REGULARIZER\n",
    "else:\n",
    "    torch_loss_regularizer = 0\n",
    "    # we can not use batches if we are training with linear algebra, we need to\n",
    "    # have all training frames available\n",
    "    assert train_dataloader.batch_size >= len(train_frames)"
   ]
  },
  {
   "cell_type": "code",
   "execution_count": 21,
   "metadata": {},
   "outputs": [],
   "source": [
    "lr = 0.1\n",
    "# optimizer = torch.optim.AdamW(\n",
    "#     mixed_species_model.parameters(), \n",
    "#     lr=lr, weight_decay=0.0\n",
    "# )\n",
    "\n",
    "optimizer = torch.optim.LBFGS(\n",
    "    mixed_species_model.parameters(), \n",
    "    lr=lr,\n",
    ")\n",
    "\n",
    "all_losses = []\n",
    "\n",
    "\n",
    "filename = f\"{mixed_species_model.__class__.__name__}-{N_PSEUDO_SPECIES}-mixed-{n_train}-train\"\n",
    "if mixed_species_model.optimizable_weights:\n",
    "    filename += \"-opt-weights\"\n",
    "\n",
    "if mixed_species_model.random_initial_weights:\n",
    "    filename += \"-random-weights\"\n",
    "\n",
    "output = open(f\"{filename}.dat\", \"w\")\n",
    "output.write(\"# epoch  train_loss  test_mae\\n\")\n",
    "n_epochs_total = 0"
   ]
  },
  {
   "cell_type": "code",
   "execution_count": 23,
   "metadata": {},
   "outputs": [
    {
     "name": "stdout",
     "output_type": "stream",
     "text": [
      "epoch 0 took 2.776s, optimizer loss=7.94e+06, test mae=74.04\n",
      "epoch 1 took 2.749s, optimizer loss=6.548e+05, test mae=41.72\n",
      "epoch 2 took 2.751s, optimizer loss=6.78e+04, test mae=26.46\n",
      "epoch 3 took 2.757s, optimizer loss=1.072e+04, test mae=24.2\n",
      "epoch 4 took 2.814s, optimizer loss=3.357e+03, test mae=23.8\n"
     ]
    }
   ],
   "source": [
    "for epoch in range(5):\n",
    "    epoch_start = time.time()\n",
    "\n",
    "    # if UPDATE_SUPPORT_POINTS:\n",
    "    #     # to update the support points, we need to have all training data at\n",
    "    #     # once in memory\n",
    "    #     for spherical_expansions, species, slices, _ in train_dataloader_no_batch:\n",
    "    #         assert len(slices) == len(train_frames)\n",
    "    #         # use `select_again=True` to re-select the same number of support\n",
    "    #         # points. this might make convergence slower, but maybe able to\n",
    "    #         # reach a lower final loss?\n",
    "    #         #\n",
    "    #         # with `select_again=False`, the environments selected in the first\n",
    "    #         # fit above are used as support points\n",
    "    #         mixed_species_model.update_support_points(\n",
    "    #             spherical_expansions, species, slices, select_again=False\n",
    "    #         )\n",
    "\n",
    "    for spherical_expansions, energies, _ in train_dataloader:\n",
    "        def single_step():\n",
    "            optimizer.zero_grad()\n",
    "           \n",
    "            if not mixed_species_model.optimizable_weights:\n",
    "                mixed_species_model.initialize_parameters(spherical_expansions, energies)\n",
    "                \n",
    "            predicted, _ = mixed_species_model(spherical_expansions)\n",
    "\n",
    "            loss = loss_optimizer(\n",
    "                predicted, \n",
    "                energies, \n",
    "                torch_loss_regularizer, \n",
    "                mixed_species_model.model.weights\n",
    "            )\n",
    "            loss.backward(retain_graph=True)\n",
    "\n",
    "            return loss\n",
    "            \n",
    "        loss = optimizer.step(single_step)\n",
    "        all_losses.append(loss.item())\n",
    "\n",
    "    epoch_time = time.time() - epoch_start\n",
    "    if epoch % 1 == 0:\n",
    "        with torch.no_grad():\n",
    "            predicted = []\n",
    "            reference = []\n",
    "            for spherical_expansions, energies, _ in test_dataloader:\n",
    "                reference.append(energies)\n",
    "                predicted_e, _ = mixed_species_model(spherical_expansions)\n",
    "                predicted.append(predicted_e)\n",
    "\n",
    "            reference = torch.vstack(reference)\n",
    "            predicted = torch.vstack(predicted)\n",
    "            mae = loss_mae(predicted.cpu(), reference)\n",
    "\n",
    "            output.write(f\"{n_epochs_total} {loss} {mae}\\n\")\n",
    "            output.flush()\n",
    "\n",
    "        print(f\"epoch {n_epochs_total} took {epoch_time:.4}s, optimizer loss={loss.item():.4}, test mae={mae:.4}\")\n",
    "        \n",
    "    n_epochs_total += 1"
   ]
  },
  {
   "cell_type": "markdown",
   "metadata": {},
   "source": [
    "# Predicting forces with forward propagation"
   ]
  },
  {
   "cell_type": "code",
   "execution_count": 24,
   "metadata": {},
   "outputs": [],
   "source": [
    "HYPERS_GRAD = copy.deepcopy(HYPERS_SMALL)\n",
    "HYPERS_GRAD[\"gradients\"] = True\n",
    "\n",
    "test_dataset_grad = AtomisticDataset(test_frames, HYPERS_GRAD, test_energies, test_forces)\n",
    "\n",
    "test_dataloader_grad_no_batch = create_dataloader(\n",
    "    test_dataset_grad,\n",
    "    batch_size=len(test_dataset_grad),\n",
    "    shuffle=False,\n",
    "    device=device,\n",
    ")"
   ]
  },
  {
   "cell_type": "code",
   "execution_count": 25,
   "metadata": {},
   "outputs": [],
   "source": [
    "with torch.no_grad():\n",
    "    for spherical_expansions, energies, forces in test_dataloader_grad_no_batch:\n",
    "        predicted_e, predicted_f = mixed_species_model(spherical_expansions, forward_forces=True)"
   ]
  },
  {
   "cell_type": "code",
   "execution_count": 26,
   "metadata": {},
   "outputs": [
    {
     "data": {
      "text/plain": [
       "Text(0, 0.5, 'predicted')"
      ]
     },
     "execution_count": 26,
     "metadata": {},
     "output_type": "execute_result"
    },
    {
     "data": {
      "image/png": "[encoded data removed]",
      "text/plain": [
       "<Figure size 1152x576 with 2 Axes>"
      ]
     },
     "metadata": {
      "needs_background": "light"
     },
     "output_type": "display_data"
    }
   ],
   "source": [
    "fig, (ax_e, ax_f) = plt.subplots(1, 2, figsize=(16, 8))\n",
    "\n",
    "ax_e.scatter(energies, predicted_e.detach())\n",
    "x = (torch.min(energies.flatten()), torch.max(energies.flatten()))\n",
    "ax_e.plot(x, x, color=\"red\")\n",
    "ax_e.set_title(\"energies\")\n",
    "ax_e.set_xlabel(\"actual\")\n",
    "ax_e.set_ylabel(\"predicted\")\n",
    "\n",
    "ax_f.scatter(forces, predicted_f.detach())\n",
    "x = (torch.min(forces.flatten()), torch.max(forces.flatten()))\n",
    "ax_f.plot(x, x, color=\"red\")\n",
    "ax_f.set_title(\"forces\")\n",
    "ax_f.set_xlabel(\"actual\")\n",
    "ax_f.set_ylabel(\"predicted\")"
   ]
  },
  {
   "cell_type": "code",
   "execution_count": null,
   "metadata": {},
   "outputs": [],
   "source": []
  }
 ],
 "metadata": {
  "interpreter": {
   "hash": "e5ef12eb5922cf8d604aeb1dfa412e3da3665f54b5e701463f21d300328cee18"
  },
  "kernelspec": {
   "display_name": "Python 3.9.7 64-bit ('virtualenv': venv)",
   "language": "python",
   "name": "python3"
  },
  "language_info": {
   "codemirror_mode": {
    "name": "ipython",
    "version": 3
   },
   "file_extension": ".py",
   "mimetype": "text/x-python",
   "name": "python",
   "nbconvert_exporter": "python",
   "pygments_lexer": "ipython3",
   "version": "3.10.0"
  },
  "orig_nbformat": 4
 },
 "nbformat": 4,
 "nbformat_minor": 2
}
