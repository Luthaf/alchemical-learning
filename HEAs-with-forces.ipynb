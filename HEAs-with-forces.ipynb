{
 "cells": [
  {
   "cell_type": "code",
   "execution_count": 1,
   "metadata": {},
   "outputs": [],
   "source": [
    "%load_ext autoreload\n",
    "%autoreload 2"
   ]
  },
  {
   "cell_type": "code",
   "execution_count": 2,
   "metadata": {},
   "outputs": [],
   "source": [
    "import numpy as np\n",
    "import torch\n",
    "import cProfile\n",
    "import time\n",
    "import copy\n",
    "\n",
    "import matplotlib.pyplot as plt\n",
    "\n",
    "import ase.io\n",
    "\n",
    "from utils.dataset import AtomisticDataset, create_dataloader\n",
    "from utils.soap import PowerSpectrum\n",
    "from utils.alchemical import AlchemicalCombine\n",
    "from utils.linear import LinearModel\n",
    "from utils.operations import SumStructures\n",
    "\n",
    "torch.set_default_dtype(torch.float64)"
   ]
  },
  {
   "cell_type": "code",
   "execution_count": 3,
   "metadata": {},
   "outputs": [
    {
     "name": "stdout",
     "output_type": "stream",
     "text": [
      "using 100 training frames\n"
     ]
    }
   ],
   "source": [
    "n_test = 100\n",
    "n_train = 100\n",
    "\n",
    "frames = ase.io.read(\"data/xyz/data.xyz\", f\":{n_test + n_train}\")\n",
    "\n",
    "train_frames = frames[:n_train]\n",
    "test_frames = frames[-n_test:]\n",
    "\n",
    "train_energies = torch.tensor([frame.info[\"energy\"] for frame in train_frames]).reshape(-1, 1)\n",
    "test_energies = torch.tensor([frame.info[\"energy\"] for frame in test_frames]).reshape(-1, 1)\n",
    "\n",
    "train_forces = [torch.tensor(frame.arrays[\"forces\"]) for frame in train_frames]\n",
    "test_forces = [torch.tensor(frame.arrays[\"forces\"]) for frame in test_frames]\n",
    "\n",
    "print(f\"using {n_train} training frames\")"
   ]
  },
  {
   "cell_type": "code",
   "execution_count": 4,
   "metadata": {},
   "outputs": [],
   "source": [
    "all_species = set()\n",
    "for frame in frames:\n",
    "    all_species.update(frame.numbers)\n",
    "\n",
    "all_species = list(map(lambda u: int(u), all_species))\n",
    "\n",
    "# HYPERS_FROM_PAPER = {\n",
    "#     \"interaction_cutoff\": 5.0,\n",
    "#     \"max_angular\": 9,\n",
    "#     \"max_radial\": 12,\n",
    "#     \"gaussian_sigma_constant\": 0.3,\n",
    "#     \"gaussian_sigma_type\": \"Constant\",\n",
    "#     \"cutoff_smooth_width\": 0.5,\n",
    "#     \"radial_basis\": \"GTO\",\n",
    "#     \"compute_gradients\": False,\n",
    "#     \"expansion_by_species_method\": \"user defined\",\n",
    "#     \"global_species\": all_species,\n",
    "# }\n",
    "\n",
    "HYPERS_SMALL = {\n",
    "    \"cutoff\": 5.0,\n",
    "    \"max_angular\": 3,\n",
    "    \"max_radial\": 4,\n",
    "    \"atomic_gaussian_width\": 0.3,\n",
    "    \"cutoff_function\": {\"ShiftedCosine\": {\"width\": 0.5}},\n",
    "    \"radial_basis\": {\"Gto\": {}},\n",
    "    \"gradients\": False,\n",
    "}"
   ]
  },
  {
   "cell_type": "markdown",
   "metadata": {},
   "source": [
    "# Optimization loop, energies only"
   ]
  },
  {
   "cell_type": "code",
   "execution_count": 5,
   "metadata": {},
   "outputs": [],
   "source": [
    "device = \"cpu\"\n",
    "\n",
    "if torch.cuda.is_available():\n",
    "    device = \"cuda\""
   ]
  },
  {
   "cell_type": "code",
   "execution_count": 6,
   "metadata": {},
   "outputs": [],
   "source": [
    "train_dataset = AtomisticDataset(train_frames, all_species, HYPERS_SMALL, train_energies)\n",
    "test_dataset = AtomisticDataset(test_frames, all_species, HYPERS_SMALL, test_energies)"
   ]
  },
  {
   "cell_type": "code",
   "execution_count": 16,
   "metadata": {},
   "outputs": [],
   "source": [
    "train_dataloader = create_dataloader(\n",
    "    train_dataset,\n",
    "    batch_size=512,\n",
    "    shuffle=True,\n",
    "    device=device,\n",
    ")\n",
    "\n",
    "train_dataloader_no_batch = create_dataloader(\n",
    "    train_dataset,\n",
    "    batch_size=len(train_dataset),\n",
    "    shuffle=False,\n",
    "    device=device,\n",
    ")\n",
    "\n",
    "test_dataloader = create_dataloader(\n",
    "    test_dataset,\n",
    "    batch_size=100,\n",
    "    shuffle=False,\n",
    "    device=device,\n",
    ")"
   ]
  },
  {
   "cell_type": "code",
   "execution_count": 42,
   "metadata": {},
   "outputs": [],
   "source": [
    "def loss_optimizer(predicted, actual, regularizer, weights):\n",
    "    loss = torch.linalg.norm(predicted.flatten() - actual.flatten()) ** 2\n",
    "    # regularize the loss, full dataset std\n",
    "    loss += regularizer / torch.std(train_energies.flatten()) * torch.linalg.norm(weights) ** 2\n",
    "\n",
    "    return loss\n",
    "\n",
    "def loss_optimizer_forces(predicted, actual, predicted_f, actual_f, regularizer, weights):\n",
    "    loss = torch.linalg.norm(predicted.flatten() - actual.flatten()) ** 2\n",
    "    loss += torch.linalg.norm(predicted_f.flatten() - actual_f.flatten()) ** 2\n",
    "    # regularize the loss, full dataset std\n",
    "    loss += regularizer / torch.std(train_energies.flatten()) * torch.linalg.norm(weights) ** 2\n",
    "\n",
    "    return loss\n",
    "\n",
    "def loss_mae(predicted, actual):\n",
    "    return torch.mean(torch.abs(predicted.flatten() - actual.flatten()))\n",
    "\n",
    "def loss_rmse(predicted, actual):\n",
    "    return torch.sqrt(torch.mean((predicted.flatten() - actual.flatten())**2))"
   ]
  },
  {
   "cell_type": "code",
   "execution_count": 9,
   "metadata": {},
   "outputs": [],
   "source": [
    "class MixedSpeciesLinearModel(torch.nn.Module):\n",
    "    def __init__(self, \n",
    "        species, \n",
    "        n_pseudo_species, \n",
    "        regularizer,\n",
    "        optimizable_weights,\n",
    "        random_initial_weights,\n",
    "    ):\n",
    "        super().__init__()\n",
    "\n",
    "        self.sum_structure = SumStructures()\n",
    "        self.alchemical = AlchemicalCombine(species, n_pseudo_species)\n",
    "        self.power_spectrum = PowerSpectrum()\n",
    "        self.model = LinearModel(\n",
    "            regularizer=regularizer,\n",
    "            optimizable_weights=optimizable_weights,\n",
    "            random_initial_weights=random_initial_weights,\n",
    "        )\n",
    "\n",
    "        self.optimizable_weights = optimizable_weights\n",
    "        self.random_initial_weights = random_initial_weights\n",
    "\n",
    "    def forward(self, spherical_expansion, forward_forces=False):\n",
    "        # TODO: remove gradients if forward_forces is false\n",
    "\n",
    "        combined = self.alchemical(spherical_expansion)\n",
    "        power_spectrum = self.power_spectrum(combined)\n",
    "        power_spectrum_per_structure = self.sum_structure(power_spectrum)\n",
    "        energies, forces = self.model(power_spectrum_per_structure, with_forces=forward_forces)\n",
    "        return energies, forces\n",
    "\n",
    "    def initialize_model_weights(self, spherical_expansion, energies, forces=None):\n",
    "        combined = self.alchemical(spherical_expansion)\n",
    "        power_spectrum = self.power_spectrum(combined)\n",
    "        power_spectrum_per_structure = self.sum_structure(power_spectrum)\n",
    "        self.model.initialize_model_weights(power_spectrum_per_structure, energies, forces)\n",
    "        "
   ]
  },
  {
   "cell_type": "code",
   "execution_count": 10,
   "metadata": {},
   "outputs": [],
   "source": [
    "N_PSEUDO_SPECIES = 4\n",
    "TORCH_REGULARIZER = 1e-2\n",
    "LINALG_REGULARIZER_ENERGIES = 1e-2\n",
    "LINALG_REGULARIZER_FORCES = 1e-1\n",
    "\n",
    "mixed_species_model = MixedSpeciesLinearModel(\n",
    "    species=all_species, \n",
    "    n_pseudo_species=N_PSEUDO_SPECIES, \n",
    "    regularizer=[LINALG_REGULARIZER_ENERGIES, LINALG_REGULARIZER_FORCES],\n",
    "    optimizable_weights=True,\n",
    "    random_initial_weights=True,\n",
    ")"
   ]
  },
  {
   "cell_type": "code",
   "execution_count": 11,
   "metadata": {},
   "outputs": [],
   "source": [
    "mixed_species_model.to(device=device)\n",
    "\n",
    "# initialize the model\n",
    "with torch.no_grad():\n",
    "    for spherical_expansions, energies, _ in train_dataloader_no_batch:\n",
    "        # we want to intially train the model on all frames, to ensure the\n",
    "        # support points come from the full dataset.\n",
    "        mixed_species_model.initialize_model_weights(spherical_expansions, energies)\n",
    "\n",
    "if mixed_species_model.optimizable_weights:\n",
    "    torch_loss_regularizer = TORCH_REGULARIZER\n",
    "else:\n",
    "    torch_loss_regularizer = 0\n",
    "    # we can not use batches if we are training with linear algebra, we need to\n",
    "    # have all training frames available\n",
    "    assert train_dataloader.batch_size >= len(train_frames)"
   ]
  },
  {
   "cell_type": "code",
   "execution_count": 12,
   "metadata": {},
   "outputs": [],
   "source": [
    "lr = 0.1\n",
    "# optimizer = torch.optim.AdamW(\n",
    "#     mixed_species_model.parameters(), \n",
    "#     lr=lr, weight_decay=0.0\n",
    "# )\n",
    "\n",
    "optimizer = torch.optim.LBFGS(\n",
    "    mixed_species_model.parameters(), \n",
    "    lr=lr,\n",
    ")\n",
    "\n",
    "all_losses = []\n",
    "\n",
    "\n",
    "filename = f\"{mixed_species_model.__class__.__name__}-{N_PSEUDO_SPECIES}-mixed-{n_train}-train\"\n",
    "if mixed_species_model.optimizable_weights:\n",
    "    filename += \"-opt-weights\"\n",
    "\n",
    "if mixed_species_model.random_initial_weights:\n",
    "    filename += \"-random-weights\"\n",
    "\n",
    "output = open(f\"{filename}.dat\", \"w\")\n",
    "output.write(\"# epoch  train_loss  test_mae\\n\")\n",
    "n_epochs_total = 0"
   ]
  },
  {
   "cell_type": "code",
   "execution_count": 18,
   "metadata": {},
   "outputs": [
    {
     "name": "stdout",
     "output_type": "stream",
     "text": [
      "epoch 0 took 0.9261s, optimizer loss=2.211e+06, test mae=43.1\n",
      "epoch 1 took 1.003s, optimizer loss=1.147e+05, test mae=19.82\n",
      "epoch 2 took 1.023s, optimizer loss=2.194e+04, test mae=18.31\n",
      "epoch 3 took 1.282s, optimizer loss=5.217e+03, test mae=17.71\n",
      "epoch 4 took 1.028s, optimizer loss=2.503e+03, test mae=15.82\n"
     ]
    }
   ],
   "source": [
    "for epoch in range(5):\n",
    "    epoch_start = time.time()\n",
    "\n",
    "    # if UPDATE_SUPPORT_POINTS:\n",
    "    #     # to update the support points, we need to have all training data at\n",
    "    #     # once in memory\n",
    "    #     for spherical_expansions, species, slices, _ in train_dataloader_no_batch:\n",
    "    #         assert len(slices) == len(train_frames)\n",
    "    #         # use `select_again=True` to re-select the same number of support\n",
    "    #         # points. this might make convergence slower, but maybe able to\n",
    "    #         # reach a lower final loss?\n",
    "    #         #\n",
    "    #         # with `select_again=False`, the environments selected in the first\n",
    "    #         # fit above are used as support points\n",
    "    #         mixed_species_model.update_support_points(\n",
    "    #             spherical_expansions, species, slices, select_again=False\n",
    "    #         )\n",
    "\n",
    "    for spherical_expansions, energies, _ in train_dataloader:\n",
    "        def single_step():\n",
    "            optimizer.zero_grad()\n",
    "           \n",
    "            if not mixed_species_model.optimizable_weights:\n",
    "                mixed_species_model.initialize_model_weights(spherical_expansions, energies)\n",
    "                \n",
    "            predicted, _ = mixed_species_model(spherical_expansions)\n",
    "\n",
    "            loss = loss_optimizer(\n",
    "                predicted, \n",
    "                energies, \n",
    "                torch_loss_regularizer, \n",
    "                mixed_species_model.model.weights\n",
    "            )\n",
    "            loss.backward(retain_graph=False)\n",
    "\n",
    "            return loss\n",
    "            \n",
    "        loss = optimizer.step(single_step)\n",
    "        all_losses.append(loss.item())\n",
    "\n",
    "    epoch_time = time.time() - epoch_start\n",
    "    if epoch % 1 == 0:\n",
    "        with torch.no_grad():\n",
    "            predicted = []\n",
    "            reference = []\n",
    "            for spherical_expansions, energies, _ in test_dataloader:\n",
    "                reference.append(energies)\n",
    "                predicted_e, _ = mixed_species_model(spherical_expansions)\n",
    "                predicted.append(predicted_e)\n",
    "\n",
    "            reference = torch.vstack(reference)\n",
    "            predicted = torch.vstack(predicted)\n",
    "            mae = loss_mae(predicted, reference)\n",
    "\n",
    "            output.write(f\"{n_epochs_total} {loss} {mae}\\n\")\n",
    "            output.flush()\n",
    "\n",
    "        print(f\"epoch {n_epochs_total} took {epoch_time:.4}s, optimizer loss={loss.item():.4}, test mae={mae:.4}\")\n",
    "        \n",
    "    n_epochs_total += 1"
   ]
  },
  {
   "cell_type": "markdown",
   "metadata": {},
   "source": [
    "# Predicting forces with forward propagation"
   ]
  },
  {
   "cell_type": "code",
   "execution_count": 19,
   "metadata": {},
   "outputs": [],
   "source": [
    "HYPERS_GRAD = copy.deepcopy(HYPERS_SMALL)\n",
    "HYPERS_GRAD[\"gradients\"] = True\n",
    "\n",
    "test_dataset_grad = AtomisticDataset(test_frames, all_species, HYPERS_GRAD, test_energies, test_forces)\n",
    "\n",
    "test_dataloader_grad_no_batch = create_dataloader(\n",
    "    test_dataset_grad,\n",
    "    batch_size=len(test_dataset_grad),\n",
    "    shuffle=False,\n",
    "    device=device,\n",
    ")"
   ]
  },
  {
   "cell_type": "code",
   "execution_count": 20,
   "metadata": {},
   "outputs": [],
   "source": [
    "with torch.no_grad():\n",
    "    for spherical_expansions, energies, forces in test_dataloader_grad_no_batch:\n",
    "        predicted_e, predicted_f = mixed_species_model(spherical_expansions, forward_forces=True)"
   ]
  },
  {
   "cell_type": "code",
   "execution_count": 43,
   "metadata": {},
   "outputs": [
    {
     "data": {
      "image/png": "[encoded data removed]",
      "text/plain": [
       "<Figure size 1152x576 with 2 Axes>"
      ]
     },
     "metadata": {
      "needs_background": "light"
     },
     "output_type": "display_data"
    }
   ],
   "source": [
    "def parity_plots(energies, predicted_e, forces, predicted_f):\n",
    "    predicted_e = predicted_e.detach()\n",
    "    predicted_f = predicted_f.detach()\n",
    "\n",
    "    fig, (ax_e, ax_f) = plt.subplots(1, 2, figsize=(16, 8))\n",
    "\n",
    "    mae = loss_mae(predicted_e, energies)\n",
    "    rmse = loss_rmse(predicted_e, energies)\n",
    "    ax_e.scatter(energies.cpu(), predicted_e.cpu())\n",
    "    x = (torch.min(energies.flatten()).item(), torch.max(energies.flatten()).item())\n",
    "    ax_e.plot(x, x, color=\"red\")\n",
    "    ax_e.set_title(f\"energies, MAE={mae:.4}, RMSE={rmse:.4}\")\n",
    "    ax_e.set_xlabel(\"actual\")\n",
    "    ax_e.set_ylabel(\"predicted\")\n",
    "\n",
    "    mae = loss_mae(predicted_f, forces)\n",
    "    rmse = loss_rmse(predicted_f, forces)\n",
    "    ax_f.scatter(forces.cpu(), predicted_f.cpu())\n",
    "    x = (torch.min(forces.flatten()).item(), torch.max(forces.flatten()).item())\n",
    "    ax_f.plot(x, x, color=\"red\")\n",
    "    ax_f.set_title(f\"forces, MAE={mae:.4}, RMSE={rmse:.4}\")\n",
    "    ax_f.set_xlabel(\"actual\")\n",
    "    ax_f.set_ylabel(\"predicted\")\n",
    "\n",
    "    return fig\n",
    "\n",
    "fig = parity_plots(energies, predicted_e, forces, predicted_f)"
   ]
  },
  {
   "cell_type": "code",
   "execution_count": 25,
   "metadata": {},
   "outputs": [],
   "source": [
    "def check_finite_differences(model, frame, delta=1e-6):\n",
    "    frame = frame.copy()\n",
    "    delta_frame = frame.copy()\n",
    "    delta_frame.positions[3, 1] += delta\n",
    "\n",
    "    dataset = AtomisticDataset([frame, delta_frame], all_species, HYPERS_GRAD, torch.zeros(2, 1))\n",
    "    dataloader = create_dataloader(\n",
    "        dataset,\n",
    "        batch_size=len(dataset),\n",
    "        shuffle=False,\n",
    "        device=device,\n",
    "    )\n",
    "\n",
    "    for spherical_expansion, _, _ in dataloader:\n",
    "        predicted_e, predicted_f = model(spherical_expansion, forward_forces=True)\n",
    "\n",
    "    finite_diff = - (predicted_e[1] - predicted_e[0]) / delta\n",
    "    print(\"finite difference =\", finite_diff.item())\n",
    "    print(\"computed gradient =\", predicted_f[3, 1].item())"
   ]
  },
  {
   "cell_type": "code",
   "execution_count": 26,
   "metadata": {},
   "outputs": [
    {
     "name": "stdout",
     "output_type": "stream",
     "text": [
      "finite difference = 1.0766581226562266\n",
      "computed gradient = 1.0766378965515344\n"
     ]
    }
   ],
   "source": [
    "check_finite_differences(mixed_species_model, train_frames[22])"
   ]
  },
  {
   "cell_type": "markdown",
   "metadata": {},
   "source": [
    "## Training with forces, linear algebra"
   ]
  },
  {
   "cell_type": "code",
   "execution_count": 27,
   "metadata": {},
   "outputs": [],
   "source": [
    "# new_mixed_species_model = MixedSpeciesLinearModel(\n",
    "#     species=all_species, \n",
    "#     n_pseudo_species=N_PSEUDO_SPECIES, \n",
    "#     regularizer=[LINALG_REGULARIZER_ENERGIES, LINALG_REGULARIZER_FORCES],\n",
    "#     optimizable_weights=False,\n",
    "#     random_initial_weights=False, # <<<<==== VERY IMPORTANT\n",
    "# )\n",
    "\n",
    "# new_mixed_species_model.alchemical.combining_matrix = mixed_species_model.alchemical.combining_matrix"
   ]
  },
  {
   "cell_type": "code",
   "execution_count": 28,
   "metadata": {},
   "outputs": [],
   "source": [
    "train_dataset_grad = AtomisticDataset(train_frames, all_species, HYPERS_GRAD, train_energies, train_forces)\n",
    "\n",
    "train_dataloader_grad = create_dataloader(\n",
    "    train_dataset_grad,\n",
    "    batch_size=512,\n",
    "    shuffle=True,\n",
    "    device=device,\n",
    ")\n",
    "\n",
    "train_dataloader_grad_no_batch = create_dataloader(\n",
    "    train_dataset_grad,\n",
    "    batch_size=len(train_dataset_grad),\n",
    "    shuffle=False,\n",
    "    device=device,\n",
    ")"
   ]
  },
  {
   "cell_type": "code",
   "execution_count": 29,
   "metadata": {},
   "outputs": [],
   "source": [
    "# with cProfile.Profile() as profiler:\n",
    "#     with torch.no_grad():\n",
    "#         for spherical_expansions, energies, forces in train_dataloader_grad_no_batch:\n",
    "#             new_mixed_species_model.initialize_model_weights(spherical_expansions, energies, forces)"
   ]
  },
  {
   "cell_type": "code",
   "execution_count": 30,
   "metadata": {},
   "outputs": [],
   "source": [
    "# energies = None\n",
    "# forces = None\n",
    "\n",
    "# with torch.no_grad():\n",
    "#     for spherical_expansions, energies, forces in test_dataloader_grad_no_batch:\n",
    "#         predicted_e, predicted_f = new_mixed_species_model(spherical_expansions, forward_forces=True)"
   ]
  },
  {
   "cell_type": "code",
   "execution_count": 31,
   "metadata": {},
   "outputs": [],
   "source": [
    "# fig = parity_plots(energies, predicted_e, forces, predicted_f)"
   ]
  },
  {
   "cell_type": "markdown",
   "metadata": {},
   "source": [
    "# Optimization loop, energies and forces"
   ]
  },
  {
   "cell_type": "code",
   "execution_count": 33,
   "metadata": {},
   "outputs": [
    {
     "name": "stdout",
     "output_type": "stream",
     "text": [
      "epoch 5 took 42.27s, optimizer loss=1.087e+04, test mae=13.43\n",
      "epoch 6 took 42.08s, optimizer loss=8.174e+03, test mae=12.92\n",
      "epoch 7 took 42.32s, optimizer loss=6.473e+03, test mae=11.94\n",
      "epoch 8 took 43.71s, optimizer loss=5.751e+03, test mae=10.92\n",
      "epoch 9 took 42.98s, optimizer loss=5.162e+03, test mae=10.75\n"
     ]
    }
   ],
   "source": [
    "for epoch in range(5):\n",
    "    epoch_start = time.time()\n",
    "\n",
    "    for spherical_expansions, energies, forces in train_dataloader_grad:\n",
    "        def single_step():\n",
    "            optimizer.zero_grad()\n",
    "           \n",
    "            if not mixed_species_model.optimizable_weights:\n",
    "                mixed_species_model.initialize_model_weights(spherical_expansions, energies)\n",
    "                \n",
    "            predicted_e, predicted_f = mixed_species_model(spherical_expansions, forward_forces=True)\n",
    "\n",
    "            loss = loss_optimizer_forces(\n",
    "                predicted_e,\n",
    "                energies,\n",
    "                predicted_f,\n",
    "                forces,\n",
    "                torch_loss_regularizer,\n",
    "                mixed_species_model.model.weights\n",
    "            )\n",
    "            loss.backward(retain_graph=False)\n",
    "\n",
    "            return loss\n",
    "            \n",
    "        loss = optimizer.step(single_step)\n",
    "        all_losses.append(loss.item())\n",
    "\n",
    "    epoch_time = time.time() - epoch_start\n",
    "    if epoch % 1 == 0:\n",
    "        with torch.no_grad():\n",
    "            predicted = []\n",
    "            reference = []\n",
    "            for spherical_expansions, energies, _ in test_dataloader:\n",
    "                reference.append(energies)\n",
    "                predicted_e, _ = mixed_species_model(spherical_expansions)\n",
    "                predicted.append(predicted_e)\n",
    "\n",
    "            reference = torch.vstack(reference)\n",
    "            predicted = torch.vstack(predicted)\n",
    "            mae = loss_mae(predicted, reference)\n",
    "\n",
    "            output.write(f\"{n_epochs_total} {loss} {mae}\\n\")\n",
    "            output.flush()\n",
    "\n",
    "        print(f\"epoch {n_epochs_total} took {epoch_time:.4}s, optimizer loss={loss.item():.4}, test mae={mae:.4}\")\n",
    "        \n",
    "    n_epochs_total += 1"
   ]
  },
  {
   "cell_type": "code",
   "execution_count": 45,
   "metadata": {},
   "outputs": [],
   "source": [
    "energies = None\n",
    "forces = None\n",
    "\n",
    "with torch.no_grad():\n",
    "    for spherical_expansions, energies, forces in test_dataloader_grad_no_batch:\n",
    "        predicted_e, predicted_f = mixed_species_model(spherical_expansions, forward_forces=True)"
   ]
  },
  {
   "cell_type": "code",
   "execution_count": 46,
   "metadata": {},
   "outputs": [
    {
     "data": {
      "image/png": "[encoded data removed]",
      "text/plain": [
       "<Figure size 1152x576 with 2 Axes>"
      ]
     },
     "metadata": {
      "needs_background": "light"
     },
     "output_type": "display_data"
    }
   ],
   "source": [
    "fig = parity_plots(energies, predicted_e, forces, predicted_f)"
   ]
  },
  {
   "cell_type": "markdown",
   "metadata": {},
   "source": [
    "# TODO: predicting forces with backward propagation"
   ]
  },
  {
   "cell_type": "code",
   "execution_count": null,
   "metadata": {},
   "outputs": [],
   "source": []
  }
 ],
 "metadata": {
  "interpreter": {
   "hash": "e5ef12eb5922cf8d604aeb1dfa412e3da3665f54b5e701463f21d300328cee18"
  },
  "kernelspec": {
   "display_name": "Python 3.9.7 64-bit ('virtualenv': venv)",
   "language": "python",
   "name": "python3"
  },
  "language_info": {
   "codemirror_mode": {
    "name": "ipython",
    "version": 3
   },
   "file_extension": ".py",
   "mimetype": "text/x-python",
   "name": "python",
   "nbconvert_exporter": "python",
   "pygments_lexer": "ipython3",
   "version": "3.8.10"
  },
  "orig_nbformat": 4
 },
 "nbformat": 4,
 "nbformat_minor": 2
}
