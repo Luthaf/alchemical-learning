{
 "cells": [
  {
   "cell_type": "code",
   "execution_count": 1,
   "metadata": {},
   "outputs": [],
   "source": [
    "%load_ext autoreload\n",
    "%autoreload 2\n",
    "\n",
    "import numpy as np\n",
    "import torch\n",
    "#import torchviz\n",
    "import time\n",
    "import copy\n",
    "\n",
    "import matplotlib.pyplot as plt\n",
    "\n",
    "import ase.io\n",
    "\n",
    "from utils.soap import compute_spherical_expansion_librascal\n",
    "\n",
    "from utils.models import FullGapModel, SparseGapModel, PerSpeciesSparseGapModel, LinearModel\n",
    "from utils.models import MixedSpeciesFullGapModel, MixedSpeciesSparseGapModel, MixedSpeciesLinearModel\n",
    "\n",
    "torch.set_default_dtype(torch.float64)"
   ]
  },
  {
   "cell_type": "code",
   "execution_count": 2,
   "metadata": {},
   "outputs": [
    {
     "data": {
      "text/plain": [
       "True"
      ]
     },
     "execution_count": 2,
     "metadata": {},
     "output_type": "execute_result"
    }
   ],
   "source": [
    "torch.cuda.is_available()"
   ]
  },
  {
   "cell_type": "code",
   "execution_count": 3,
   "metadata": {},
   "outputs": [
    {
     "name": "stdout",
     "output_type": "stream",
     "text": [
      "using 80 training frames\n"
     ]
    }
   ],
   "source": [
    "n_frames = 100\n",
    "\n",
    "frames = ase.io.read(\"data/elpasolites_10590.xyz\", f\":{n_frames}\")\n",
    "#methane_frames = ase.io.read(\"data/methane-100.xyz\", f\":{n_frames}\")\n",
    "energies = torch.tensor(np.loadtxt(\"data/elpasolites_10590_evpa.dat\")[:n_frames])\n",
    "\n",
    "n_train = int(0.8 * len(frames))\n",
    "\n",
    "train_frames = frames[:n_train]\n",
    "test_frames = frames[n_train:]\n",
    "\n",
    "train_energies = energies[:n_train]\n",
    "test_energies = energies[n_train:]\n",
    "\n",
    "print(f\"using {n_train} training frames\")"
   ]
  },
  {
   "cell_type": "code",
   "execution_count": 4,
   "metadata": {},
   "outputs": [],
   "source": [
    "global_species = set()\n",
    "for frame in frames:\n",
    "    global_species.update(frame.numbers)\n",
    "\n",
    "global_species = list(map(lambda u: int(u), global_species))\n",
    "\n",
    "HYPERS_SMALL = {\n",
    "    \"interaction_cutoff\": 5.0,\n",
    "    \"max_angular\": 2,\n",
    "    \"max_radial\": 2,\n",
    "    \"gaussian_sigma_constant\": 0.3,\n",
    "    \"gaussian_sigma_type\": \"Constant\",\n",
    "    \"cutoff_smooth_width\": 0.5,\n",
    "    \"radial_basis\": \"GTO\",\n",
    "    \"compute_gradients\": False,\n",
    "    \"expansion_by_species_method\": \"user defined\",\n",
    "    \"global_species\": global_species,\n",
    "}\n",
    "\n",
    "HYPERS_MJW = {\n",
    "    \"interaction_cutoff\": 5.0,\n",
    "    \"max_angular\": 3,\n",
    "    \"max_radial\": 4,\n",
    "    \"gaussian_sigma_constant\": 0.3,\n",
    "    \"gaussian_sigma_type\": \"Constant\",\n",
    "    \"cutoff_smooth_width\": 0.5,\n",
    "    \"radial_basis\": \"GTO\",\n",
    "    \"compute_gradients\": False,\n",
    "    \"expansion_by_species_method\": \"user defined\",\n",
    "    \"global_species\": global_species,\n",
    "}"
   ]
  },
  {
   "cell_type": "markdown",
   "metadata": {},
   "source": [
    "# Validate utilities"
   ]
  },
  {
   "cell_type": "code",
   "execution_count": 5,
   "metadata": {},
   "outputs": [],
   "source": [
    "# import utils.gap\n",
    "\n",
    "# def structure_sum(kernel):\n",
    "#     return utils.gap.common.SumStructureKernel.apply(kernel, test_slices, train_slices)\n",
    "\n",
    "# rand_kernel = torch.rand((len(test_slices), len(train_slices)), requires_grad=True)\n",
    "# torch.autograd.gradcheck(structure_sum, rand_kernel, fast_mode=True)"
   ]
  },
  {
   "cell_type": "markdown",
   "metadata": {},
   "source": [
    "# Baseline: GAP model without species combination"
   ]
  },
  {
   "cell_type": "code",
   "execution_count": 6,
   "metadata": {},
   "outputs": [],
   "source": [
    "def evaluate_and_plot_model(model, name, file):\n",
    "    predicted_energies_training_set = model(\n",
    "        train_spherical_expansions, train_species, train_slices\n",
    "    )\n",
    "\n",
    "    predicted_energies_test_set = model(\n",
    "        test_spherical_expansions, test_species, test_slices\n",
    "    )\n",
    "\n",
    "    loss_fn = torch.nn.MSELoss()\n",
    "    train_loss = loss_fn(predicted_energies_training_set.squeeze(), train_energies)\n",
    "    test_loss = loss_fn(predicted_energies_test_set.squeeze(), test_energies)\n",
    "\n",
    "    train_loss *= 100 / train_energies.std()\n",
    "    test_loss *= 100 / test_energies.std()\n",
    "\n",
    "    fig, ax = plt.subplots(1, 2, figsize=(12, 5))\n",
    "\n",
    "    ax[0].scatter(train_energies, predicted_energies_training_set.detach().numpy())\n",
    "    x = np.linspace(train_energies.min(), train_energies.max(), 20)\n",
    "    ax[0].plot(x, x, color='r')\n",
    "\n",
    "    ax[0].set_title(f'Training set — loss = {train_loss:.3} %RMSE')\n",
    "    ax[0].set_xlabel('DFT')\n",
    "    ax[0].set_ylabel('Predicted')\n",
    "\n",
    "\n",
    "    ax[1].scatter(test_energies, predicted_energies_test_set.detach().numpy())\n",
    "    x = np.linspace(test_energies.min(), test_energies.max(), 20)\n",
    "    ax[1].plot(x, x, color='r')\n",
    "\n",
    "    ax[1].set_title(f'Test set — loss = {test_loss:.3} %RMSE')\n",
    "    ax[1].set_xlabel('DFT')\n",
    "    ax[1].set_ylabel('Predicted')\n",
    "\n",
    "    fig.suptitle(name)\n",
    "    fig.savefig(file, bbox_inches=\"tight\")"
   ]
  },
  {
   "cell_type": "code",
   "execution_count": 7,
   "metadata": {},
   "outputs": [],
   "source": [
    "# train_spherical_expansions, train_slices = compute_spherical_expansion_librascal(train_frames, HYPERS_SMALL)\n",
    "# test_spherical_expansions, test_slices = compute_spherical_expansion_librascal(test_frames, HYPERS_SMALL)\n",
    "\n",
    "# train_species = torch.hstack([torch.tensor(frame.numbers) for frame in train_frames])\n",
    "# test_species = torch.hstack([torch.tensor(frame.numbers) for frame in test_frames])"
   ]
  },
  {
   "cell_type": "markdown",
   "metadata": {},
   "source": [
    "# Linear model"
   ]
  },
  {
   "cell_type": "code",
   "execution_count": 8,
   "metadata": {},
   "outputs": [],
   "source": [
    "# linear = LinearModel(lambdas=[1e-6])\n",
    "# linear.fit(train_spherical_expansions, train_species, train_slices, train_energies)\n",
    "\n",
    "# evaluate_and_plot_model(\n",
    "#     linear, \n",
    "#     f\"Linear model\",\n",
    "#     \"linear.pdf\",\n",
    "# )"
   ]
  },
  {
   "cell_type": "markdown",
   "metadata": {},
   "source": [
    "# Full GAP"
   ]
  },
  {
   "cell_type": "code",
   "execution_count": 9,
   "metadata": {},
   "outputs": [],
   "source": [
    "# full_gap = FullGapModel(zeta=2, lambdas=[1e-1])\n",
    "# full_gap.fit(train_spherical_expansions, train_species, train_slices, train_energies)\n",
    "\n",
    "# evaluate_and_plot_model(\n",
    "#     full_gap, \n",
    "#     f\"Full GAP model\",\n",
    "#     \"full-gap.pdf\",\n",
    "# )"
   ]
  },
  {
   "cell_type": "markdown",
   "metadata": {},
   "source": [
    "# Sparse GAP"
   ]
  },
  {
   "cell_type": "code",
   "execution_count": 10,
   "metadata": {},
   "outputs": [],
   "source": [
    "# n_support = 100\n",
    "\n",
    "# sparse_gap = SparseGapModel(n_support=n_support, zeta=2, lambdas=[1e-1])\n",
    "# sparse_gap.fit(train_spherical_expansions, train_species, train_slices, train_energies)\n",
    "\n",
    "# evaluate_and_plot_model(\n",
    "#     sparse_gap, \n",
    "#     f\"Sparse GAP model — {n_support} GAP support point\",\n",
    "#     \"sparse-gap.pdf\",\n",
    "# )"
   ]
  },
  {
   "cell_type": "markdown",
   "metadata": {},
   "source": [
    "### Sparse GAP, one model per central atom species"
   ]
  },
  {
   "cell_type": "code",
   "execution_count": 11,
   "metadata": {},
   "outputs": [],
   "source": [
    "# n_support = {\n",
    "#     species: 5 for species in global_species\n",
    "# }\n",
    "\n",
    "# per_species_sparse_model = PerSpeciesSparseGapModel(\n",
    "#     n_support, \n",
    "#     zeta=2, \n",
    "#     lambdas=[1e-3], \n",
    "#     jitter=1e-10\n",
    "# )\n",
    "# per_species_sparse_model.fit(train_spherical_expansions, train_species, train_slices, train_energies)\n",
    "\n",
    "# evaluate_and_plot_model(\n",
    "#     per_species_sparse_model, \n",
    "#     f\"Sparse model per species — {sum(n_support.values())} GAP support point\",\n",
    "#     \"basic-sparse-per-species.pdf\",\n",
    "# )"
   ]
  },
  {
   "cell_type": "code",
   "execution_count": 12,
   "metadata": {},
   "outputs": [],
   "source": [
    "# # # plot computational graph on a smaller dataset\n",
    "# small_hypers = copy.deepcopy(HYPERS_SMALL)\n",
    "# small_hypers[\"max_angular\"] = 1\n",
    "# small_hypers[\"max_radial\"] = 1\n",
    "# small_hypers[\"global_species\"] = [6, 1]\n",
    "\n",
    "\n",
    "# for i in methane_frames:\n",
    "#     i.cell = np.array([50,50,50])\n",
    "#     i.center(axis = (0,1,2), about  = (25, 25, 25))\n",
    "# small_train_frames = methane_frames[2:4]\n",
    "# small_test_frames = methane_frames[:2]\n",
    "\n",
    "\n",
    "# small_train_energies = torch.tensor([f.info[\"energy\"] for f in small_train_frames])\n",
    "\n",
    "# small_train_spherical_expansions, small_train_slices = compute_spherical_expansion_librascal(\n",
    "#     small_train_frames, small_hypers\n",
    "# )\n",
    "# small_train_species = torch.hstack([torch.tensor(frame.numbers) for frame in small_train_frames])\n",
    "\n",
    "# small_test_spherical_expansions, small_test_slices = compute_spherical_expansion_librascal(\n",
    "#     small_test_frames, small_hypers\n",
    "# )\n",
    "# small_test_species = torch.hstack([torch.tensor(frame.numbers) for frame in small_test_frames])\n",
    "\n",
    "# small_n_support = {1: 10, 6: 10}\n",
    "\n",
    "# small_model = MixedSpeciesLinearModel(\n",
    "#     global_species, \n",
    "#     n_pseudo_species=2, \n",
    "#     lambdas=[1e-3, 1e-6],\n",
    "#     optimizable_weights=True,\n",
    "# )\n",
    "# small_model.fit(\n",
    "#     small_train_spherical_expansions, \n",
    "#     small_train_species, \n",
    "#     small_train_slices, \n",
    "#     small_train_energies\n",
    "# )\n",
    "\n",
    "# torchviz_params = {}\n",
    "# for l, sph in small_test_spherical_expansions.items():\n",
    "#     sph.requires_grad_(True)\n",
    "#     torchviz_params[f\"sph l={l}\"] = sph\n",
    "\n",
    "# #for s, w in small_model.model.weights.items():\n",
    "# #    w.requires_grad_(True)\n",
    "# #    torchviz_params[f\"weight species={s}\"] = w\n",
    "# torchviz_params[f\"weight species=1\"] = small_model.model.weights\n",
    "\n",
    "# result = small_model(small_test_spherical_expansions, small_test_species, small_test_slices)\n",
    "\n",
    "# torchviz.make_dot(result, params=torchviz_params)"
   ]
  },
  {
   "cell_type": "code",
   "execution_count": 13,
   "metadata": {},
   "outputs": [],
   "source": [
    "# for w in small_model.model.weights:\n",
    "#     print(w)"
   ]
  },
  {
   "cell_type": "markdown",
   "metadata": {},
   "source": [
    "# Combining species"
   ]
  },
  {
   "cell_type": "code",
   "execution_count": 14,
   "metadata": {},
   "outputs": [],
   "source": [
    "class AtomisticDataset(torch.utils.data.Dataset):\n",
    "    def __init__(self, frames, hypers, energies):\n",
    "        self.spherical_expansions = []\n",
    "        for frame in frames:\n",
    "            se, slices = compute_spherical_expansion_librascal([frame], hypers)\n",
    "            self.spherical_expansions.append(se)\n",
    "        \n",
    "        self.species = [torch.tensor(frame.numbers) for frame in frames]\n",
    "        self.energies = energies\n",
    "\n",
    "    def __len__(self):\n",
    "        return len(self.spherical_expansions)\n",
    "\n",
    "    def __getitem__(self, idx):\n",
    "        return self.spherical_expansions[idx], self.species[idx], self.energies[idx]"
   ]
  },
  {
   "cell_type": "code",
   "execution_count": 15,
   "metadata": {},
   "outputs": [],
   "source": [
    "def collate_data_cpu(data):\n",
    "    spherical_expansion = {\n",
    "        lambda_: torch.vstack([d[0][lambda_] for d in data])\n",
    "        for lambda_ in data[0][0].keys()\n",
    "    }\n",
    "\n",
    "    species = torch.hstack([d[1] for d in data])\n",
    "    energies = torch.vstack([d[2] for d in data])\n",
    "\n",
    "    slices = []\n",
    "    start = 0\n",
    "    for d in data:\n",
    "        stop = start + d[1].shape[0]\n",
    "        slices.append(slice(start, stop))\n",
    "        start = stop\n",
    "\n",
    "    return spherical_expansion, species, slices, energies\n",
    "\n",
    "def collate_data_gpu(data):\n",
    "    spherical_expansion, species, slices, energies = collate_data_cpu(data)\n",
    "\n",
    "    spherical_expansion = {\n",
    "        lambda_: se.to(device='cuda') for lambda_, se in spherical_expansion.items()\n",
    "    }\n",
    "\n",
    "    return spherical_expansion, species.to(device='cuda'), slices, energies.to(device='cuda')"
   ]
  },
  {
   "cell_type": "markdown",
   "metadata": {},
   "source": [
    "# Optimization loop using GPU"
   ]
  },
  {
   "cell_type": "code",
   "execution_count": 16,
   "metadata": {},
   "outputs": [],
   "source": [
    "train_dataset = AtomisticDataset(train_frames, HYPERS_MJW, train_energies)\n",
    "test_dataset = AtomisticDataset(test_frames, HYPERS_MJW, test_energies)"
   ]
  },
  {
   "cell_type": "code",
   "execution_count": 17,
   "metadata": {},
   "outputs": [],
   "source": [
    "N_PSEUDO_SPECIES = 4\n",
    "UPDATE_SUPPORT_POINTS = False\n",
    "\n",
    "# Full kernel, optimize everything with gradients\n",
    "mixed_species_model = MixedSpeciesFullGapModel(\n",
    "    global_species, \n",
    "    n_pseudo_species=N_PSEUDO_SPECIES, \n",
    "    zeta=1, \n",
    "    lambdas=[1e-3],\n",
    "    optimizable_weights=True,\n",
    "    random_initial_weights=True,\n",
    "    detach_support_points=True,\n",
    ")\n",
    "\n",
    "# # Full kernel, optimize species with gradients, weights with linear algebra\n",
    "# mixed_species_model = MixedSpeciesFullGapModel(\n",
    "#     global_species, \n",
    "#     n_pseudo_species=N_PSEUDO_SPECIES, \n",
    "#     zeta=1, \n",
    "#     lambdas=[1e-1, 1e-6],\n",
    "#     optimizable_weights=False,\n",
    "# )\n",
    "\n",
    "# # Sparse kernel, optimize everything with gradients\n",
    "# mixed_species_model = MixedSpeciesSparseGapModel(\n",
    "#     global_species, \n",
    "#     n_support=100,\n",
    "#     n_pseudo_species=N_PSEUDO_SPECIES, \n",
    "#     zeta=1, \n",
    "#     lambdas=[1e-3, 1e-6],\n",
    "#     optimizable_weights=True,\n",
    "# )\n",
    "\n",
    "# # Sparse kernel, optimize species with gradients, weights with linear algebra\n",
    "# mixed_species_model = MixedSpeciesSparseGapModel(\n",
    "#     global_species, \n",
    "#     n_support=100,\n",
    "#     n_pseudo_species=N_PSEUDO_SPECIES, \n",
    "#     zeta=1, \n",
    "#     lambdas=[1e-1, 1e-6],\n",
    "#     optimizable_weights=False,\n",
    "# )\n",
    "\n",
    "# # Linear regression, optimize everything with gradients\n",
    "# mixed_species_model = MixedSpeciesLinearModel(\n",
    "#     global_species, \n",
    "#     n_pseudo_species=N_PSEUDO_SPECIES, \n",
    "#     lambdas=[1e-3, 1e-6],\n",
    "#     optimizable_weights=True,\n",
    "# )"
   ]
  },
  {
   "cell_type": "code",
   "execution_count": 18,
   "metadata": {},
   "outputs": [],
   "source": [
    "device = \"cuda\"\n",
    "# device = \"cpu\"\n",
    "\n",
    "train_dataloader = torch.utils.data.DataLoader(\n",
    "    train_dataset, \n",
    "    batch_size=512, \n",
    "    shuffle=True,\n",
    "    collate_fn=collate_data_gpu if device == \"cuda\" else collate_data_cpu\n",
    ")\n",
    "\n",
    "# dataloader without batching for the initial fit\n",
    "train_dataloader_no_batch_cpu = torch.utils.data.DataLoader(\n",
    "    train_dataset, \n",
    "    batch_size=len(train_dataset), \n",
    "    shuffle=False,\n",
    "    collate_fn=collate_data_cpu\n",
    ")\n",
    "\n",
    "test_dataloader = torch.utils.data.DataLoader(\n",
    "    test_dataset, \n",
    "    batch_size=1, \n",
    "    shuffle=False,\n",
    "    collate_fn=collate_data_gpu if device == \"cuda\" else collate_data_cpu\n",
    ")\n"
   ]
  },
  {
   "cell_type": "code",
   "execution_count": 19,
   "metadata": {},
   "outputs": [],
   "source": [
    "def loss_optimizer(predicted, actual, regularizer, weights):\n",
    "    loss = torch.linalg.norm(predicted - actual) ** 2\n",
    "    # regularize the loss, full dataset std\n",
    "    loss += regularizer / torch.std(train_energies) * torch.linalg.norm(weights) ** 2\n",
    "\n",
    "    # TODO alternative: batch std\n",
    "    # loss += regularizer / torch.std(actual) * torch.linalg.norm(weights) ** 2\n",
    "    return loss\n",
    "\n",
    "def loss_mae(predicted, actual):\n",
    "    return torch.mean(torch.abs(predicted - actual))"
   ]
  },
  {
   "cell_type": "code",
   "execution_count": 20,
   "metadata": {},
   "outputs": [],
   "source": [
    "if mixed_species_model.optimizable_weights:\n",
    "    with torch.no_grad():\n",
    "        # initialize the weights to a nice value using fit\n",
    "        for spherical_expansions, species, slices, energies in train_dataloader_no_batch_cpu:\n",
    "            # we want to intially train the model on all frames, to ensure the\n",
    "            # support points come from the full dataset. This happens on CPU, the\n",
    "            # move to GPU is happening below\n",
    "            assert len(slices) == len(train_frames)\n",
    "            mixed_species_model.fit(spherical_expansions, species, slices, energies)\n",
    "\n",
    "\n",
    "if not mixed_species_model.optimizable_weights:\n",
    "    # we can not use batches if we are training with linear algebra, we need to\n",
    "    # have all training frames available\n",
    "    assert train_dataloader.batch_size >= len(train_frames)\n",
    "\n",
    "mixed_species_model.to(device=device)\n",
    "\n",
    "if mixed_species_model.optimizable_weights:\n",
    "    regularizer = 2e-3\n",
    "else:\n",
    "    regularizer = 0\n",
    "\n",
    "lrate = 0.1\n",
    "optimizer = torch.optim.AdamW(mixed_species_model.parameters(), lr=lrate)"
   ]
  },
  {
   "cell_type": "code",
   "execution_count": 21,
   "metadata": {},
   "outputs": [
    {
     "name": "stdout",
     "output_type": "stream",
     "text": [
      "epoch 0 took 0.3083s, optimizer loss=5.065e+07, test mae=465.7\n",
      "epoch 1 took 0.2928s, optimizer loss=1.906e+07, test mae=245.6\n",
      "epoch 2 took 0.2935s, optimizer loss=5.522e+06, test mae=120.1\n",
      "epoch 3 took 0.2939s, optimizer loss=1.484e+06, test mae=46.24\n",
      "epoch 4 took 0.2931s, optimizer loss=2.751e+05, test mae=11.51\n",
      "epoch 5 took 0.2934s, optimizer loss=2.236e+04, test mae=41.96\n",
      "epoch 6 took 0.2905s, optimizer loss=1.723e+05, test mae=71.68\n",
      "epoch 7 took 0.2926s, optimizer loss=4.958e+05, test mae=94.81\n",
      "epoch 8 took 0.2913s, optimizer loss=8.673e+05, test mae=112.0\n",
      "epoch 9 took 0.2905s, optimizer loss=1.204e+06, test mae=123.5\n",
      "epoch 10 took 0.29s, optimizer loss=1.454e+06, test mae=129.8\n",
      "epoch 11 took 0.2918s, optimizer loss=1.589e+06, test mae=131.4\n",
      "epoch 12 took 0.2922s, optimizer loss=1.607e+06, test mae=129.0\n",
      "epoch 13 took 0.2893s, optimizer loss=1.526e+06, test mae=123.3\n",
      "epoch 14 took 0.288s, optimizer loss=1.374e+06, test mae=115.0\n",
      "epoch 15 took 0.2901s, optimizer loss=1.182e+06, test mae=104.9\n",
      "epoch 16 took 0.2894s, optimizer loss=9.765e+05, test mae=93.62\n",
      "epoch 17 took 0.2918s, optimizer loss=7.763e+05, test mae=81.61\n",
      "epoch 18 took 0.2932s, optimizer loss=5.946e+05, test mae=69.3\n",
      "epoch 19 took 0.2909s, optimizer loss=4.383e+05, test mae=57.02\n",
      "epoch 20 took 0.2917s, optimizer loss=3.104e+05, test mae=44.99\n",
      "epoch 21 took 0.2931s, optimizer loss=2.11e+05, test mae=33.42\n",
      "epoch 22 took 0.2909s, optimizer loss=1.385e+05, test mae=23.19\n",
      "epoch 23 took 0.2919s, optimizer loss=9.033e+04, test mae=19.41\n",
      "epoch 24 took 0.2899s, optimizer loss=6.31e+04, test mae=19.79\n",
      "epoch 25 took 0.291s, optimizer loss=5.301e+04, test mae=21.54\n",
      "epoch 26 took 0.2897s, optimizer loss=5.598e+04, test mae=23.92\n",
      "epoch 27 took 0.2899s, optimizer loss=6.788e+04, test mae=26.71\n",
      "epoch 28 took 0.2909s, optimizer loss=8.472e+04, test mae=29.51\n",
      "epoch 29 took 0.2906s, optimizer loss=1.03e+05, test mae=32.01\n",
      "epoch 30 took 0.2915s, optimizer loss=1.196e+05, test mae=33.81\n",
      "epoch 31 took 0.2907s, optimizer loss=1.325e+05, test mae=35.02\n",
      "epoch 32 took 0.2885s, optimizer loss=1.402e+05, test mae=35.52\n",
      "epoch 33 took 0.2897s, optimizer loss=1.422e+05, test mae=35.21\n",
      "epoch 34 took 0.2929s, optimizer loss=1.388e+05, test mae=34.19\n",
      "epoch 35 took 0.2916s, optimizer loss=1.308e+05, test mae=32.61\n",
      "epoch 36 took 0.2911s, optimizer loss=1.193e+05, test mae=30.72\n",
      "epoch 37 took 0.2896s, optimizer loss=1.057e+05, test mae=28.62\n",
      "epoch 38 took 0.2901s, optimizer loss=9.145e+04, test mae=26.3\n",
      "epoch 39 took 0.2893s, optimizer loss=7.763e+04, test mae=23.97\n",
      "epoch 40 took 0.2891s, optimizer loss=6.522e+04, test mae=21.91\n",
      "epoch 41 took 0.2898s, optimizer loss=5.483e+04, test mae=19.98\n",
      "epoch 42 took 0.2902s, optimizer loss=4.675e+04, test mae=18.34\n",
      "epoch 43 took 0.2901s, optimizer loss=4.099e+04, test mae=17.14\n",
      "epoch 44 took 0.2926s, optimizer loss=3.729e+04, test mae=16.29\n",
      "epoch 45 took 0.2914s, optimizer loss=3.527e+04, test mae=15.51\n",
      "epoch 46 took 0.2907s, optimizer loss=3.444e+04, test mae=14.79\n",
      "epoch 47 took 0.2914s, optimizer loss=3.431e+04, test mae=14.3\n",
      "epoch 48 took 0.2917s, optimizer loss=3.442e+04, test mae=14.3\n",
      "epoch 49 took 0.2906s, optimizer loss=3.442e+04, test mae=14.29\n",
      "epoch 50 took 0.2918s, optimizer loss=3.404e+04, test mae=14.27\n",
      "epoch 51 took 0.2897s, optimizer loss=3.314e+04, test mae=14.18\n",
      "epoch 52 took 0.2933s, optimizer loss=3.167e+04, test mae=13.94\n",
      "epoch 53 took 0.2908s, optimizer loss=2.969e+04, test mae=13.58\n",
      "epoch 54 took 0.2903s, optimizer loss=2.733e+04, test mae=13.09\n",
      "epoch 55 took 0.2924s, optimizer loss=2.472e+04, test mae=12.53\n",
      "epoch 56 took 0.2911s, optimizer loss=2.205e+04, test mae=11.98\n",
      "epoch 57 took 0.2917s, optimizer loss=1.948e+04, test mae=11.56\n",
      "epoch 58 took 0.2892s, optimizer loss=1.713e+04, test mae=11.22\n",
      "epoch 59 took 0.2922s, optimizer loss=1.511e+04, test mae=10.9\n",
      "epoch 60 took 0.2904s, optimizer loss=1.346e+04, test mae=10.62\n",
      "epoch 61 took 0.2909s, optimizer loss=1.222e+04, test mae=10.54\n",
      "epoch 62 took 0.2888s, optimizer loss=1.134e+04, test mae=10.55\n",
      "epoch 63 took 0.2918s, optimizer loss=1.078e+04, test mae=10.6\n",
      "epoch 64 took 0.2923s, optimizer loss=1.047e+04, test mae=10.64\n",
      "epoch 65 took 0.2932s, optimizer loss=1.032e+04, test mae=10.66\n",
      "epoch 66 took 0.2934s, optimizer loss=1.027e+04, test mae=10.64\n",
      "epoch 67 took 0.2889s, optimizer loss=1.023e+04, test mae=10.6\n",
      "epoch 68 took 0.2931s, optimizer loss=1.016e+04, test mae=10.52\n",
      "epoch 69 took 0.2914s, optimizer loss=1.002e+04, test mae=10.42\n",
      "epoch 70 took 0.2899s, optimizer loss=9.796e+03, test mae=10.29\n",
      "epoch 71 took 0.292s, optimizer loss=9.492e+03, test mae=10.13\n",
      "epoch 72 took 0.2908s, optimizer loss=9.121e+03, test mae=9.959\n",
      "epoch 73 took 0.2873s, optimizer loss=8.707e+03, test mae=9.773\n",
      "epoch 74 took 0.2909s, optimizer loss=8.278e+03, test mae=9.607\n",
      "epoch 75 took 0.2911s, optimizer loss=7.861e+03, test mae=9.46\n",
      "epoch 76 took 0.2907s, optimizer loss=7.479e+03, test mae=9.326\n",
      "epoch 77 took 0.291s, optimizer loss=7.15e+03, test mae=9.195\n",
      "epoch 78 took 0.2931s, optimizer loss=6.88e+03, test mae=9.07\n",
      "epoch 79 took 0.2932s, optimizer loss=6.671e+03, test mae=8.956\n",
      "epoch 80 took 0.2911s, optimizer loss=6.518e+03, test mae=8.873\n",
      "epoch 81 took 0.2924s, optimizer loss=6.408e+03, test mae=8.823\n",
      "epoch 82 took 0.2905s, optimizer loss=6.33e+03, test mae=8.791\n",
      "epoch 83 took 0.291s, optimizer loss=6.267e+03, test mae=8.764\n",
      "epoch 84 took 0.2915s, optimizer loss=6.208e+03, test mae=8.74\n",
      "epoch 85 took 0.2914s, optimizer loss=6.142e+03, test mae=8.715\n",
      "epoch 86 took 0.2899s, optimizer loss=6.062e+03, test mae=8.69\n",
      "epoch 87 took 0.2911s, optimizer loss=5.965e+03, test mae=8.664\n",
      "epoch 88 took 0.2908s, optimizer loss=5.852e+03, test mae=8.64\n",
      "epoch 89 took 0.2917s, optimizer loss=5.725e+03, test mae=8.617\n",
      "epoch 90 took 0.2924s, optimizer loss=5.591e+03, test mae=8.595\n",
      "epoch 91 took 0.2911s, optimizer loss=5.456e+03, test mae=8.573\n",
      "epoch 92 took 0.2907s, optimizer loss=5.323e+03, test mae=8.552\n",
      "epoch 93 took 0.2904s, optimizer loss=5.2e+03, test mae=8.531\n",
      "epoch 94 took 0.2912s, optimizer loss=5.088e+03, test mae=8.51\n",
      "epoch 95 took 0.2905s, optimizer loss=4.988e+03, test mae=8.489\n",
      "epoch 96 took 0.2892s, optimizer loss=4.902e+03, test mae=8.469\n",
      "epoch 97 took 0.2906s, optimizer loss=4.827e+03, test mae=8.447\n",
      "epoch 98 took 0.2898s, optimizer loss=4.76e+03, test mae=8.426\n",
      "epoch 99 took 0.2902s, optimizer loss=4.699e+03, test mae=8.405\n"
     ]
    }
   ],
   "source": [
    "from datetime import datetime\n",
    "fname = 'tr'+str(n_train)+'_ts1000_rg'+str(regularizer)+'_opttrue_sparsep_noupdate_lr_mean_lr'+str(lrate)\n",
    "\n",
    "f = open(fname,'a+')\n",
    "f.write(f\"#epoch loss mae_test(eV/structure) {datetime.now()}\\n\")\n",
    "f.close()\n",
    "f = open(fname,'a+')\n",
    "\n",
    "all_losses = []\n",
    "for epoch in range(100):\n",
    "    epoch_start = time.time()\n",
    "\n",
    "    if UPDATE_SUPPORT_POINTS:\n",
    "        # to update the support points, we need to move to CPU to be able to fit\n",
    "        # all training data at once in memory\n",
    "        mixed_species_model.to(device=\"cpu\")\n",
    "        for spherical_expansions, species, slices, _ in train_dataloader_no_batch_cpu:\n",
    "            assert len(slices) == len(train_frames)\n",
    "            # use `select_again=True` to re-select the same number of support\n",
    "            # points. this might make convergence slower, but maybe able to\n",
    "            # reach a lower final loss?\n",
    "            #\n",
    "            # with `select_again=False`, the environments selected in the first\n",
    "            # fit above are used as support points\n",
    "            mixed_species_model.update_support_points(\n",
    "                spherical_expansions, species, select_again=False\n",
    "            )\n",
    "        mixed_species_model.to(device=device)\n",
    "\n",
    "    for spherical_expansions, species, slices, energies in train_dataloader:\n",
    "        def single_step():\n",
    "            optimizer.zero_grad()\n",
    "           \n",
    "            if not mixed_species_model.optimizable_weights:\n",
    "                mixed_species_model.fit(spherical_expansions, species, slices, energies)\n",
    "                \n",
    "            predicted = mixed_species_model(spherical_expansions, species, slices)    \n",
    "\n",
    "            loss = loss_optimizer(predicted, energies, regularizer, mixed_species_model.model.weights)\n",
    "            loss.backward()\n",
    "\n",
    "            return loss\n",
    "\n",
    "        loss = optimizer.step(single_step)\n",
    "        all_losses.append(loss.item())\n",
    "\n",
    "    epoch_time = time.time() - epoch_start\n",
    "    if epoch % 1 == 0:\n",
    "        with torch.no_grad():\n",
    "            predicted = []\n",
    "            for spherical_expansions, species, slices, energies in test_dataloader:\n",
    "                predicted.append(mixed_species_model(spherical_expansions, species, slices))\n",
    "\n",
    "            predicted = torch.vstack(predicted)\n",
    "            mae = loss_mae(predicted.cpu(), test_dataset.energies)\n",
    "            f.write(f\"{epoch} {loss.item():.4} {mae:.4} {datetime.now()}\\n\")\n",
    "            f.close()\n",
    "            f = open(fname,'a+')\n",
    "\n",
    "        print(f\"epoch {epoch} took {epoch_time:.4}s, optimizer loss={loss.item():.4}, test mae={mae:.4}\")"
   ]
  },
  {
   "cell_type": "code",
   "execution_count": 22,
   "metadata": {},
   "outputs": [
    {
     "data": {
      "text/plain": [
       "[<matplotlib.lines.Line2D at 0x7f8ff6e88e50>]"
      ]
     },
     "execution_count": 22,
     "metadata": {},
     "output_type": "execute_result"
    },
    {
     "data": {
      "image/png": "[encoded data removed]",
      "text/plain": [
       "<Figure size 432x288 with 1 Axes>"
      ]
     },
     "metadata": {
      "needs_background": "light"
     },
     "output_type": "display_data"
    }
   ],
   "source": [
    "plt.semilogy(all_losses)"
   ]
  },
  {
   "cell_type": "code",
   "execution_count": 23,
   "metadata": {},
   "outputs": [
    {
     "data": {
      "text/plain": [
       "<matplotlib.collections.PathCollection at 0x7f93d8ca02d0>"
      ]
     },
     "execution_count": 23,
     "metadata": {},
     "output_type": "execute_result"
    },
    {
     "data": {
      "image/png": "[encoded data removed]",
      "text/plain": [
       "<Figure size 432x288 with 1 Axes>"
      ]
     },
     "metadata": {
      "needs_background": "light"
     },
     "output_type": "display_data"
    }
   ],
   "source": [
    "species_combining_matrix = mixed_species_model.alchemical.combining_matrix.detach().cpu().numpy()\n",
    "\n",
    "plt.scatter(species_combining_matrix[:, 0], species_combining_matrix[:, 1])"
   ]
  },
  {
   "cell_type": "code",
   "execution_count": 24,
   "metadata": {},
   "outputs": [],
   "source": [
    "predicted = []\n",
    "for spherical_expansions, species, slices, energies in test_dataloader:\n",
    "    predicted.append(mixed_species_model(spherical_expansions, species, slices))\n",
    "\n",
    "predicted = torch.vstack(predicted)"
   ]
  },
  {
   "cell_type": "code",
   "execution_count": 25,
   "metadata": {},
   "outputs": [
    {
     "data": {
      "text/plain": [
       "<matplotlib.collections.PathCollection at 0x7f8ff6b52210>"
      ]
     },
     "execution_count": 25,
     "metadata": {},
     "output_type": "execute_result"
    },
    {
     "data": {
      "image/png": "[encoded data removed]",
      "text/plain": [
       "<Figure size 432x288 with 1 Axes>"
      ]
     },
     "metadata": {
      "needs_background": "light"
     },
     "output_type": "display_data"
    }
   ],
   "source": [
    "plt.scatter(test_dataset.energies, predicted.cpu().detach())"
   ]
  },
  {
   "cell_type": "code",
   "execution_count": null,
   "metadata": {},
   "outputs": [],
   "source": []
  }
 ],
 "metadata": {
  "interpreter": {
   "hash": "e5ef12eb5922cf8d604aeb1dfa412e3da3665f54b5e701463f21d300328cee18"
  },
  "kernelspec": {
   "display_name": "Python 3.9.7 64-bit ('virtualenv': venv)",
   "language": "python",
   "name": "python3"
  },
  "language_info": {
   "codemirror_mode": {
    "name": "ipython",
    "version": 3
   },
   "file_extension": ".py",
   "mimetype": "text/x-python",
   "name": "python",
   "nbconvert_exporter": "python",
   "pygments_lexer": "ipython3",
   "version": "3.7.7"
  },
  "orig_nbformat": 4
 },
 "nbformat": 4,
 "nbformat_minor": 2
}
